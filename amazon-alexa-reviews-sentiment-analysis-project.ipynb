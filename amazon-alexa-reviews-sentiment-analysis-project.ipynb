{
 "cells": [
  {
   "cell_type": "markdown",
   "id": "4e5c2355",
   "metadata": {
    "execution": {
     "iopub.execute_input": "2022-09-14T19:51:03.982358Z",
     "iopub.status.busy": "2022-09-14T19:51:03.981347Z",
     "iopub.status.idle": "2022-09-14T19:51:04.018800Z",
     "shell.execute_reply": "2022-09-14T19:51:04.017725Z",
     "shell.execute_reply.started": "2022-09-14T19:51:03.982315Z"
    },
    "papermill": {
     "duration": 0.009056,
     "end_time": "2022-09-19T11:15:27.598322",
     "exception": false,
     "start_time": "2022-09-19T11:15:27.589266",
     "status": "completed"
    },
    "tags": []
   },
   "source": [
    "# Sentiment Analyzer using machine learning models\n",
    "\n",
    "#### Data-set: Amazon Alexa Reviews\n"
   ]
  },
  {
   "cell_type": "code",
   "execution_count": 1,
   "id": "bace7759",
   "metadata": {
    "execution": {
     "iopub.execute_input": "2022-09-19T11:15:27.615676Z",
     "iopub.status.busy": "2022-09-19T11:15:27.615193Z",
     "iopub.status.idle": "2022-09-19T11:15:29.967830Z",
     "shell.execute_reply": "2022-09-19T11:15:29.966193Z"
    },
    "papermill": {
     "duration": 2.367991,
     "end_time": "2022-09-19T11:15:29.974091",
     "exception": false,
     "start_time": "2022-09-19T11:15:27.606100",
     "status": "completed"
    },
    "tags": []
   },
   "outputs": [
    {
     "name": "stdout",
     "output_type": "stream",
     "text": [
      "/kaggle/input/amazon-alexa-reviews/amazon_alexa.tsv\n",
      "(3150, 5)\n"
     ]
    },
    {
     "data": {
      "text/html": [
       "<div>\n",
       "<style scoped>\n",
       "    .dataframe tbody tr th:only-of-type {\n",
       "        vertical-align: middle;\n",
       "    }\n",
       "\n",
       "    .dataframe tbody tr th {\n",
       "        vertical-align: top;\n",
       "    }\n",
       "\n",
       "    .dataframe thead th {\n",
       "        text-align: right;\n",
       "    }\n",
       "</style>\n",
       "<table border=\"1\" class=\"dataframe\">\n",
       "  <thead>\n",
       "    <tr style=\"text-align: right;\">\n",
       "      <th></th>\n",
       "      <th>rating</th>\n",
       "      <th>date</th>\n",
       "      <th>variation</th>\n",
       "      <th>verified_reviews</th>\n",
       "      <th>feedback</th>\n",
       "    </tr>\n",
       "  </thead>\n",
       "  <tbody>\n",
       "    <tr>\n",
       "      <th>0</th>\n",
       "      <td>5</td>\n",
       "      <td>31-Jul-18</td>\n",
       "      <td>Charcoal Fabric</td>\n",
       "      <td>Love my Echo!</td>\n",
       "      <td>1</td>\n",
       "    </tr>\n",
       "    <tr>\n",
       "      <th>1</th>\n",
       "      <td>5</td>\n",
       "      <td>31-Jul-18</td>\n",
       "      <td>Charcoal Fabric</td>\n",
       "      <td>Loved it!</td>\n",
       "      <td>1</td>\n",
       "    </tr>\n",
       "    <tr>\n",
       "      <th>2</th>\n",
       "      <td>4</td>\n",
       "      <td>31-Jul-18</td>\n",
       "      <td>Walnut Finish</td>\n",
       "      <td>Sometimes while playing a game, you can answer...</td>\n",
       "      <td>1</td>\n",
       "    </tr>\n",
       "    <tr>\n",
       "      <th>3</th>\n",
       "      <td>5</td>\n",
       "      <td>31-Jul-18</td>\n",
       "      <td>Charcoal Fabric</td>\n",
       "      <td>I have had a lot of fun with this thing. My 4 ...</td>\n",
       "      <td>1</td>\n",
       "    </tr>\n",
       "    <tr>\n",
       "      <th>4</th>\n",
       "      <td>5</td>\n",
       "      <td>31-Jul-18</td>\n",
       "      <td>Charcoal Fabric</td>\n",
       "      <td>Music</td>\n",
       "      <td>1</td>\n",
       "    </tr>\n",
       "  </tbody>\n",
       "</table>\n",
       "</div>"
      ],
      "text/plain": [
       "   rating       date         variation  \\\n",
       "0       5  31-Jul-18  Charcoal Fabric    \n",
       "1       5  31-Jul-18  Charcoal Fabric    \n",
       "2       4  31-Jul-18    Walnut Finish    \n",
       "3       5  31-Jul-18  Charcoal Fabric    \n",
       "4       5  31-Jul-18  Charcoal Fabric    \n",
       "\n",
       "                                    verified_reviews  feedback  \n",
       "0                                      Love my Echo!         1  \n",
       "1                                          Loved it!         1  \n",
       "2  Sometimes while playing a game, you can answer...         1  \n",
       "3  I have had a lot of fun with this thing. My 4 ...         1  \n",
       "4                                              Music         1  "
      ]
     },
     "execution_count": 1,
     "metadata": {},
     "output_type": "execute_result"
    }
   ],
   "source": [
    "#!pip install nltk\n",
    "#nltk.download('stopwords')\n",
    "# nltk.download('wordnet')\n",
    "\n",
    "\n",
    "# Import the required libraires\n",
    "import numpy as np\n",
    "import pandas as pd\n",
    "\n",
    "# visualization libraries\n",
    "import matplotlib.pyplot as plt\n",
    "import seaborn as sns\n",
    "%matplotlib inline\n",
    "\n",
    "import re\n",
    "\n",
    "# Pre-processing library\n",
    "import nltk\n",
    "from nltk.corpus import stopwords\n",
    "from nltk.stem.porter import PorterStemmer\n",
    "from nltk.stem import WordNetLemmatizer\n",
    "from sklearn.feature_extraction.text import CountVectorizer\n",
    "from sklearn.feature_extraction.text import TfidfVectorizer\n",
    "\n",
    "\n",
    "from sklearn.model_selection import train_test_split\n",
    "\n",
    "# Models \n",
    "from sklearn import svm\n",
    "from sklearn.ensemble import RandomForestClassifier\n",
    "from sklearn.linear_model import LogisticRegression\n",
    "\n",
    "\n",
    "\n",
    "\n",
    "import os\n",
    "for dirname, _, filenames in os.walk('/kaggle/input'):\n",
    "    for filename in filenames:\n",
    "        print(os.path.join(dirname, filename))\n",
    "\n",
    "df = pd.read_csv(\"/kaggle/input/amazon-alexa-reviews/amazon_alexa.tsv\",sep=\"\\t\")\n",
    "print(df.shape)\n",
    "df.head()"
   ]
  },
  {
   "cell_type": "markdown",
   "id": "e08debe5",
   "metadata": {
    "papermill": {
     "duration": 0.007839,
     "end_time": "2022-09-19T11:15:29.990430",
     "exception": false,
     "start_time": "2022-09-19T11:15:29.982591",
     "status": "completed"
    },
    "tags": []
   },
   "source": [
    "### Check the data we are dealing with as well as some visualization"
   ]
  },
  {
   "cell_type": "code",
   "execution_count": 2,
   "id": "fa41bdf5",
   "metadata": {
    "execution": {
     "iopub.execute_input": "2022-09-19T11:15:30.007481Z",
     "iopub.status.busy": "2022-09-19T11:15:30.006195Z",
     "iopub.status.idle": "2022-09-19T11:15:30.285918Z",
     "shell.execute_reply": "2022-09-19T11:15:30.284584Z"
    },
    "papermill": {
     "duration": 0.291668,
     "end_time": "2022-09-19T11:15:30.289267",
     "exception": false,
     "start_time": "2022-09-19T11:15:29.997599",
     "status": "completed"
    },
    "tags": []
   },
   "outputs": [
    {
     "name": "stdout",
     "output_type": "stream",
     "text": [
      "          feedback\n",
      "count  3150.000000\n",
      "mean      0.918413\n",
      "std       0.273778\n",
      "min       0.000000\n",
      "25%       1.000000\n",
      "50%       1.000000\n",
      "75%       1.000000\n",
      "max       1.000000\n"
     ]
    },
    {
     "data": {
      "text/plain": [
       "array([[<AxesSubplot:title={'center':'feedback'}>]], dtype=object)"
      ]
     },
     "execution_count": 2,
     "metadata": {},
     "output_type": "execute_result"
    },
    {
     "data": {
      "image/png": "[encoded data removed]",
      "text/plain": [
       "<Figure size 432x288 with 1 Axes>"
      ]
     },
     "metadata": {
      "needs_background": "light"
     },
     "output_type": "display_data"
    }
   ],
   "source": [
    "# Drop unrelated columns\n",
    "df = df.drop(['date','variation','rating'],axis=1)\n",
    "print(df.describe())\n",
    "df.hist()"
   ]
  },
  {
   "cell_type": "code",
   "execution_count": 3,
   "id": "f347a02b",
   "metadata": {
    "execution": {
     "iopub.execute_input": "2022-09-19T11:15:30.307359Z",
     "iopub.status.busy": "2022-09-19T11:15:30.306612Z",
     "iopub.status.idle": "2022-09-19T11:15:30.317070Z",
     "shell.execute_reply": "2022-09-19T11:15:30.315676Z"
    },
    "papermill": {
     "duration": 0.023177,
     "end_time": "2022-09-19T11:15:30.320371",
     "exception": false,
     "start_time": "2022-09-19T11:15:30.297194",
     "status": "completed"
    },
    "tags": []
   },
   "outputs": [
    {
     "data": {
      "text/plain": [
       "verified_reviews    0\n",
       "feedback            0\n",
       "dtype: int64"
      ]
     },
     "execution_count": 3,
     "metadata": {},
     "output_type": "execute_result"
    }
   ],
   "source": [
    "# Check for null values\n",
    "df.isnull().sum()"
   ]
  },
  {
   "cell_type": "markdown",
   "id": "f1d403ed",
   "metadata": {
    "papermill": {
     "duration": 0.007477,
     "end_time": "2022-09-19T11:15:30.336279",
     "exception": false,
     "start_time": "2022-09-19T11:15:30.328802",
     "status": "completed"
    },
    "tags": []
   },
   "source": [
    "### Clean and vectorize the *review* column so we can start working on it "
   ]
  },
  {
   "cell_type": "code",
   "execution_count": 4,
   "id": "66e83d79",
   "metadata": {
    "execution": {
     "iopub.execute_input": "2022-09-19T11:15:30.355210Z",
     "iopub.status.busy": "2022-09-19T11:15:30.354796Z",
     "iopub.status.idle": "2022-09-19T11:15:32.563037Z",
     "shell.execute_reply": "2022-09-19T11:15:32.561523Z"
    },
    "papermill": {
     "duration": 2.221073,
     "end_time": "2022-09-19T11:15:32.566007",
     "exception": false,
     "start_time": "2022-09-19T11:15:30.344934",
     "status": "completed"
    },
    "tags": []
   },
   "outputs": [],
   "source": [
    "def clean_rev(review):\n",
    "    stopwords = set(nltk.corpus.stopwords.words('english'))\n",
    "    stopwords.remove('not')\n",
    "    stopwords.remove('nor')\n",
    "    review = review.lower()\n",
    "    review = re.sub(\"[^A-Za-z0-9]\",' ',review)\n",
    "    review = re.sub(r'[0-9]+',' ',review)\n",
    "    review = \" \".join(PorterStemmer().stem(i) for i in review.split() if i not in stopwords)\n",
    "    \n",
    "    return review\n",
    "\n",
    "df['verified_reviews'] = df['verified_reviews'].apply(lambda rev: clean_rev(rev))\n"
   ]
  },
  {
   "cell_type": "markdown",
   "id": "208c167c",
   "metadata": {
    "papermill": {
     "duration": 0.00743,
     "end_time": "2022-09-19T11:15:32.581642",
     "exception": false,
     "start_time": "2022-09-19T11:15:32.574212",
     "status": "completed"
    },
    "tags": []
   },
   "source": [
    "### Create Vectorizer and TF-IDF"
   ]
  },
  {
   "cell_type": "code",
   "execution_count": 5,
   "id": "17bdb348",
   "metadata": {
    "execution": {
     "iopub.execute_input": "2022-09-19T11:15:32.599277Z",
     "iopub.status.busy": "2022-09-19T11:15:32.598882Z",
     "iopub.status.idle": "2022-09-19T11:15:32.798045Z",
     "shell.execute_reply": "2022-09-19T11:15:32.796745Z"
    },
    "papermill": {
     "duration": 0.211413,
     "end_time": "2022-09-19T11:15:32.800896",
     "exception": false,
     "start_time": "2022-09-19T11:15:32.589483",
     "status": "completed"
    },
    "tags": []
   },
   "outputs": [],
   "source": [
    "vectorizer = CountVectorizer(max_features=5000)\n",
    "vectorizer.fit_transform(df['verified_reviews'])\n",
    "\n",
    "x_count_vectorized = vectorizer.transform(df['verified_reviews'])\n",
    "\n",
    "\n",
    "tfidfer = TfidfVectorizer()\n",
    "tfidfer.fit_transform(df['verified_reviews'])\n",
    "x = tfidfer.transform(df['verified_reviews'])"
   ]
  },
  {
   "cell_type": "markdown",
   "id": "fb0cbf00",
   "metadata": {
    "papermill": {
     "duration": 0.008577,
     "end_time": "2022-09-19T11:15:32.818631",
     "exception": false,
     "start_time": "2022-09-19T11:15:32.810054",
     "status": "completed"
    },
    "tags": []
   },
   "source": [
    "### Create training sets"
   ]
  },
  {
   "cell_type": "code",
   "execution_count": 6,
   "id": "a5debd06",
   "metadata": {
    "execution": {
     "iopub.execute_input": "2022-09-19T11:15:32.837961Z",
     "iopub.status.busy": "2022-09-19T11:15:32.837514Z",
     "iopub.status.idle": "2022-09-19T11:15:33.011246Z",
     "shell.execute_reply": "2022-09-19T11:15:33.009787Z"
    },
    "papermill": {
     "duration": 0.18637,
     "end_time": "2022-09-19T11:15:33.013912",
     "exception": false,
     "start_time": "2022-09-19T11:15:32.827542",
     "status": "completed"
    },
    "tags": []
   },
   "outputs": [
    {
     "name": "stdout",
     "output_type": "stream",
     "text": [
      "1    2321\n",
      "0     199\n",
      "Name: feedback, dtype: int64\n",
      "1    2321\n",
      "0    2321\n",
      "Name: feedback, dtype: int64\n",
      "0    199\n",
      "1    199\n",
      "Name: feedback, dtype: int64\n"
     ]
    }
   ],
   "source": [
    "y = df['feedback']\n",
    "x_train, x_test ,y_train,y_test = train_test_split(x,y,test_size=0.2,random_state=42)\n",
    "\n",
    "# Oversampling\n",
    "from imblearn.over_sampling import RandomOverSampler\n",
    "# define oversampling strategy\n",
    "oversample = RandomOverSampler(sampling_strategy='minority')\n",
    "# fit and apply the transform\n",
    "print(y_train.value_counts())\n",
    "x_train_oversampled, y_train_oversampled = oversample.fit_resample(x_train, y_train)\n",
    "print(y_train_oversampled.value_counts())\n",
    "\n",
    "# Undersampling\n",
    "from imblearn.under_sampling import RandomUnderSampler\n",
    "# define undersample strategy\n",
    "undersample = RandomUnderSampler(sampling_strategy='majority')\n",
    "# fit and apply the transform\n",
    "x_train_undersampled, y_train_undersampled = undersample.fit_resample(x_train, y_train)\n",
    "print(y_train_undersampled.value_counts())"
   ]
  },
  {
   "cell_type": "markdown",
   "id": "d656a1f6",
   "metadata": {
    "papermill": {
     "duration": 0.007661,
     "end_time": "2022-09-19T11:15:33.029994",
     "exception": false,
     "start_time": "2022-09-19T11:15:33.022333",
     "status": "completed"
    },
    "tags": []
   },
   "source": [
    "### Start by using SVM and creating and training model"
   ]
  },
  {
   "cell_type": "code",
   "execution_count": 7,
   "id": "9fe37ea8",
   "metadata": {
    "execution": {
     "iopub.execute_input": "2022-09-19T11:15:33.048001Z",
     "iopub.status.busy": "2022-09-19T11:15:33.047557Z",
     "iopub.status.idle": "2022-09-19T11:15:33.623803Z",
     "shell.execute_reply": "2022-09-19T11:15:33.622549Z"
    },
    "papermill": {
     "duration": 0.588439,
     "end_time": "2022-09-19T11:15:33.626734",
     "exception": false,
     "start_time": "2022-09-19T11:15:33.038295",
     "status": "completed"
    },
    "tags": []
   },
   "outputs": [],
   "source": [
    "model_smv = svm.SVC()\n",
    "model_smv.fit(x_train, y_train)\n",
    "smv_pred = model_smv.predict(x_test)"
   ]
  },
  {
   "cell_type": "code",
   "execution_count": 8,
   "id": "c923f201",
   "metadata": {
    "execution": {
     "iopub.execute_input": "2022-09-19T11:15:33.645212Z",
     "iopub.status.busy": "2022-09-19T11:15:33.644774Z",
     "iopub.status.idle": "2022-09-19T11:15:34.273427Z",
     "shell.execute_reply": "2022-09-19T11:15:34.272492Z"
    },
    "papermill": {
     "duration": 0.641912,
     "end_time": "2022-09-19T11:15:34.276979",
     "exception": false,
     "start_time": "2022-09-19T11:15:33.635067",
     "status": "completed"
    },
    "tags": []
   },
   "outputs": [],
   "source": [
    "# with cleass weight balanced\n",
    "model_smv = svm.SVC(class_weight='balanced')\n",
    "model_smv.fit(x_train, y_train)\n",
    "smv_pred_balanced = model_smv.predict(x_test)"
   ]
  },
  {
   "cell_type": "code",
   "execution_count": 9,
   "id": "0fff05da",
   "metadata": {
    "execution": {
     "iopub.execute_input": "2022-09-19T11:15:34.301977Z",
     "iopub.status.busy": "2022-09-19T11:15:34.300734Z",
     "iopub.status.idle": "2022-09-19T11:15:35.523937Z",
     "shell.execute_reply": "2022-09-19T11:15:35.522254Z"
    },
    "papermill": {
     "duration": 1.24001,
     "end_time": "2022-09-19T11:15:35.526861",
     "exception": false,
     "start_time": "2022-09-19T11:15:34.286851",
     "status": "completed"
    },
    "tags": []
   },
   "outputs": [],
   "source": [
    "# Now repeat but with oversampling\n",
    "model_smv = svm.SVC()\n",
    "model_smv.fit(x_train_oversampled, y_train_oversampled)\n",
    "smv_oversampled_pred = model_smv.predict(x_test)"
   ]
  },
  {
   "cell_type": "code",
   "execution_count": 10,
   "id": "43ba6773",
   "metadata": {
    "execution": {
     "iopub.execute_input": "2022-09-19T11:15:35.544562Z",
     "iopub.status.busy": "2022-09-19T11:15:35.544122Z",
     "iopub.status.idle": "2022-09-19T11:15:35.608846Z",
     "shell.execute_reply": "2022-09-19T11:15:35.607504Z"
    },
    "papermill": {
     "duration": 0.077059,
     "end_time": "2022-09-19T11:15:35.611717",
     "exception": false,
     "start_time": "2022-09-19T11:15:35.534658",
     "status": "completed"
    },
    "tags": []
   },
   "outputs": [],
   "source": [
    "# Now repeat but with undersampling\n",
    "model_smv = svm.SVC()\n",
    "model_smv.fit(x_train_undersampled, y_train_undersampled)\n",
    "smv_undersampled_pred = model_smv.predict(x_test)"
   ]
  },
  {
   "cell_type": "markdown",
   "id": "575a647d",
   "metadata": {
    "papermill": {
     "duration": 0.007429,
     "end_time": "2022-09-19T11:15:35.627130",
     "exception": false,
     "start_time": "2022-09-19T11:15:35.619701",
     "status": "completed"
    },
    "tags": []
   },
   "source": [
    "### Now the same for RandomForest model"
   ]
  },
  {
   "cell_type": "code",
   "execution_count": 11,
   "id": "4a28bedf",
   "metadata": {
    "execution": {
     "iopub.execute_input": "2022-09-19T11:15:35.644637Z",
     "iopub.status.busy": "2022-09-19T11:15:35.644212Z",
     "iopub.status.idle": "2022-09-19T11:15:37.237235Z",
     "shell.execute_reply": "2022-09-19T11:15:37.235815Z"
    },
    "papermill": {
     "duration": 1.605074,
     "end_time": "2022-09-19T11:15:37.240071",
     "exception": false,
     "start_time": "2022-09-19T11:15:35.634997",
     "status": "completed"
    },
    "tags": []
   },
   "outputs": [],
   "source": [
    "model_RFC = RandomForestClassifier()\n",
    "model_RFC.fit(x_train,y_train)\n",
    "RFC_pred = model_RFC.predict(x_test)"
   ]
  },
  {
   "cell_type": "code",
   "execution_count": 12,
   "id": "9a0cc2c7",
   "metadata": {
    "execution": {
     "iopub.execute_input": "2022-09-19T11:15:37.258179Z",
     "iopub.status.busy": "2022-09-19T11:15:37.257733Z",
     "iopub.status.idle": "2022-09-19T11:15:38.592132Z",
     "shell.execute_reply": "2022-09-19T11:15:38.590913Z"
    },
    "papermill": {
     "duration": 1.346758,
     "end_time": "2022-09-19T11:15:38.594983",
     "exception": false,
     "start_time": "2022-09-19T11:15:37.248225",
     "status": "completed"
    },
    "tags": []
   },
   "outputs": [],
   "source": [
    "# with class weight balanced\n",
    "model_RFC = RandomForestClassifier(class_weight='balanced')\n",
    "model_RFC.fit(x_train,y_train)\n",
    "RFC_pred_balanced = model_RFC.predict(x_test)"
   ]
  },
  {
   "cell_type": "code",
   "execution_count": 13,
   "id": "c50fbf96",
   "metadata": {
    "execution": {
     "iopub.execute_input": "2022-09-19T11:15:38.612043Z",
     "iopub.status.busy": "2022-09-19T11:15:38.611640Z",
     "iopub.status.idle": "2022-09-19T11:15:40.588891Z",
     "shell.execute_reply": "2022-09-19T11:15:40.587736Z"
    },
    "papermill": {
     "duration": 1.988912,
     "end_time": "2022-09-19T11:15:40.591631",
     "exception": false,
     "start_time": "2022-09-19T11:15:38.602719",
     "status": "completed"
    },
    "tags": []
   },
   "outputs": [],
   "source": [
    "# Now repeat but with oversampling\n",
    "model_RFC = RandomForestClassifier()\n",
    "model_RFC.fit(x_train_oversampled,y_train_oversampled)\n",
    "RFC_oversampled_pred = model_RFC.predict(x_test)"
   ]
  },
  {
   "cell_type": "code",
   "execution_count": 14,
   "id": "cdbe3fcb",
   "metadata": {
    "execution": {
     "iopub.execute_input": "2022-09-19T11:15:40.612161Z",
     "iopub.status.busy": "2022-09-19T11:15:40.611301Z",
     "iopub.status.idle": "2022-09-19T11:15:40.958112Z",
     "shell.execute_reply": "2022-09-19T11:15:40.956796Z"
    },
    "papermill": {
     "duration": 0.359199,
     "end_time": "2022-09-19T11:15:40.961043",
     "exception": false,
     "start_time": "2022-09-19T11:15:40.601844",
     "status": "completed"
    },
    "tags": []
   },
   "outputs": [],
   "source": [
    "# Now repeat but with undersampling\n",
    "model_RFC = RandomForestClassifier()\n",
    "model_RFC.fit(x_train_undersampled,y_train_undersampled)\n",
    "RFC_undersampled_pred = model_RFC.predict(x_test)"
   ]
  },
  {
   "cell_type": "markdown",
   "id": "e743e9d6",
   "metadata": {
    "papermill": {
     "duration": 0.008025,
     "end_time": "2022-09-19T11:15:40.976875",
     "exception": false,
     "start_time": "2022-09-19T11:15:40.968850",
     "status": "completed"
    },
    "tags": []
   },
   "source": [
    "### Now the same for Logistic Regression model"
   ]
  },
  {
   "cell_type": "code",
   "execution_count": 15,
   "id": "86d72fe3",
   "metadata": {
    "execution": {
     "iopub.execute_input": "2022-09-19T11:15:40.994832Z",
     "iopub.status.busy": "2022-09-19T11:15:40.994394Z",
     "iopub.status.idle": "2022-09-19T11:15:41.080584Z",
     "shell.execute_reply": "2022-09-19T11:15:41.079063Z"
    },
    "papermill": {
     "duration": 0.098496,
     "end_time": "2022-09-19T11:15:41.083692",
     "exception": false,
     "start_time": "2022-09-19T11:15:40.985196",
     "status": "completed"
    },
    "tags": []
   },
   "outputs": [],
   "source": [
    "# Now the same for Logistic Regression\n",
    "model_LR = LogisticRegression()\n",
    "model_LR.fit(x_train,y_train)\n",
    "LR_pred = model_RFC.predict(x_test)"
   ]
  },
  {
   "cell_type": "code",
   "execution_count": 16,
   "id": "2f86efd2",
   "metadata": {
    "execution": {
     "iopub.execute_input": "2022-09-19T11:15:41.101812Z",
     "iopub.status.busy": "2022-09-19T11:15:41.101393Z",
     "iopub.status.idle": "2022-09-19T11:15:41.166571Z",
     "shell.execute_reply": "2022-09-19T11:15:41.164901Z"
    },
    "papermill": {
     "duration": 0.077612,
     "end_time": "2022-09-19T11:15:41.169356",
     "exception": false,
     "start_time": "2022-09-19T11:15:41.091744",
     "status": "completed"
    },
    "tags": []
   },
   "outputs": [],
   "source": [
    "# Now repeat but with class weight balanced\n",
    "model_LR = LogisticRegression(class_weight='balanced')\n",
    "model_LR.fit(x_train,y_train)\n",
    "LR_pred_balanced = model_RFC.predict(x_test)"
   ]
  },
  {
   "cell_type": "code",
   "execution_count": 17,
   "id": "8081a859",
   "metadata": {
    "execution": {
     "iopub.execute_input": "2022-09-19T11:15:41.187253Z",
     "iopub.status.busy": "2022-09-19T11:15:41.186825Z",
     "iopub.status.idle": "2022-09-19T11:15:41.266843Z",
     "shell.execute_reply": "2022-09-19T11:15:41.265458Z"
    },
    "papermill": {
     "duration": 0.092769,
     "end_time": "2022-09-19T11:15:41.269960",
     "exception": false,
     "start_time": "2022-09-19T11:15:41.177191",
     "status": "completed"
    },
    "tags": []
   },
   "outputs": [],
   "source": [
    "# Now repeat but with oversampling\n",
    "model_LR = LogisticRegression()\n",
    "model_LR.fit(x_train_oversampled,y_train_oversampled)\n",
    "LR_oversampled_pred = model_RFC.predict(x_test)"
   ]
  },
  {
   "cell_type": "code",
   "execution_count": 18,
   "id": "507176c2",
   "metadata": {
    "execution": {
     "iopub.execute_input": "2022-09-19T11:15:41.288020Z",
     "iopub.status.busy": "2022-09-19T11:15:41.287194Z",
     "iopub.status.idle": "2022-09-19T11:15:41.345936Z",
     "shell.execute_reply": "2022-09-19T11:15:41.344519Z"
    },
    "papermill": {
     "duration": 0.070997,
     "end_time": "2022-09-19T11:15:41.348831",
     "exception": false,
     "start_time": "2022-09-19T11:15:41.277834",
     "status": "completed"
    },
    "tags": []
   },
   "outputs": [],
   "source": [
    "# Now repeat but with undersampling\n",
    "model_LR = LogisticRegression()\n",
    "model_LR.fit(x_train_undersampled,y_train_undersampled)\n",
    "LR_undersampled_pred = model_RFC.predict(x_test)"
   ]
  },
  {
   "cell_type": "markdown",
   "id": "8a9b3d54",
   "metadata": {
    "papermill": {
     "duration": 0.008047,
     "end_time": "2022-09-19T11:15:41.365098",
     "exception": false,
     "start_time": "2022-09-19T11:15:41.357051",
     "status": "completed"
    },
    "tags": []
   },
   "source": [
    "### import metrics and see the performance of both models"
   ]
  },
  {
   "cell_type": "code",
   "execution_count": 19,
   "id": "89ee7f67",
   "metadata": {
    "execution": {
     "iopub.execute_input": "2022-09-19T11:15:41.383022Z",
     "iopub.status.busy": "2022-09-19T11:15:41.382279Z",
     "iopub.status.idle": "2022-09-19T11:15:41.455599Z",
     "shell.execute_reply": "2022-09-19T11:15:41.453588Z"
    },
    "papermill": {
     "duration": 0.085745,
     "end_time": "2022-09-19T11:15:41.458688",
     "exception": false,
     "start_time": "2022-09-19T11:15:41.372943",
     "status": "completed"
    },
    "tags": []
   },
   "outputs": [
    {
     "name": "stdout",
     "output_type": "stream",
     "text": [
      "############    SVM     #################\n",
      "SVM(normal):\n",
      "Confusion matrix: \n",
      "[[ 14  44]\n",
      " [  0 572]]\n",
      "\n",
      "The F1 score is: 67.5925925925926\n",
      "The precision score is: 96.42857142857143\n",
      "The recall score is: 62.06896551724138\n",
      "The accuracy score is: 93.01587301587301\n",
      "\n",
      "\n",
      "\n",
      "SVM(balanced):\n",
      "Confusion matrix: \n",
      "[[ 29  29]\n",
      " [ 15 557]]\n",
      "\n",
      "The F1 score is: 76.53154526059129\n",
      "The precision score is: 80.48014272417004\n",
      "The recall score is: 73.68881118881119\n",
      "The accuracy score is: 93.01587301587301\n",
      "\n",
      "\n",
      "\n",
      "SVM(oversampled):\n",
      "Confusion matrix: \n",
      "[[ 29  29]\n",
      " [ 15 557]]\n",
      "\n",
      "The F1 score is: 76.53154526059129\n",
      "The precision score is: 80.48014272417004\n",
      "The recall score is: 73.68881118881119\n",
      "The accuracy score is: 93.01587301587301\n",
      "\n",
      "\n",
      "\n",
      "SVM(undersampled):\n",
      "Confusion matrix: \n",
      "[[ 55   3]\n",
      " [128 444]]\n",
      "\n",
      "The F1 score is: 66.39370630224897\n",
      "The precision score is: 64.69175193457292\n",
      "The recall score is: 86.22498191463708\n",
      "The accuracy score is: 79.2063492063492\n",
      "\n",
      "\n",
      "\n",
      "############    RandomForest     #################\n",
      "RandomForest(normal):\n",
      "Confusion matrix: \n",
      "[[ 23  35]\n",
      " [  2 570]]\n",
      "\n",
      "The F1 score is: 76.13905068020597\n",
      "The precision score is: 93.10743801652892\n",
      "The recall score is: 69.65276103207138\n",
      "The accuracy score is: 94.12698412698413\n",
      "\n",
      "\n",
      "\n",
      "RandomForest(balanced):\n",
      "Confusion matrix: \n",
      "[[ 30  28]\n",
      " [ 21 551]]\n",
      "\n",
      "The F1 score is: 75.3943519396775\n",
      "The precision score is: 76.99380270242813\n",
      "The recall score is: 74.0264046298529\n",
      "The accuracy score is: 92.22222222222223\n",
      "\n",
      "\n",
      "\n",
      "RandomForest(oversampled):\n",
      "Confusion matrix: \n",
      "[[ 34  24]\n",
      " [ 22 550]]\n",
      "\n",
      "The F1 score is: 77.81758060071645\n",
      "The precision score is: 78.26655052264809\n",
      "The recall score is: 77.38726790450929\n",
      "The accuracy score is: 92.6984126984127\n",
      "\n",
      "\n",
      "\n",
      "RandomForest(undersampled):\n",
      "Confusion matrix: \n",
      "[[ 54   4]\n",
      " [165 407]]\n",
      "\n",
      "The F1 score is: 60.898450554737394\n",
      "The precision score is: 61.842149118421496\n",
      "The recall score is: 82.12864721485411\n",
      "The accuracy score is: 73.17460317460316\n",
      "\n",
      "\n",
      "\n",
      "############    Logistic Regression     #################\n",
      "Logistic(normal):\n",
      "Confusion matrix: \n",
      "[[ 54   4]\n",
      " [165 407]]\n",
      "\n",
      "The F1 score is: 60.898450554737394\n",
      "The precision score is: 61.842149118421496\n",
      "The recall score is: 82.12864721485411\n",
      "The accuracy score is: 73.17460317460316\n",
      "\n",
      "\n",
      "\n",
      "Logistic(balanced):\n",
      "Confusion matrix: \n",
      "[[ 54   4]\n",
      " [165 407]]\n",
      "\n",
      "The F1 score is: 60.898450554737394\n",
      "The precision score is: 61.842149118421496\n",
      "The recall score is: 82.12864721485411\n",
      "The accuracy score is: 73.17460317460316\n",
      "\n",
      "\n",
      "\n",
      "Logistic(oversampled):\n",
      "Confusion matrix: \n",
      "[[ 54   4]\n",
      " [165 407]]\n",
      "\n",
      "The F1 score is: 60.898450554737394\n",
      "The precision score is: 61.842149118421496\n",
      "The recall score is: 82.12864721485411\n",
      "The accuracy score is: 73.17460317460316\n",
      "\n",
      "\n",
      "\n",
      "Logistic(undersampled):\n",
      "Confusion matrix: \n",
      "[[ 54   4]\n",
      " [165 407]]\n",
      "\n",
      "The F1 score is: 60.898450554737394\n",
      "The precision score is: 61.842149118421496\n",
      "The recall score is: 82.12864721485411\n",
      "The accuracy score is: 73.17460317460316\n",
      "\n",
      "\n",
      "\n"
     ]
    }
   ],
   "source": [
    "from sklearn.metrics import accuracy_score, f1_score, precision_score, recall_score, classification_report, confusion_matrix\n",
    "\n",
    "print(\"############    SVM     #################\")\n",
    "print(f'SVM(normal):\\nConfusion matrix: \\n{confusion_matrix(y_test, smv_pred)}\\n')\n",
    "print(f'The F1 score is: {f1_score(y_test, smv_pred, average=\"macro\")*100}')\n",
    "print(f'The precision score is: {precision_score(y_test, smv_pred, average=\"macro\")*(100)}')\n",
    "print(f'The recall score is: {recall_score(y_test, smv_pred, average=\"macro\")*100}') \n",
    "print(f'The accuracy score is: {accuracy_score(y_test, smv_pred)*100}\\n\\n\\n')\n",
    "\n",
    "print(f'SVM(balanced):\\nConfusion matrix: \\n{confusion_matrix(y_test, smv_pred_balanced)}\\n')\n",
    "print(f'The F1 score is: {f1_score(y_test, smv_pred_balanced, average=\"macro\")*100}')\n",
    "print(f'The precision score is: {precision_score(y_test, smv_pred_balanced, average=\"macro\")*(100)}')\n",
    "print(f'The recall score is: {recall_score(y_test, smv_pred_balanced, average=\"macro\")*100}') \n",
    "print(f'The accuracy score is: {accuracy_score(y_test, smv_pred_balanced)*100}\\n\\n\\n')\n",
    "\n",
    "print(f'SVM(oversampled):\\nConfusion matrix: \\n{confusion_matrix(y_test, smv_oversampled_pred)}\\n')\n",
    "print(f'The F1 score is: {f1_score(y_test, smv_oversampled_pred, average=\"macro\")*100}')\n",
    "print(f'The precision score is: {precision_score(y_test, smv_oversampled_pred, average=\"macro\")*(100)}')\n",
    "print(f'The recall score is: {recall_score(y_test, smv_oversampled_pred, average=\"macro\")*100}') \n",
    "print(f'The accuracy score is: {accuracy_score(y_test, smv_oversampled_pred)*100}\\n\\n\\n')\n",
    "\n",
    "print(f'SVM(undersampled):\\nConfusion matrix: \\n{confusion_matrix(y_test, smv_undersampled_pred)}\\n')\n",
    "print(f'The F1 score is: {f1_score(y_test, smv_undersampled_pred, average=\"macro\")*100}')\n",
    "print(f'The precision score is: {precision_score(y_test, smv_undersampled_pred, average=\"macro\")*(100)}')\n",
    "print(f'The recall score is: {recall_score(y_test, smv_undersampled_pred, average=\"macro\")*100}') \n",
    "print(f'The accuracy score is: {accuracy_score(y_test, smv_undersampled_pred)*100}\\n\\n\\n')\n",
    "\n",
    "\n",
    "\n",
    "\n",
    "print(\"############    RandomForest     #################\")\n",
    "print(f'RandomForest(normal):\\nConfusion matrix: \\n{confusion_matrix(y_test, RFC_pred)}\\n')\n",
    "print(f'The F1 score is: {f1_score(y_test, RFC_pred, average=\"macro\")*100}')\n",
    "print(f'The precision score is: {precision_score(y_test, RFC_pred, average=\"macro\")*(100)}')\n",
    "print(f'The recall score is: {recall_score(y_test, RFC_pred, average=\"macro\")*100}') \n",
    "print(f'The accuracy score is: {accuracy_score(y_test, RFC_pred)*100}\\n\\n\\n')\n",
    "\n",
    "print(f'RandomForest(balanced):\\nConfusion matrix: \\n{confusion_matrix(y_test, RFC_pred_balanced)}\\n')\n",
    "print(f'The F1 score is: {f1_score(y_test, RFC_pred_balanced, average=\"macro\")*100}')\n",
    "print(f'The precision score is: {precision_score(y_test, RFC_pred_balanced, average=\"macro\")*(100)}')\n",
    "print(f'The recall score is: {recall_score(y_test, RFC_pred_balanced, average=\"macro\")*100}') \n",
    "print(f'The accuracy score is: {accuracy_score(y_test, RFC_pred_balanced)*100}\\n\\n\\n')\n",
    "\n",
    "print(f'RandomForest(oversampled):\\nConfusion matrix: \\n{confusion_matrix(y_test, RFC_oversampled_pred)}\\n')\n",
    "print(f'The F1 score is: {f1_score(y_test, RFC_oversampled_pred, average=\"macro\")*100}')\n",
    "print(f'The precision score is: {precision_score(y_test, RFC_oversampled_pred, average=\"macro\")*(100)}')\n",
    "print(f'The recall score is: {recall_score(y_test, RFC_oversampled_pred, average=\"macro\")*100}') \n",
    "print(f'The accuracy score is: {accuracy_score(y_test, RFC_oversampled_pred)*100}\\n\\n\\n')\n",
    "\n",
    "print(f'RandomForest(undersampled):\\nConfusion matrix: \\n{confusion_matrix(y_test, RFC_undersampled_pred)}\\n')\n",
    "print(f'The F1 score is: {f1_score(y_test, RFC_undersampled_pred, average=\"macro\")*100}')\n",
    "print(f'The precision score is: {precision_score(y_test, RFC_undersampled_pred, average=\"macro\")*(100)}')\n",
    "print(f'The recall score is: {recall_score(y_test, RFC_undersampled_pred, average=\"macro\")*100}') \n",
    "print(f'The accuracy score is: {accuracy_score(y_test, RFC_undersampled_pred)*100}\\n\\n\\n')\n",
    "\n",
    "\n",
    "print(\"############    Logistic Regression     #################\")\n",
    "print(f'Logistic(normal):\\nConfusion matrix: \\n{confusion_matrix(y_test, LR_pred)}\\n')\n",
    "print(f'The F1 score is: {f1_score(y_test, LR_pred, average=\"macro\")*100}')\n",
    "print(f'The precision score is: {precision_score(y_test, LR_pred, average=\"macro\")*(100)}')\n",
    "print(f'The recall score is: {recall_score(y_test, LR_pred, average=\"macro\")*100}') \n",
    "print(f'The accuracy score is: {accuracy_score(y_test, LR_pred)*100}\\n\\n\\n')\n",
    "\n",
    "print(f'Logistic(balanced):\\nConfusion matrix: \\n{confusion_matrix(y_test, LR_pred_balanced)}\\n')\n",
    "print(f'The F1 score is: {f1_score(y_test, LR_pred_balanced, average=\"macro\")*100}')\n",
    "print(f'The precision score is: {precision_score(y_test, LR_pred_balanced, average=\"macro\")*(100)}')\n",
    "print(f'The recall score is: {recall_score(y_test, LR_pred_balanced, average=\"macro\")*100}') \n",
    "print(f'The accuracy score is: {accuracy_score(y_test, LR_pred_balanced)*100}\\n\\n\\n')\n",
    "\n",
    "print(f'Logistic(oversampled):\\nConfusion matrix: \\n{confusion_matrix(y_test, LR_oversampled_pred)}\\n')\n",
    "print(f'The F1 score is: {f1_score(y_test, LR_oversampled_pred, average=\"macro\")*100}')\n",
    "print(f'The precision score is: {precision_score(y_test, LR_oversampled_pred, average=\"macro\")*(100)}')\n",
    "print(f'The recall score is: {recall_score(y_test, LR_oversampled_pred, average=\"macro\")*100}') \n",
    "print(f'The accuracy score is: {accuracy_score(y_test, LR_oversampled_pred)*100}\\n\\n\\n')\n",
    "\n",
    "print(f'Logistic(undersampled):\\nConfusion matrix: \\n{confusion_matrix(y_test, LR_undersampled_pred)}\\n')\n",
    "print(f'The F1 score is: {f1_score(y_test, LR_undersampled_pred, average=\"macro\")*100}')\n",
    "print(f'The precision score is: {precision_score(y_test, LR_undersampled_pred, average=\"macro\")*(100)}')\n",
    "print(f'The recall score is: {recall_score(y_test, LR_undersampled_pred, average=\"macro\")*100}') \n",
    "print(f'The accuracy score is: {accuracy_score(y_test, LR_undersampled_pred)*100}\\n\\n\\n')"
   ]
  },
  {
   "cell_type": "code",
   "execution_count": 20,
   "id": "8ebcca16",
   "metadata": {
    "execution": {
     "iopub.execute_input": "2022-09-19T11:15:41.477236Z",
     "iopub.status.busy": "2022-09-19T11:15:41.476802Z",
     "iopub.status.idle": "2022-09-19T11:15:41.481946Z",
     "shell.execute_reply": "2022-09-19T11:15:41.480507Z"
    },
    "papermill": {
     "duration": 0.017585,
     "end_time": "2022-09-19T11:15:41.484369",
     "exception": false,
     "start_time": "2022-09-19T11:15:41.466784",
     "status": "completed"
    },
    "tags": []
   },
   "outputs": [],
   "source": [
    "import pickle\n"
   ]
  }
 ],
 "metadata": {
  "kernelspec": {
   "display_name": "Python 3",
   "language": "python",
   "name": "python3"
  },
  "language_info": {
   "codemirror_mode": {
    "name": "ipython",
    "version": 3
   },
   "file_extension": ".py",
   "mimetype": "text/x-python",
   "name": "python",
   "nbconvert_exporter": "python",
   "pygments_lexer": "ipython3",
   "version": "3.7.12"
  },
  "papermill": {
   "default_parameters": {},
   "duration": 25.333135,
   "end_time": "2022-09-19T11:15:42.315772",
   "environment_variables": {},
   "exception": null,
   "input_path": "__notebook__.ipynb",
   "output_path": "__notebook__.ipynb",
   "parameters": {},
   "start_time": "2022-09-19T11:15:16.982637",
   "version": "2.3.4"
  }
 },
 "nbformat": 4,
 "nbformat_minor": 5
}
