{
 "cells": [
  {
   "cell_type": "markdown",
   "id": "25c27c81",
   "metadata": {
    "execution": {
     "iopub.execute_input": "2022-09-14T19:51:03.982358Z",
     "iopub.status.busy": "2022-09-14T19:51:03.981347Z",
     "iopub.status.idle": "2022-09-14T19:51:04.018800Z",
     "shell.execute_reply": "2022-09-14T19:51:04.017725Z",
     "shell.execute_reply.started": "2022-09-14T19:51:03.982315Z"
    },
    "papermill": {
     "duration": 0.00588,
     "end_time": "2022-09-18T17:39:36.058482",
     "exception": false,
     "start_time": "2022-09-18T17:39:36.052602",
     "status": "completed"
    },
    "tags": []
   },
   "source": [
    "# Sentiment Analyzer using machine learning models\n",
    "\n",
    "#### Data-set: Amazon Alexa Reviews\n"
   ]
  },
  {
   "cell_type": "code",
   "execution_count": 1,
   "id": "681e7b3c",
   "metadata": {
    "execution": {
     "iopub.execute_input": "2022-09-18T17:39:36.070316Z",
     "iopub.status.busy": "2022-09-18T17:39:36.069456Z",
     "iopub.status.idle": "2022-09-18T17:39:38.240491Z",
     "shell.execute_reply": "2022-09-18T17:39:38.238893Z"
    },
    "papermill": {
     "duration": 2.180084,
     "end_time": "2022-09-18T17:39:38.243527",
     "exception": false,
     "start_time": "2022-09-18T17:39:36.063443",
     "status": "completed"
    },
    "tags": []
   },
   "outputs": [
    {
     "name": "stdout",
     "output_type": "stream",
     "text": [
      "/kaggle/input/amazon-alexa-reviews/amazon_alexa.tsv\n",
      "(3150, 5)\n"
     ]
    },
    {
     "data": {
      "text/html": [
       "<div>\n",
       "<style scoped>\n",
       "    .dataframe tbody tr th:only-of-type {\n",
       "        vertical-align: middle;\n",
       "    }\n",
       "\n",
       "    .dataframe tbody tr th {\n",
       "        vertical-align: top;\n",
       "    }\n",
       "\n",
       "    .dataframe thead th {\n",
       "        text-align: right;\n",
       "    }\n",
       "</style>\n",
       "<table border=\"1\" class=\"dataframe\">\n",
       "  <thead>\n",
       "    <tr style=\"text-align: right;\">\n",
       "      <th></th>\n",
       "      <th>rating</th>\n",
       "      <th>date</th>\n",
       "      <th>variation</th>\n",
       "      <th>verified_reviews</th>\n",
       "      <th>feedback</th>\n",
       "    </tr>\n",
       "  </thead>\n",
       "  <tbody>\n",
       "    <tr>\n",
       "      <th>0</th>\n",
       "      <td>5</td>\n",
       "      <td>31-Jul-18</td>\n",
       "      <td>Charcoal Fabric</td>\n",
       "      <td>Love my Echo!</td>\n",
       "      <td>1</td>\n",
       "    </tr>\n",
       "    <tr>\n",
       "      <th>1</th>\n",
       "      <td>5</td>\n",
       "      <td>31-Jul-18</td>\n",
       "      <td>Charcoal Fabric</td>\n",
       "      <td>Loved it!</td>\n",
       "      <td>1</td>\n",
       "    </tr>\n",
       "    <tr>\n",
       "      <th>2</th>\n",
       "      <td>4</td>\n",
       "      <td>31-Jul-18</td>\n",
       "      <td>Walnut Finish</td>\n",
       "      <td>Sometimes while playing a game, you can answer...</td>\n",
       "      <td>1</td>\n",
       "    </tr>\n",
       "    <tr>\n",
       "      <th>3</th>\n",
       "      <td>5</td>\n",
       "      <td>31-Jul-18</td>\n",
       "      <td>Charcoal Fabric</td>\n",
       "      <td>I have had a lot of fun with this thing. My 4 ...</td>\n",
       "      <td>1</td>\n",
       "    </tr>\n",
       "    <tr>\n",
       "      <th>4</th>\n",
       "      <td>5</td>\n",
       "      <td>31-Jul-18</td>\n",
       "      <td>Charcoal Fabric</td>\n",
       "      <td>Music</td>\n",
       "      <td>1</td>\n",
       "    </tr>\n",
       "  </tbody>\n",
       "</table>\n",
       "</div>"
      ],
      "text/plain": [
       "   rating       date         variation  \\\n",
       "0       5  31-Jul-18  Charcoal Fabric    \n",
       "1       5  31-Jul-18  Charcoal Fabric    \n",
       "2       4  31-Jul-18    Walnut Finish    \n",
       "3       5  31-Jul-18  Charcoal Fabric    \n",
       "4       5  31-Jul-18  Charcoal Fabric    \n",
       "\n",
       "                                    verified_reviews  feedback  \n",
       "0                                      Love my Echo!         1  \n",
       "1                                          Loved it!         1  \n",
       "2  Sometimes while playing a game, you can answer...         1  \n",
       "3  I have had a lot of fun with this thing. My 4 ...         1  \n",
       "4                                              Music         1  "
      ]
     },
     "execution_count": 1,
     "metadata": {},
     "output_type": "execute_result"
    }
   ],
   "source": [
    "#!pip install nltk\n",
    "#nltk.download('stopwords')\n",
    "# nltk.download('wordnet')\n",
    "# nltk.download('omw-1.4')\n",
    "\n",
    "\n",
    "# Import the required libraires\n",
    "import numpy as np\n",
    "import pandas as pd\n",
    "\n",
    "# visualization libraries\n",
    "import matplotlib.pyplot as plt\n",
    "import seaborn as sns\n",
    "%matplotlib inline\n",
    "\n",
    "import re\n",
    "\n",
    "# Pre-processing library\n",
    "import nltk\n",
    "from nltk.corpus import stopwords\n",
    "from nltk.stem.porter import PorterStemmer\n",
    "from sklearn.feature_extraction.text import CountVectorizer\n",
    "\n",
    "# Models library\n",
    "from sklearn.model_selection import train_test_split\n",
    "from sklearn import svm\n",
    "from sklearn.ensemble import RandomForestClassifier\n",
    "\n",
    "\n",
    "import os\n",
    "for dirname, _, filenames in os.walk('/kaggle/input'):\n",
    "    for filename in filenames:\n",
    "        print(os.path.join(dirname, filename))\n",
    "\n",
    "df = pd.read_csv(\"/kaggle/input/amazon-alexa-reviews/amazon_alexa.tsv\",sep=\"\\t\")\n",
    "print(df.shape)\n",
    "df.head()"
   ]
  },
  {
   "cell_type": "markdown",
   "id": "2e527f2f",
   "metadata": {
    "papermill": {
     "duration": 0.004507,
     "end_time": "2022-09-18T17:39:38.252907",
     "exception": false,
     "start_time": "2022-09-18T17:39:38.248400",
     "status": "completed"
    },
    "tags": []
   },
   "source": [
    "### Check the data we are dealing with as well as some visualization"
   ]
  },
  {
   "cell_type": "code",
   "execution_count": 2,
   "id": "da5101e4",
   "metadata": {
    "execution": {
     "iopub.execute_input": "2022-09-18T17:39:38.263854Z",
     "iopub.status.busy": "2022-09-18T17:39:38.263459Z",
     "iopub.status.idle": "2022-09-18T17:39:38.544301Z",
     "shell.execute_reply": "2022-09-18T17:39:38.543230Z"
    },
    "papermill": {
     "duration": 0.289204,
     "end_time": "2022-09-18T17:39:38.546789",
     "exception": false,
     "start_time": "2022-09-18T17:39:38.257585",
     "status": "completed"
    },
    "tags": []
   },
   "outputs": [
    {
     "name": "stdout",
     "output_type": "stream",
     "text": [
      "          feedback\n",
      "count  3150.000000\n",
      "mean      0.918413\n",
      "std       0.273778\n",
      "min       0.000000\n",
      "25%       1.000000\n",
      "50%       1.000000\n",
      "75%       1.000000\n",
      "max       1.000000\n"
     ]
    },
    {
     "data": {
      "text/plain": [
       "array([[<AxesSubplot:title={'center':'feedback'}>]], dtype=object)"
      ]
     },
     "execution_count": 2,
     "metadata": {},
     "output_type": "execute_result"
    },
    {
     "data": {
      "image/png": "[encoded data removed]",
      "text/plain": [
       "<Figure size 432x288 with 1 Axes>"
      ]
     },
     "metadata": {
      "needs_background": "light"
     },
     "output_type": "display_data"
    }
   ],
   "source": [
    "# Drop unrelated columns\n",
    "df = df.drop(['date','variation','rating'],axis=1)\n",
    "print(df.describe())\n",
    "df.hist()"
   ]
  },
  {
   "cell_type": "code",
   "execution_count": 3,
   "id": "febb4c14",
   "metadata": {
    "execution": {
     "iopub.execute_input": "2022-09-18T17:39:38.559274Z",
     "iopub.status.busy": "2022-09-18T17:39:38.558627Z",
     "iopub.status.idle": "2022-09-18T17:39:38.566874Z",
     "shell.execute_reply": "2022-09-18T17:39:38.565943Z"
    },
    "papermill": {
     "duration": 0.017015,
     "end_time": "2022-09-18T17:39:38.568976",
     "exception": false,
     "start_time": "2022-09-18T17:39:38.551961",
     "status": "completed"
    },
    "tags": []
   },
   "outputs": [
    {
     "data": {
      "text/plain": [
       "verified_reviews    0\n",
       "feedback            0\n",
       "dtype: int64"
      ]
     },
     "execution_count": 3,
     "metadata": {},
     "output_type": "execute_result"
    }
   ],
   "source": [
    "# Check for null values\n",
    "df.isnull().sum()"
   ]
  },
  {
   "cell_type": "markdown",
   "id": "b797354d",
   "metadata": {
    "papermill": {
     "duration": 0.004788,
     "end_time": "2022-09-18T17:39:38.578889",
     "exception": false,
     "start_time": "2022-09-18T17:39:38.574101",
     "status": "completed"
    },
    "tags": []
   },
   "source": [
    "### Now that we know there are no null values but there is a huge bias we will start duplicating negative feedback to balance that bias"
   ]
  },
  {
   "cell_type": "code",
   "execution_count": 4,
   "id": "362c2fae",
   "metadata": {
    "execution": {
     "iopub.execute_input": "2022-09-18T17:39:38.591306Z",
     "iopub.status.busy": "2022-09-18T17:39:38.590666Z",
     "iopub.status.idle": "2022-09-18T17:39:38.816952Z",
     "shell.execute_reply": "2022-09-18T17:39:38.815733Z"
    },
    "papermill": {
     "duration": 0.235708,
     "end_time": "2022-09-18T17:39:38.819751",
     "exception": false,
     "start_time": "2022-09-18T17:39:38.584043",
     "status": "completed"
    },
    "tags": []
   },
   "outputs": [
    {
     "data": {
      "text/plain": [
       "array([[<AxesSubplot:title={'center':'feedback'}>]], dtype=object)"
      ]
     },
     "execution_count": 4,
     "metadata": {},
     "output_type": "execute_result"
    },
    {
     "data": {
      "image/png": "[encoded data removed]",
      "text/plain": [
       "<Figure size 432x288 with 1 Axes>"
      ]
     },
     "metadata": {
      "needs_background": "light"
     },
     "output_type": "display_data"
    }
   ],
   "source": [
    "for i in range(3):\n",
    "  df = df.append(df[ df['feedback'] == 0 ])\n",
    "\n",
    "df = df.append(df[ df['feedback'] == 0 ].head(900))\n",
    "\n",
    "df.hist()\n"
   ]
  },
  {
   "cell_type": "markdown",
   "id": "94679c19",
   "metadata": {
    "papermill": {
     "duration": 0.00549,
     "end_time": "2022-09-18T17:39:38.831274",
     "exception": false,
     "start_time": "2022-09-18T17:39:38.825784",
     "status": "completed"
    },
    "tags": []
   },
   "source": [
    "### Clean and vectorize the *review* column so we can start working on it "
   ]
  },
  {
   "cell_type": "code",
   "execution_count": 5,
   "id": "6ba47659",
   "metadata": {
    "execution": {
     "iopub.execute_input": "2022-09-18T17:39:38.844366Z",
     "iopub.status.busy": "2022-09-18T17:39:38.843927Z",
     "iopub.status.idle": "2022-09-18T17:39:43.522494Z",
     "shell.execute_reply": "2022-09-18T17:39:43.520794Z"
    },
    "papermill": {
     "duration": 4.688401,
     "end_time": "2022-09-18T17:39:43.525382",
     "exception": false,
     "start_time": "2022-09-18T17:39:38.836981",
     "status": "completed"
    },
    "tags": []
   },
   "outputs": [],
   "source": [
    "def clean_rev(review):\n",
    "    stopwords = set(nltk.corpus.stopwords.words('english'))\n",
    "    stopwords.remove('not')\n",
    "    stopwords.remove('nor')\n",
    "    review = review.lower()\n",
    "    review = re.sub(\"[^A-Za-z0-9]\",' ',review)\n",
    "    review = re.sub(r'[0-9]+',' ',review)\n",
    "    review = \" \".join(PorterStemmer().stem(i) for i in review.split() if i not in stopwords)\n",
    "    \n",
    "    return review\n",
    "\n",
    "df['verified_reviews'] = df['verified_reviews'].apply(lambda rev: clean_rev(rev))"
   ]
  },
  {
   "cell_type": "markdown",
   "id": "8ba7c218",
   "metadata": {
    "papermill": {
     "duration": 0.005344,
     "end_time": "2022-09-18T17:39:43.536361",
     "exception": false,
     "start_time": "2022-09-18T17:39:43.531017",
     "status": "completed"
    },
    "tags": []
   },
   "source": [
    "### Create training sets"
   ]
  },
  {
   "cell_type": "code",
   "execution_count": 6,
   "id": "6dfd289f",
   "metadata": {
    "execution": {
     "iopub.execute_input": "2022-09-18T17:39:43.551035Z",
     "iopub.status.busy": "2022-09-18T17:39:43.550598Z",
     "iopub.status.idle": "2022-09-18T17:39:43.801629Z",
     "shell.execute_reply": "2022-09-18T17:39:43.799384Z"
    },
    "papermill": {
     "duration": 0.2626,
     "end_time": "2022-09-18T17:39:43.804778",
     "exception": false,
     "start_time": "2022-09-18T17:39:43.542178",
     "status": "completed"
    },
    "tags": []
   },
   "outputs": [],
   "source": [
    "x = CountVectorizer(max_features=5000).fit_transform(df['verified_reviews']).toarray()\n",
    "y = df['feedback']     \n",
    "x_train, x_test ,y_train,y_test = train_test_split(x,y,test_size=0.2,random_state=42)"
   ]
  },
  {
   "cell_type": "markdown",
   "id": "45f64e4c",
   "metadata": {
    "papermill": {
     "duration": 0.005256,
     "end_time": "2022-09-18T17:39:43.815653",
     "exception": false,
     "start_time": "2022-09-18T17:39:43.810397",
     "status": "completed"
    },
    "tags": []
   },
   "source": [
    "### Start by using SVM and creating and training model"
   ]
  },
  {
   "cell_type": "code",
   "execution_count": 7,
   "id": "b2149272",
   "metadata": {
    "execution": {
     "iopub.execute_input": "2022-09-18T17:39:43.828624Z",
     "iopub.status.busy": "2022-09-18T17:39:43.828184Z",
     "iopub.status.idle": "2022-09-18T17:40:07.353134Z",
     "shell.execute_reply": "2022-09-18T17:40:07.351986Z"
    },
    "papermill": {
     "duration": 23.534769,
     "end_time": "2022-09-18T17:40:07.355943",
     "exception": false,
     "start_time": "2022-09-18T17:39:43.821174",
     "status": "completed"
    },
    "tags": []
   },
   "outputs": [],
   "source": [
    "model_smv = svm.SVC()\n",
    "model_smv.fit(x_train, y_train)\n",
    "smv_pred = model_smv.predict(x_test)"
   ]
  },
  {
   "cell_type": "markdown",
   "id": "20e2f43e",
   "metadata": {
    "papermill": {
     "duration": 0.005088,
     "end_time": "2022-09-18T17:40:07.366617",
     "exception": false,
     "start_time": "2022-09-18T17:40:07.361529",
     "status": "completed"
    },
    "tags": []
   },
   "source": [
    "### Now the same for RandomForest model"
   ]
  },
  {
   "cell_type": "code",
   "execution_count": 8,
   "id": "a0df1525",
   "metadata": {
    "execution": {
     "iopub.execute_input": "2022-09-18T17:40:07.378984Z",
     "iopub.status.busy": "2022-09-18T17:40:07.378567Z",
     "iopub.status.idle": "2022-09-18T17:40:12.278293Z",
     "shell.execute_reply": "2022-09-18T17:40:12.277145Z"
    },
    "papermill": {
     "duration": 4.909298,
     "end_time": "2022-09-18T17:40:12.281229",
     "exception": false,
     "start_time": "2022-09-18T17:40:07.371931",
     "status": "completed"
    },
    "tags": []
   },
   "outputs": [],
   "source": [
    "model_RFC = RandomForestClassifier()\n",
    "model_RFC.fit(x_train,y_train)\n",
    "RFC_pred = model_RFC.predict(x_test)"
   ]
  },
  {
   "cell_type": "markdown",
   "id": "06ff66b1",
   "metadata": {
    "papermill": {
     "duration": 0.005205,
     "end_time": "2022-09-18T17:40:12.292193",
     "exception": false,
     "start_time": "2022-09-18T17:40:12.286988",
     "status": "completed"
    },
    "tags": []
   },
   "source": [
    "### import metrics and see the performance of both models"
   ]
  },
  {
   "cell_type": "code",
   "execution_count": 9,
   "id": "67102d4c",
   "metadata": {
    "execution": {
     "iopub.execute_input": "2022-09-18T17:40:12.304917Z",
     "iopub.status.busy": "2022-09-18T17:40:12.304520Z",
     "iopub.status.idle": "2022-09-18T17:40:12.328391Z",
     "shell.execute_reply": "2022-09-18T17:40:12.326989Z"
    },
    "papermill": {
     "duration": 0.033805,
     "end_time": "2022-09-18T17:40:12.331503",
     "exception": false,
     "start_time": "2022-09-18T17:40:12.297698",
     "status": "completed"
    },
    "tags": []
   },
   "outputs": [
    {
     "name": "stdout",
     "output_type": "stream",
     "text": [
      "SVM:\n",
      "Confusion matrix: \n",
      "[[47.60683761  0.        ]\n",
      " [ 3.5042735  48.88888889]]\n",
      "\n",
      "The F1 score is: 96.49515041920105\n",
      "The precision score is: 96.57190635451505\n",
      "The recall score is: 96.6557911908646\n",
      "The accuracy score is: 96.4957264957265\n",
      "\n",
      "\n",
      "\n",
      "RandomForest:\n",
      "Confusion matrix: \n",
      "[[47.60683761  0.        ]\n",
      " [ 2.05128205 50.34188034]]\n",
      "\n",
      "The F1 score is: 97.94718234693788\n",
      "The precision score is: 97.93459552495698\n",
      "The recall score is: 98.04241435562805\n",
      "The accuracy score is: 97.94871794871794\n",
      "\n",
      "\n",
      "\n"
     ]
    }
   ],
   "source": [
    "from sklearn.metrics import accuracy_score, f1_score, precision_score, recall_score, classification_report, confusion_matrix\n",
    "\n",
    "print(f'SVM:\\nConfusion matrix: \\n{confusion_matrix(y_test, smv_pred)*100/len(y_test)}\\n')\n",
    "print(f'The F1 score is: {f1_score(y_test, smv_pred, average=\"macro\")*100}')\n",
    "print(f'The precision score is: {precision_score(y_test, smv_pred, average=\"macro\")*(100)}')\n",
    "print(f'The recall score is: {recall_score(y_test, smv_pred, average=\"macro\")*100}') \n",
    "print(f'The accuracy score is: {accuracy_score(y_test, smv_pred)*100}\\n\\n\\n')\n",
    "\n",
    "\n",
    "print(f'RandomForest:\\nConfusion matrix: \\n{confusion_matrix(y_test, RFC_pred)*100/len(y_test)}\\n')\n",
    "print(f'The F1 score is: {f1_score(y_test, RFC_pred, average=\"macro\")*100}')\n",
    "print(f'The precision score is: {precision_score(y_test, RFC_pred, average=\"macro\")*(100)}')\n",
    "print(f'The recall score is: {recall_score(y_test, RFC_pred, average=\"macro\")*100}') \n",
    "print(f'The accuracy score is: {accuracy_score(y_test, RFC_pred)*100}\\n\\n\\n')"
   ]
  }
 ],
 "metadata": {
  "kernelspec": {
   "display_name": "Python 3",
   "language": "python",
   "name": "python3"
  },
  "language_info": {
   "codemirror_mode": {
    "name": "ipython",
    "version": 3
   },
   "file_extension": ".py",
   "mimetype": "text/x-python",
   "name": "python",
   "nbconvert_exporter": "python",
   "pygments_lexer": "ipython3",
   "version": "3.7.12"
  },
  "papermill": {
   "default_parameters": {},
   "duration": 46.567091,
   "end_time": "2022-09-18T17:40:13.159800",
   "environment_variables": {},
   "exception": null,
   "input_path": "__notebook__.ipynb",
   "output_path": "__notebook__.ipynb",
   "parameters": {},
   "start_time": "2022-09-18T17:39:26.592709",
   "version": "2.3.4"
  }
 },
 "nbformat": 4,
 "nbformat_minor": 5
}
