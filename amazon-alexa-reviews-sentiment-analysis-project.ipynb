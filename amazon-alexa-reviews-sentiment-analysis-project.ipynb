{
 "cells": [
  {
   "cell_type": "markdown",
   "id": "6a53df73",
   "metadata": {
    "execution": {
     "iopub.execute_input": "2022-09-14T19:51:03.982358Z",
     "iopub.status.busy": "2022-09-14T19:51:03.981347Z",
     "iopub.status.idle": "2022-09-14T19:51:04.018800Z",
     "shell.execute_reply": "2022-09-14T19:51:04.017725Z",
     "shell.execute_reply.started": "2022-09-14T19:51:03.982315Z"
    },
    "papermill": {
     "duration": 0.007041,
     "end_time": "2022-09-18T19:22:33.550095",
     "exception": false,
     "start_time": "2022-09-18T19:22:33.543054",
     "status": "completed"
    },
    "tags": []
   },
   "source": [
    "# Sentiment Analyzer using machine learning models\n",
    "\n",
    "#### Data-set: Amazon Alexa Reviews\n"
   ]
  },
  {
   "cell_type": "code",
   "execution_count": 1,
   "id": "e71e9357",
   "metadata": {
    "execution": {
     "iopub.execute_input": "2022-09-18T19:22:33.564385Z",
     "iopub.status.busy": "2022-09-18T19:22:33.563872Z",
     "iopub.status.idle": "2022-09-18T19:22:35.661291Z",
     "shell.execute_reply": "2022-09-18T19:22:35.659085Z"
    },
    "papermill": {
     "duration": 2.108612,
     "end_time": "2022-09-18T19:22:35.665312",
     "exception": false,
     "start_time": "2022-09-18T19:22:33.556700",
     "status": "completed"
    },
    "tags": []
   },
   "outputs": [
    {
     "name": "stdout",
     "output_type": "stream",
     "text": [
      "/kaggle/input/amazon-alexa-reviews/amazon_alexa.tsv\n",
      "(3150, 5)\n"
     ]
    },
    {
     "data": {
      "text/html": [
       "<div>\n",
       "<style scoped>\n",
       "    .dataframe tbody tr th:only-of-type {\n",
       "        vertical-align: middle;\n",
       "    }\n",
       "\n",
       "    .dataframe tbody tr th {\n",
       "        vertical-align: top;\n",
       "    }\n",
       "\n",
       "    .dataframe thead th {\n",
       "        text-align: right;\n",
       "    }\n",
       "</style>\n",
       "<table border=\"1\" class=\"dataframe\">\n",
       "  <thead>\n",
       "    <tr style=\"text-align: right;\">\n",
       "      <th></th>\n",
       "      <th>rating</th>\n",
       "      <th>date</th>\n",
       "      <th>variation</th>\n",
       "      <th>verified_reviews</th>\n",
       "      <th>feedback</th>\n",
       "    </tr>\n",
       "  </thead>\n",
       "  <tbody>\n",
       "    <tr>\n",
       "      <th>0</th>\n",
       "      <td>5</td>\n",
       "      <td>31-Jul-18</td>\n",
       "      <td>Charcoal Fabric</td>\n",
       "      <td>Love my Echo!</td>\n",
       "      <td>1</td>\n",
       "    </tr>\n",
       "    <tr>\n",
       "      <th>1</th>\n",
       "      <td>5</td>\n",
       "      <td>31-Jul-18</td>\n",
       "      <td>Charcoal Fabric</td>\n",
       "      <td>Loved it!</td>\n",
       "      <td>1</td>\n",
       "    </tr>\n",
       "    <tr>\n",
       "      <th>2</th>\n",
       "      <td>4</td>\n",
       "      <td>31-Jul-18</td>\n",
       "      <td>Walnut Finish</td>\n",
       "      <td>Sometimes while playing a game, you can answer...</td>\n",
       "      <td>1</td>\n",
       "    </tr>\n",
       "    <tr>\n",
       "      <th>3</th>\n",
       "      <td>5</td>\n",
       "      <td>31-Jul-18</td>\n",
       "      <td>Charcoal Fabric</td>\n",
       "      <td>I have had a lot of fun with this thing. My 4 ...</td>\n",
       "      <td>1</td>\n",
       "    </tr>\n",
       "    <tr>\n",
       "      <th>4</th>\n",
       "      <td>5</td>\n",
       "      <td>31-Jul-18</td>\n",
       "      <td>Charcoal Fabric</td>\n",
       "      <td>Music</td>\n",
       "      <td>1</td>\n",
       "    </tr>\n",
       "  </tbody>\n",
       "</table>\n",
       "</div>"
      ],
      "text/plain": [
       "   rating       date         variation  \\\n",
       "0       5  31-Jul-18  Charcoal Fabric    \n",
       "1       5  31-Jul-18  Charcoal Fabric    \n",
       "2       4  31-Jul-18    Walnut Finish    \n",
       "3       5  31-Jul-18  Charcoal Fabric    \n",
       "4       5  31-Jul-18  Charcoal Fabric    \n",
       "\n",
       "                                    verified_reviews  feedback  \n",
       "0                                      Love my Echo!         1  \n",
       "1                                          Loved it!         1  \n",
       "2  Sometimes while playing a game, you can answer...         1  \n",
       "3  I have had a lot of fun with this thing. My 4 ...         1  \n",
       "4                                              Music         1  "
      ]
     },
     "execution_count": 1,
     "metadata": {},
     "output_type": "execute_result"
    }
   ],
   "source": [
    "#!pip install nltk\n",
    "#nltk.download('stopwords')\n",
    "# nltk.download('wordnet')\n",
    "# nltk.download('omw-1.4')\n",
    "\n",
    "\n",
    "# Import the required libraires\n",
    "import numpy as np\n",
    "import pandas as pd\n",
    "\n",
    "# visualization libraries\n",
    "import matplotlib.pyplot as plt\n",
    "import seaborn as sns\n",
    "%matplotlib inline\n",
    "\n",
    "import re\n",
    "\n",
    "# Pre-processing library\n",
    "import nltk\n",
    "from nltk.corpus import stopwords\n",
    "from nltk.stem.porter import PorterStemmer\n",
    "from sklearn.feature_extraction.text import CountVectorizer\n",
    "from sklearn.feature_extraction.text import TfidfTransformer\n",
    "\n",
    "\n",
    "# Models library\n",
    "from sklearn.model_selection import train_test_split\n",
    "from sklearn import svm\n",
    "from sklearn.ensemble import RandomForestClassifier\n",
    "\n",
    "\n",
    "import os\n",
    "for dirname, _, filenames in os.walk('/kaggle/input'):\n",
    "    for filename in filenames:\n",
    "        print(os.path.join(dirname, filename))\n",
    "\n",
    "df = pd.read_csv(\"/kaggle/input/amazon-alexa-reviews/amazon_alexa.tsv\",sep=\"\\t\")\n",
    "print(df.shape)\n",
    "df.head()"
   ]
  },
  {
   "cell_type": "markdown",
   "id": "94211e6c",
   "metadata": {
    "papermill": {
     "duration": 0.006018,
     "end_time": "2022-09-18T19:22:35.680325",
     "exception": false,
     "start_time": "2022-09-18T19:22:35.674307",
     "status": "completed"
    },
    "tags": []
   },
   "source": [
    "### Check the data we are dealing with as well as some visualization"
   ]
  },
  {
   "cell_type": "code",
   "execution_count": 2,
   "id": "3ed6a620",
   "metadata": {
    "execution": {
     "iopub.execute_input": "2022-09-18T19:22:35.694522Z",
     "iopub.status.busy": "2022-09-18T19:22:35.693566Z",
     "iopub.status.idle": "2022-09-18T19:22:35.941520Z",
     "shell.execute_reply": "2022-09-18T19:22:35.940444Z"
    },
    "papermill": {
     "duration": 0.257498,
     "end_time": "2022-09-18T19:22:35.943797",
     "exception": false,
     "start_time": "2022-09-18T19:22:35.686299",
     "status": "completed"
    },
    "tags": []
   },
   "outputs": [
    {
     "name": "stdout",
     "output_type": "stream",
     "text": [
      "          feedback\n",
      "count  3150.000000\n",
      "mean      0.918413\n",
      "std       0.273778\n",
      "min       0.000000\n",
      "25%       1.000000\n",
      "50%       1.000000\n",
      "75%       1.000000\n",
      "max       1.000000\n"
     ]
    },
    {
     "data": {
      "text/plain": [
       "array([[<AxesSubplot:title={'center':'feedback'}>]], dtype=object)"
      ]
     },
     "execution_count": 2,
     "metadata": {},
     "output_type": "execute_result"
    },
    {
     "data": {
      "image/png": "[encoded data removed]",
      "text/plain": [
       "<Figure size 432x288 with 1 Axes>"
      ]
     },
     "metadata": {
      "needs_background": "light"
     },
     "output_type": "display_data"
    }
   ],
   "source": [
    "# Drop unrelated columns\n",
    "df = df.drop(['date','variation','rating'],axis=1)\n",
    "print(df.describe())\n",
    "df.hist()"
   ]
  },
  {
   "cell_type": "code",
   "execution_count": 3,
   "id": "21e980d3",
   "metadata": {
    "execution": {
     "iopub.execute_input": "2022-09-18T19:22:35.958520Z",
     "iopub.status.busy": "2022-09-18T19:22:35.957668Z",
     "iopub.status.idle": "2022-09-18T19:22:35.968414Z",
     "shell.execute_reply": "2022-09-18T19:22:35.967531Z"
    },
    "papermill": {
     "duration": 0.020371,
     "end_time": "2022-09-18T19:22:35.970642",
     "exception": false,
     "start_time": "2022-09-18T19:22:35.950271",
     "status": "completed"
    },
    "tags": []
   },
   "outputs": [
    {
     "data": {
      "text/plain": [
       "verified_reviews    0\n",
       "feedback            0\n",
       "dtype: int64"
      ]
     },
     "execution_count": 3,
     "metadata": {},
     "output_type": "execute_result"
    }
   ],
   "source": [
    "# Check for null values\n",
    "df.isnull().sum()"
   ]
  },
  {
   "cell_type": "markdown",
   "id": "7e7dac9b",
   "metadata": {
    "papermill": {
     "duration": 0.00591,
     "end_time": "2022-09-18T19:22:35.982854",
     "exception": false,
     "start_time": "2022-09-18T19:22:35.976944",
     "status": "completed"
    },
    "tags": []
   },
   "source": [
    "### Clean and vectorize the *review* column so we can start working on it "
   ]
  },
  {
   "cell_type": "code",
   "execution_count": 4,
   "id": "be7471d2",
   "metadata": {
    "execution": {
     "iopub.execute_input": "2022-09-18T19:22:35.997555Z",
     "iopub.status.busy": "2022-09-18T19:22:35.996588Z",
     "iopub.status.idle": "2022-09-18T19:22:38.088273Z",
     "shell.execute_reply": "2022-09-18T19:22:38.087195Z"
    },
    "papermill": {
     "duration": 2.102008,
     "end_time": "2022-09-18T19:22:38.091084",
     "exception": false,
     "start_time": "2022-09-18T19:22:35.989076",
     "status": "completed"
    },
    "tags": []
   },
   "outputs": [],
   "source": [
    "def clean_rev(review):\n",
    "    stopwords = set(nltk.corpus.stopwords.words('english'))\n",
    "    stopwords.remove('not')\n",
    "    stopwords.remove('nor')\n",
    "    review = review.lower()\n",
    "    review = re.sub(\"[^A-Za-z0-9]\",' ',review)\n",
    "    review = re.sub(r'[0-9]+',' ',review)\n",
    "    review = \" \".join(PorterStemmer().stem(i) for i in review.split() if i not in stopwords)\n",
    "    \n",
    "    return review\n",
    "\n",
    "df['verified_reviews'] = df['verified_reviews'].apply(lambda rev: clean_rev(rev))"
   ]
  },
  {
   "cell_type": "markdown",
   "id": "94db7d91",
   "metadata": {
    "papermill": {
     "duration": 0.006446,
     "end_time": "2022-09-18T19:22:38.104642",
     "exception": false,
     "start_time": "2022-09-18T19:22:38.098196",
     "status": "completed"
    },
    "tags": []
   },
   "source": [
    "### Create Vectorizer and TF-IDF"
   ]
  },
  {
   "cell_type": "code",
   "execution_count": 5,
   "id": "ae391b8f",
   "metadata": {
    "execution": {
     "iopub.execute_input": "2022-09-18T19:22:38.119298Z",
     "iopub.status.busy": "2022-09-18T19:22:38.118878Z",
     "iopub.status.idle": "2022-09-18T19:22:38.225320Z",
     "shell.execute_reply": "2022-09-18T19:22:38.224323Z"
    },
    "papermill": {
     "duration": 0.11676,
     "end_time": "2022-09-18T19:22:38.227953",
     "exception": false,
     "start_time": "2022-09-18T19:22:38.111193",
     "status": "completed"
    },
    "tags": []
   },
   "outputs": [],
   "source": [
    "vectorizer = CountVectorizer(max_features=5000)\n",
    "vectorizer.fit_transform(df['verified_reviews'])\n",
    "\n",
    "x_vectorized = vectorizer.transform(df['verified_reviews'])\n",
    "\n",
    "\n",
    "tfidfer = TfidfTransformer()\n",
    "tfidfer.fit_transform(x_vectorized)\n",
    "x = tfidfer.transform(x_vectorized)"
   ]
  },
  {
   "cell_type": "markdown",
   "id": "4d2c0d0a",
   "metadata": {
    "papermill": {
     "duration": 0.006156,
     "end_time": "2022-09-18T19:22:38.240758",
     "exception": false,
     "start_time": "2022-09-18T19:22:38.234602",
     "status": "completed"
    },
    "tags": []
   },
   "source": [
    "### Create training sets"
   ]
  },
  {
   "cell_type": "code",
   "execution_count": 6,
   "id": "1c911a5e",
   "metadata": {
    "execution": {
     "iopub.execute_input": "2022-09-18T19:22:38.255471Z",
     "iopub.status.busy": "2022-09-18T19:22:38.254979Z",
     "iopub.status.idle": "2022-09-18T19:22:38.395659Z",
     "shell.execute_reply": "2022-09-18T19:22:38.394091Z"
    },
    "papermill": {
     "duration": 0.151331,
     "end_time": "2022-09-18T19:22:38.398523",
     "exception": false,
     "start_time": "2022-09-18T19:22:38.247192",
     "status": "completed"
    },
    "tags": []
   },
   "outputs": [
    {
     "name": "stdout",
     "output_type": "stream",
     "text": [
      "1    2321\n",
      "0     199\n",
      "Name: feedback, dtype: int64\n",
      "1    2321\n",
      "0    2321\n",
      "Name: feedback, dtype: int64\n",
      "0    199\n",
      "1    199\n",
      "Name: feedback, dtype: int64\n"
     ]
    }
   ],
   "source": [
    "y = df['feedback']\n",
    "x_train, x_test ,y_train,y_test = train_test_split(x,y,test_size=0.2,random_state=42)\n",
    "\n",
    "# Oversampling\n",
    "from imblearn.over_sampling import RandomOverSampler\n",
    "# define oversampling strategy\n",
    "oversample = RandomOverSampler(sampling_strategy='minority')\n",
    "# fit and apply the transform\n",
    "print(y_train.value_counts())\n",
    "x_train_oversampled, y_train_oversampled = oversample.fit_resample(x_train, y_train)\n",
    "print(y_train_oversampled.value_counts())\n",
    "\n",
    "# Undersampling\n",
    "from imblearn.under_sampling import RandomUnderSampler\n",
    "# define undersample strategy\n",
    "undersample = RandomUnderSampler(sampling_strategy='majority')\n",
    "# fit and apply the transform\n",
    "x_train_undersampled, y_train_undersampled = undersample.fit_resample(x_train, y_train)\n",
    "print(y_train_undersampled.value_counts())"
   ]
  },
  {
   "cell_type": "markdown",
   "id": "25203caf",
   "metadata": {
    "papermill": {
     "duration": 0.006282,
     "end_time": "2022-09-18T19:22:38.411721",
     "exception": false,
     "start_time": "2022-09-18T19:22:38.405439",
     "status": "completed"
    },
    "tags": []
   },
   "source": [
    "### Start by using SVM and creating and training model"
   ]
  },
  {
   "cell_type": "code",
   "execution_count": 7,
   "id": "b9b1503c",
   "metadata": {
    "execution": {
     "iopub.execute_input": "2022-09-18T19:22:38.426797Z",
     "iopub.status.busy": "2022-09-18T19:22:38.426367Z",
     "iopub.status.idle": "2022-09-18T19:22:38.973408Z",
     "shell.execute_reply": "2022-09-18T19:22:38.972391Z"
    },
    "papermill": {
     "duration": 0.557724,
     "end_time": "2022-09-18T19:22:38.976071",
     "exception": false,
     "start_time": "2022-09-18T19:22:38.418347",
     "status": "completed"
    },
    "tags": []
   },
   "outputs": [],
   "source": [
    "model_smv = svm.SVC()\n",
    "model_smv.fit(x_train, y_train)\n",
    "smv_pred = model_smv.predict(x_test)"
   ]
  },
  {
   "cell_type": "code",
   "execution_count": 8,
   "id": "41f8a2ad",
   "metadata": {
    "execution": {
     "iopub.execute_input": "2022-09-18T19:22:38.992591Z",
     "iopub.status.busy": "2022-09-18T19:22:38.991721Z",
     "iopub.status.idle": "2022-09-18T19:22:39.578966Z",
     "shell.execute_reply": "2022-09-18T19:22:39.577775Z"
    },
    "papermill": {
     "duration": 0.598858,
     "end_time": "2022-09-18T19:22:39.581656",
     "exception": false,
     "start_time": "2022-09-18T19:22:38.982798",
     "status": "completed"
    },
    "tags": []
   },
   "outputs": [],
   "source": [
    "# with cleass weight balanced\n",
    "model_smv = svm.SVC(class_weight='balanced')\n",
    "model_smv.fit(x_train, y_train)\n",
    "smv_pred_balanced = model_smv.predict(x_test)"
   ]
  },
  {
   "cell_type": "code",
   "execution_count": 9,
   "id": "cc9df038",
   "metadata": {
    "execution": {
     "iopub.execute_input": "2022-09-18T19:22:39.596481Z",
     "iopub.status.busy": "2022-09-18T19:22:39.596072Z",
     "iopub.status.idle": "2022-09-18T19:22:40.768798Z",
     "shell.execute_reply": "2022-09-18T19:22:40.767742Z"
    },
    "papermill": {
     "duration": 1.183278,
     "end_time": "2022-09-18T19:22:40.771519",
     "exception": false,
     "start_time": "2022-09-18T19:22:39.588241",
     "status": "completed"
    },
    "tags": []
   },
   "outputs": [],
   "source": [
    "# Now repeat but with oversampling\n",
    "model_smv = svm.SVC()\n",
    "model_smv.fit(x_train_oversampled, y_train_oversampled)\n",
    "smv_oversampled_pred = model_smv.predict(x_test)"
   ]
  },
  {
   "cell_type": "code",
   "execution_count": 10,
   "id": "85671807",
   "metadata": {
    "execution": {
     "iopub.execute_input": "2022-09-18T19:22:40.786351Z",
     "iopub.status.busy": "2022-09-18T19:22:40.785971Z",
     "iopub.status.idle": "2022-09-18T19:22:40.848204Z",
     "shell.execute_reply": "2022-09-18T19:22:40.846951Z"
    },
    "papermill": {
     "duration": 0.07274,
     "end_time": "2022-09-18T19:22:40.850827",
     "exception": false,
     "start_time": "2022-09-18T19:22:40.778087",
     "status": "completed"
    },
    "tags": []
   },
   "outputs": [],
   "source": [
    "# Now repeat but with undersampling\n",
    "model_smv = svm.SVC()\n",
    "model_smv.fit(x_train_undersampled, y_train_undersampled)\n",
    "smv_undersampled_pred = model_smv.predict(x_test)"
   ]
  },
  {
   "cell_type": "markdown",
   "id": "4d97c77e",
   "metadata": {
    "papermill": {
     "duration": 0.006287,
     "end_time": "2022-09-18T19:22:40.863858",
     "exception": false,
     "start_time": "2022-09-18T19:22:40.857571",
     "status": "completed"
    },
    "tags": []
   },
   "source": [
    "### Now the same for RandomForest model"
   ]
  },
  {
   "cell_type": "code",
   "execution_count": 11,
   "id": "a0395b96",
   "metadata": {
    "execution": {
     "iopub.execute_input": "2022-09-18T19:22:40.879149Z",
     "iopub.status.busy": "2022-09-18T19:22:40.878726Z",
     "iopub.status.idle": "2022-09-18T19:22:42.431892Z",
     "shell.execute_reply": "2022-09-18T19:22:42.430656Z"
    },
    "papermill": {
     "duration": 1.564318,
     "end_time": "2022-09-18T19:22:42.434794",
     "exception": false,
     "start_time": "2022-09-18T19:22:40.870476",
     "status": "completed"
    },
    "tags": []
   },
   "outputs": [],
   "source": [
    "model_RFC = RandomForestClassifier()\n",
    "model_RFC.fit(x_train,y_train)\n",
    "RFC_pred = model_RFC.predict(x_test)"
   ]
  },
  {
   "cell_type": "code",
   "execution_count": 12,
   "id": "44524452",
   "metadata": {
    "execution": {
     "iopub.execute_input": "2022-09-18T19:22:42.449826Z",
     "iopub.status.busy": "2022-09-18T19:22:42.449454Z",
     "iopub.status.idle": "2022-09-18T19:22:43.776827Z",
     "shell.execute_reply": "2022-09-18T19:22:43.775727Z"
    },
    "papermill": {
     "duration": 1.338091,
     "end_time": "2022-09-18T19:22:43.779519",
     "exception": false,
     "start_time": "2022-09-18T19:22:42.441428",
     "status": "completed"
    },
    "tags": []
   },
   "outputs": [],
   "source": [
    "# with class weight balanced\n",
    "model_RFC = RandomForestClassifier(class_weight='balanced')\n",
    "model_RFC.fit(x_train,y_train)\n",
    "RFC_pred_balanced = model_RFC.predict(x_test)"
   ]
  },
  {
   "cell_type": "code",
   "execution_count": 13,
   "id": "0ba8b81c",
   "metadata": {
    "execution": {
     "iopub.execute_input": "2022-09-18T19:22:43.794355Z",
     "iopub.status.busy": "2022-09-18T19:22:43.793932Z",
     "iopub.status.idle": "2022-09-18T19:22:45.721705Z",
     "shell.execute_reply": "2022-09-18T19:22:45.720357Z"
    },
    "papermill": {
     "duration": 1.938277,
     "end_time": "2022-09-18T19:22:45.724369",
     "exception": false,
     "start_time": "2022-09-18T19:22:43.786092",
     "status": "completed"
    },
    "tags": []
   },
   "outputs": [],
   "source": [
    "# Now repeat but with oversampling\n",
    "model_RFC = RandomForestClassifier()\n",
    "model_RFC.fit(x_train_oversampled,y_train_oversampled)\n",
    "RFC_oversampled_pred = model_RFC.predict(x_test)"
   ]
  },
  {
   "cell_type": "code",
   "execution_count": 14,
   "id": "97873f4d",
   "metadata": {
    "execution": {
     "iopub.execute_input": "2022-09-18T19:22:45.740193Z",
     "iopub.status.busy": "2022-09-18T19:22:45.739719Z",
     "iopub.status.idle": "2022-09-18T19:22:46.080763Z",
     "shell.execute_reply": "2022-09-18T19:22:46.079624Z"
    },
    "papermill": {
     "duration": 0.35198,
     "end_time": "2022-09-18T19:22:46.083662",
     "exception": false,
     "start_time": "2022-09-18T19:22:45.731682",
     "status": "completed"
    },
    "tags": []
   },
   "outputs": [],
   "source": [
    "# Now repeat but with undersampling\n",
    "model_RFC = RandomForestClassifier()\n",
    "model_RFC.fit(x_train_undersampled,y_train_undersampled)\n",
    "RFC_undersampled_pred = model_RFC.predict(x_test)"
   ]
  },
  {
   "cell_type": "markdown",
   "id": "929525ac",
   "metadata": {
    "papermill": {
     "duration": 0.006491,
     "end_time": "2022-09-18T19:22:46.096969",
     "exception": false,
     "start_time": "2022-09-18T19:22:46.090478",
     "status": "completed"
    },
    "tags": []
   },
   "source": [
    "### import metrics and see the performance of both models"
   ]
  },
  {
   "cell_type": "code",
   "execution_count": 15,
   "id": "c29a9e9e",
   "metadata": {
    "execution": {
     "iopub.execute_input": "2022-09-18T19:22:46.111719Z",
     "iopub.status.busy": "2022-09-18T19:22:46.111328Z",
     "iopub.status.idle": "2022-09-18T19:22:46.163896Z",
     "shell.execute_reply": "2022-09-18T19:22:46.162171Z"
    },
    "papermill": {
     "duration": 0.063322,
     "end_time": "2022-09-18T19:22:46.166794",
     "exception": false,
     "start_time": "2022-09-18T19:22:46.103472",
     "status": "completed"
    },
    "tags": []
   },
   "outputs": [
    {
     "name": "stdout",
     "output_type": "stream",
     "text": [
      "SVM(normal):\n",
      "Confusion matrix: \n",
      "[[ 14  44]\n",
      " [  0 572]]\n",
      "\n",
      "The F1 score is: 67.5925925925926\n",
      "The precision score is: 96.42857142857143\n",
      "The recall score is: 62.06896551724138\n",
      "The accuracy score is: 93.01587301587301\n",
      "\n",
      "\n",
      "\n",
      "SVM(balanced):\n",
      "Confusion matrix: \n",
      "[[ 29  29]\n",
      " [ 15 557]]\n",
      "\n",
      "The F1 score is: 76.53154526059129\n",
      "The precision score is: 80.48014272417004\n",
      "The recall score is: 73.68881118881119\n",
      "The accuracy score is: 93.01587301587301\n",
      "\n",
      "\n",
      "\n",
      "SVM(oversampled):\n",
      "Confusion matrix: \n",
      "[[ 29  29]\n",
      " [ 15 557]]\n",
      "\n",
      "The F1 score is: 76.53154526059129\n",
      "The precision score is: 80.48014272417004\n",
      "The recall score is: 73.68881118881119\n",
      "The accuracy score is: 93.01587301587301\n",
      "\n",
      "\n",
      "\n",
      "SVM(undersampled):\n",
      "Confusion matrix: \n",
      "[[ 53   5]\n",
      " [113 459]]\n",
      "\n",
      "The F1 score is: 67.96573359073359\n",
      "The precision score is: 65.42506231823847\n",
      "The recall score is: 85.81203279479142\n",
      "The accuracy score is: 81.26984126984127\n",
      "\n",
      "\n",
      "\n",
      "RandomForest(normal):\n",
      "Confusion matrix: \n",
      "[[ 22  36]\n",
      " [  4 568]]\n",
      "\n",
      "The F1 score is: 74.48979591836735\n",
      "The precision score is: 89.32755985736118\n",
      "The recall score is: 68.61586689172896\n",
      "The accuracy score is: 93.65079365079364\n",
      "\n",
      "\n",
      "\n",
      "RandomForest(balanced):\n",
      "Confusion matrix: \n",
      "[[ 28  30]\n",
      " [ 21 551]]\n",
      "\n",
      "The F1 score is: 73.95660244303765\n",
      "The precision score is: 75.98967297762478\n",
      "The recall score is: 72.30226669881843\n",
      "The accuracy score is: 91.9047619047619\n",
      "\n",
      "\n",
      "\n",
      "RandomForest(oversampled):\n",
      "Confusion matrix: \n",
      "[[ 34  24]\n",
      " [ 23 549]]\n",
      "\n",
      "The F1 score is: 77.51281564457946\n",
      "The precision score is: 77.73032056581243\n",
      "The recall score is: 77.29985531709669\n",
      "The accuracy score is: 92.53968253968254\n",
      "\n",
      "\n",
      "\n",
      "RandomForest(undersampled):\n",
      "Confusion matrix: \n",
      "[[ 57   1]\n",
      " [186 386]]\n",
      "\n",
      "The F1 score is: 59.18713776462885\n",
      "The precision score is: 61.59919609532013\n",
      "The recall score is: 82.8791897757415\n",
      "The accuracy score is: 70.31746031746032\n",
      "\n",
      "\n",
      "\n"
     ]
    }
   ],
   "source": [
    "from sklearn.metrics import accuracy_score, f1_score, precision_score, recall_score, classification_report, confusion_matrix\n",
    "\n",
    "print(f'SVM(normal):\\nConfusion matrix: \\n{confusion_matrix(y_test, smv_pred)}\\n')\n",
    "print(f'The F1 score is: {f1_score(y_test, smv_pred, average=\"macro\")*100}')\n",
    "print(f'The precision score is: {precision_score(y_test, smv_pred, average=\"macro\")*(100)}')\n",
    "print(f'The recall score is: {recall_score(y_test, smv_pred, average=\"macro\")*100}') \n",
    "print(f'The accuracy score is: {accuracy_score(y_test, smv_pred)*100}\\n\\n\\n')\n",
    "\n",
    "print(f'SVM(balanced):\\nConfusion matrix: \\n{confusion_matrix(y_test, smv_pred_balanced)}\\n')\n",
    "print(f'The F1 score is: {f1_score(y_test, smv_pred_balanced, average=\"macro\")*100}')\n",
    "print(f'The precision score is: {precision_score(y_test, smv_pred_balanced, average=\"macro\")*(100)}')\n",
    "print(f'The recall score is: {recall_score(y_test, smv_pred_balanced, average=\"macro\")*100}') \n",
    "print(f'The accuracy score is: {accuracy_score(y_test, smv_pred_balanced)*100}\\n\\n\\n')\n",
    "\n",
    "print(f'SVM(oversampled):\\nConfusion matrix: \\n{confusion_matrix(y_test, smv_oversampled_pred)}\\n')\n",
    "print(f'The F1 score is: {f1_score(y_test, smv_oversampled_pred, average=\"macro\")*100}')\n",
    "print(f'The precision score is: {precision_score(y_test, smv_oversampled_pred, average=\"macro\")*(100)}')\n",
    "print(f'The recall score is: {recall_score(y_test, smv_oversampled_pred, average=\"macro\")*100}') \n",
    "print(f'The accuracy score is: {accuracy_score(y_test, smv_oversampled_pred)*100}\\n\\n\\n')\n",
    "\n",
    "print(f'SVM(undersampled):\\nConfusion matrix: \\n{confusion_matrix(y_test, smv_undersampled_pred)}\\n')\n",
    "print(f'The F1 score is: {f1_score(y_test, smv_undersampled_pred, average=\"macro\")*100}')\n",
    "print(f'The precision score is: {precision_score(y_test, smv_undersampled_pred, average=\"macro\")*(100)}')\n",
    "print(f'The recall score is: {recall_score(y_test, smv_undersampled_pred, average=\"macro\")*100}') \n",
    "print(f'The accuracy score is: {accuracy_score(y_test, smv_undersampled_pred)*100}\\n\\n\\n')\n",
    "\n",
    "\n",
    "\n",
    "print(f'RandomForest(normal):\\nConfusion matrix: \\n{confusion_matrix(y_test, RFC_pred)}\\n')\n",
    "print(f'The F1 score is: {f1_score(y_test, RFC_pred, average=\"macro\")*100}')\n",
    "print(f'The precision score is: {precision_score(y_test, RFC_pred, average=\"macro\")*(100)}')\n",
    "print(f'The recall score is: {recall_score(y_test, RFC_pred, average=\"macro\")*100}') \n",
    "print(f'The accuracy score is: {accuracy_score(y_test, RFC_pred)*100}\\n\\n\\n')\n",
    "\n",
    "print(f'RandomForest(balanced):\\nConfusion matrix: \\n{confusion_matrix(y_test, RFC_pred_balanced)}\\n')\n",
    "print(f'The F1 score is: {f1_score(y_test, RFC_pred_balanced, average=\"macro\")*100}')\n",
    "print(f'The precision score is: {precision_score(y_test, RFC_pred_balanced, average=\"macro\")*(100)}')\n",
    "print(f'The recall score is: {recall_score(y_test, RFC_pred_balanced, average=\"macro\")*100}') \n",
    "print(f'The accuracy score is: {accuracy_score(y_test, RFC_pred_balanced)*100}\\n\\n\\n')\n",
    "\n",
    "print(f'RandomForest(oversampled):\\nConfusion matrix: \\n{confusion_matrix(y_test, RFC_oversampled_pred)}\\n')\n",
    "print(f'The F1 score is: {f1_score(y_test, RFC_oversampled_pred, average=\"macro\")*100}')\n",
    "print(f'The precision score is: {precision_score(y_test, RFC_oversampled_pred, average=\"macro\")*(100)}')\n",
    "print(f'The recall score is: {recall_score(y_test, RFC_oversampled_pred, average=\"macro\")*100}') \n",
    "print(f'The accuracy score is: {accuracy_score(y_test, RFC_oversampled_pred)*100}\\n\\n\\n')\n",
    "\n",
    "print(f'RandomForest(undersampled):\\nConfusion matrix: \\n{confusion_matrix(y_test, RFC_undersampled_pred)}\\n')\n",
    "print(f'The F1 score is: {f1_score(y_test, RFC_undersampled_pred, average=\"macro\")*100}')\n",
    "print(f'The precision score is: {precision_score(y_test, RFC_undersampled_pred, average=\"macro\")*(100)}')\n",
    "print(f'The recall score is: {recall_score(y_test, RFC_undersampled_pred, average=\"macro\")*100}') \n",
    "print(f'The accuracy score is: {accuracy_score(y_test, RFC_undersampled_pred)*100}\\n\\n\\n')"
   ]
  },
  {
   "cell_type": "code",
   "execution_count": 16,
   "id": "718593db",
   "metadata": {
    "execution": {
     "iopub.execute_input": "2022-09-18T19:22:46.182933Z",
     "iopub.status.busy": "2022-09-18T19:22:46.182306Z",
     "iopub.status.idle": "2022-09-18T19:22:46.189402Z",
     "shell.execute_reply": "2022-09-18T19:22:46.187759Z"
    },
    "papermill": {
     "duration": 0.018308,
     "end_time": "2022-09-18T19:22:46.192100",
     "exception": false,
     "start_time": "2022-09-18T19:22:46.173792",
     "status": "completed"
    },
    "tags": []
   },
   "outputs": [],
   "source": [
    "import pickle\n"
   ]
  }
 ],
 "metadata": {
  "kernelspec": {
   "display_name": "Python 3",
   "language": "python",
   "name": "python3"
  },
  "language_info": {
   "codemirror_mode": {
    "name": "ipython",
    "version": 3
   },
   "file_extension": ".py",
   "mimetype": "text/x-python",
   "name": "python",
   "nbconvert_exporter": "python",
   "pygments_lexer": "ipython3",
   "version": "3.7.12"
  },
  "papermill": {
   "default_parameters": {},
   "duration": 22.50086,
   "end_time": "2022-09-18T19:22:47.022701",
   "environment_variables": {},
   "exception": null,
   "input_path": "__notebook__.ipynb",
   "output_path": "__notebook__.ipynb",
   "parameters": {},
   "start_time": "2022-09-18T19:22:24.521841",
   "version": "2.3.4"
  }
 },
 "nbformat": 4,
 "nbformat_minor": 5
}
