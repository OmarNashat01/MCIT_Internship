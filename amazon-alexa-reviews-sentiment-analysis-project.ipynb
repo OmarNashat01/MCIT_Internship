{
 "cells": [
  {
   "cell_type": "markdown",
   "id": "9b91ed60",
   "metadata": {
    "execution": {
     "iopub.execute_input": "2022-09-14T19:51:03.982358Z",
     "iopub.status.busy": "2022-09-14T19:51:03.981347Z",
     "iopub.status.idle": "2022-09-14T19:51:04.018800Z",
     "shell.execute_reply": "2022-09-14T19:51:04.017725Z",
     "shell.execute_reply.started": "2022-09-14T19:51:03.982315Z"
    },
    "papermill": {
     "duration": 0.007977,
     "end_time": "2022-09-18T21:21:58.592793",
     "exception": false,
     "start_time": "2022-09-18T21:21:58.584816",
     "status": "completed"
    },
    "tags": []
   },
   "source": [
    "# Sentiment Analyzer using machine learning models\n",
    "\n",
    "#### Data-set: Amazon Alexa Reviews\n"
   ]
  },
  {
   "cell_type": "code",
   "execution_count": 1,
   "id": "e5192550",
   "metadata": {
    "execution": {
     "iopub.execute_input": "2022-09-18T21:21:58.609215Z",
     "iopub.status.busy": "2022-09-18T21:21:58.608179Z",
     "iopub.status.idle": "2022-09-18T21:22:00.650374Z",
     "shell.execute_reply": "2022-09-18T21:22:00.649373Z"
    },
    "papermill": {
     "duration": 2.05344,
     "end_time": "2022-09-18T21:22:00.653100",
     "exception": false,
     "start_time": "2022-09-18T21:21:58.599660",
     "status": "completed"
    },
    "tags": []
   },
   "outputs": [
    {
     "name": "stdout",
     "output_type": "stream",
     "text": [
      "/kaggle/input/amazon-alexa-reviews/amazon_alexa.tsv\n",
      "(3150, 5)\n"
     ]
    },
    {
     "data": {
      "text/html": [
       "<div>\n",
       "<style scoped>\n",
       "    .dataframe tbody tr th:only-of-type {\n",
       "        vertical-align: middle;\n",
       "    }\n",
       "\n",
       "    .dataframe tbody tr th {\n",
       "        vertical-align: top;\n",
       "    }\n",
       "\n",
       "    .dataframe thead th {\n",
       "        text-align: right;\n",
       "    }\n",
       "</style>\n",
       "<table border=\"1\" class=\"dataframe\">\n",
       "  <thead>\n",
       "    <tr style=\"text-align: right;\">\n",
       "      <th></th>\n",
       "      <th>rating</th>\n",
       "      <th>date</th>\n",
       "      <th>variation</th>\n",
       "      <th>verified_reviews</th>\n",
       "      <th>feedback</th>\n",
       "    </tr>\n",
       "  </thead>\n",
       "  <tbody>\n",
       "    <tr>\n",
       "      <th>0</th>\n",
       "      <td>5</td>\n",
       "      <td>31-Jul-18</td>\n",
       "      <td>Charcoal Fabric</td>\n",
       "      <td>Love my Echo!</td>\n",
       "      <td>1</td>\n",
       "    </tr>\n",
       "    <tr>\n",
       "      <th>1</th>\n",
       "      <td>5</td>\n",
       "      <td>31-Jul-18</td>\n",
       "      <td>Charcoal Fabric</td>\n",
       "      <td>Loved it!</td>\n",
       "      <td>1</td>\n",
       "    </tr>\n",
       "    <tr>\n",
       "      <th>2</th>\n",
       "      <td>4</td>\n",
       "      <td>31-Jul-18</td>\n",
       "      <td>Walnut Finish</td>\n",
       "      <td>Sometimes while playing a game, you can answer...</td>\n",
       "      <td>1</td>\n",
       "    </tr>\n",
       "    <tr>\n",
       "      <th>3</th>\n",
       "      <td>5</td>\n",
       "      <td>31-Jul-18</td>\n",
       "      <td>Charcoal Fabric</td>\n",
       "      <td>I have had a lot of fun with this thing. My 4 ...</td>\n",
       "      <td>1</td>\n",
       "    </tr>\n",
       "    <tr>\n",
       "      <th>4</th>\n",
       "      <td>5</td>\n",
       "      <td>31-Jul-18</td>\n",
       "      <td>Charcoal Fabric</td>\n",
       "      <td>Music</td>\n",
       "      <td>1</td>\n",
       "    </tr>\n",
       "  </tbody>\n",
       "</table>\n",
       "</div>"
      ],
      "text/plain": [
       "   rating       date         variation  \\\n",
       "0       5  31-Jul-18  Charcoal Fabric    \n",
       "1       5  31-Jul-18  Charcoal Fabric    \n",
       "2       4  31-Jul-18    Walnut Finish    \n",
       "3       5  31-Jul-18  Charcoal Fabric    \n",
       "4       5  31-Jul-18  Charcoal Fabric    \n",
       "\n",
       "                                    verified_reviews  feedback  \n",
       "0                                      Love my Echo!         1  \n",
       "1                                          Loved it!         1  \n",
       "2  Sometimes while playing a game, you can answer...         1  \n",
       "3  I have had a lot of fun with this thing. My 4 ...         1  \n",
       "4                                              Music         1  "
      ]
     },
     "execution_count": 1,
     "metadata": {},
     "output_type": "execute_result"
    }
   ],
   "source": [
    "#!pip install nltk\n",
    "#nltk.download('stopwords')\n",
    "# nltk.download('wordnet')\n",
    "# nltk.download('omw-1.4')\n",
    "\n",
    "\n",
    "# Import the required libraires\n",
    "import numpy as np\n",
    "import pandas as pd\n",
    "\n",
    "# visualization libraries\n",
    "import matplotlib.pyplot as plt\n",
    "import seaborn as sns\n",
    "%matplotlib inline\n",
    "\n",
    "import re\n",
    "\n",
    "# Pre-processing library\n",
    "import nltk\n",
    "from nltk.corpus import stopwords\n",
    "from nltk.stem.porter import PorterStemmer\n",
    "from sklearn.feature_extraction.text import CountVectorizer\n",
    "from sklearn.feature_extraction.text import TfidfVectorizer\n",
    "\n",
    "\n",
    "from sklearn.model_selection import train_test_split\n",
    "\n",
    "# Models \n",
    "from sklearn import svm\n",
    "from sklearn.ensemble import RandomForestClassifier\n",
    "from sklearn.linear_model import LogisticRegression\n",
    "\n",
    "import os\n",
    "for dirname, _, filenames in os.walk('/kaggle/input'):\n",
    "    for filename in filenames:\n",
    "        print(os.path.join(dirname, filename))\n",
    "\n",
    "df = pd.read_csv(\"/kaggle/input/amazon-alexa-reviews/amazon_alexa.tsv\",sep=\"\\t\")\n",
    "print(df.shape)\n",
    "df.head()"
   ]
  },
  {
   "cell_type": "markdown",
   "id": "a04b032e",
   "metadata": {
    "papermill": {
     "duration": 0.008023,
     "end_time": "2022-09-18T21:22:00.668816",
     "exception": false,
     "start_time": "2022-09-18T21:22:00.660793",
     "status": "completed"
    },
    "tags": []
   },
   "source": [
    "### Check the data we are dealing with as well as some visualization"
   ]
  },
  {
   "cell_type": "code",
   "execution_count": 2,
   "id": "d94b5f78",
   "metadata": {
    "execution": {
     "iopub.execute_input": "2022-09-18T21:22:00.686053Z",
     "iopub.status.busy": "2022-09-18T21:22:00.685278Z",
     "iopub.status.idle": "2022-09-18T21:22:01.008595Z",
     "shell.execute_reply": "2022-09-18T21:22:01.007023Z"
    },
    "papermill": {
     "duration": 0.335386,
     "end_time": "2022-09-18T21:22:01.012075",
     "exception": false,
     "start_time": "2022-09-18T21:22:00.676689",
     "status": "completed"
    },
    "tags": []
   },
   "outputs": [
    {
     "name": "stdout",
     "output_type": "stream",
     "text": [
      "          feedback\n",
      "count  3150.000000\n",
      "mean      0.918413\n",
      "std       0.273778\n",
      "min       0.000000\n",
      "25%       1.000000\n",
      "50%       1.000000\n",
      "75%       1.000000\n",
      "max       1.000000\n"
     ]
    },
    {
     "data": {
      "text/plain": [
       "array([[<AxesSubplot:title={'center':'feedback'}>]], dtype=object)"
      ]
     },
     "execution_count": 2,
     "metadata": {},
     "output_type": "execute_result"
    },
    {
     "data": {
      "image/png": "[encoded data removed]",
      "text/plain": [
       "<Figure size 432x288 with 1 Axes>"
      ]
     },
     "metadata": {
      "needs_background": "light"
     },
     "output_type": "display_data"
    }
   ],
   "source": [
    "# Drop unrelated columns\n",
    "df = df.drop(['date','variation','rating'],axis=1)\n",
    "print(df.describe())\n",
    "df.hist()"
   ]
  },
  {
   "cell_type": "code",
   "execution_count": 3,
   "id": "ac3b78c3",
   "metadata": {
    "execution": {
     "iopub.execute_input": "2022-09-18T21:22:01.033061Z",
     "iopub.status.busy": "2022-09-18T21:22:01.032243Z",
     "iopub.status.idle": "2022-09-18T21:22:01.041151Z",
     "shell.execute_reply": "2022-09-18T21:22:01.040230Z"
    },
    "papermill": {
     "duration": 0.021255,
     "end_time": "2022-09-18T21:22:01.043431",
     "exception": false,
     "start_time": "2022-09-18T21:22:01.022176",
     "status": "completed"
    },
    "tags": []
   },
   "outputs": [
    {
     "data": {
      "text/plain": [
       "verified_reviews    0\n",
       "feedback            0\n",
       "dtype: int64"
      ]
     },
     "execution_count": 3,
     "metadata": {},
     "output_type": "execute_result"
    }
   ],
   "source": [
    "# Check for null values\n",
    "df.isnull().sum()"
   ]
  },
  {
   "cell_type": "markdown",
   "id": "e18f0b11",
   "metadata": {
    "papermill": {
     "duration": 0.00794,
     "end_time": "2022-09-18T21:22:01.059763",
     "exception": false,
     "start_time": "2022-09-18T21:22:01.051823",
     "status": "completed"
    },
    "tags": []
   },
   "source": [
    "### Clean and vectorize the *review* column so we can start working on it "
   ]
  },
  {
   "cell_type": "code",
   "execution_count": 4,
   "id": "36b31886",
   "metadata": {
    "execution": {
     "iopub.execute_input": "2022-09-18T21:22:01.080172Z",
     "iopub.status.busy": "2022-09-18T21:22:01.079466Z",
     "iopub.status.idle": "2022-09-18T21:22:03.210415Z",
     "shell.execute_reply": "2022-09-18T21:22:03.209411Z"
    },
    "papermill": {
     "duration": 2.145042,
     "end_time": "2022-09-18T21:22:03.213133",
     "exception": false,
     "start_time": "2022-09-18T21:22:01.068091",
     "status": "completed"
    },
    "tags": []
   },
   "outputs": [],
   "source": [
    "def clean_rev(review):\n",
    "    stopwords = set(nltk.corpus.stopwords.words('english'))\n",
    "    stopwords.remove('not')\n",
    "    stopwords.remove('nor')\n",
    "    review = review.lower()\n",
    "    review = re.sub(\"[^A-Za-z0-9]\",' ',review)\n",
    "    review = re.sub(r'[0-9]+',' ',review)\n",
    "    review = \" \".join(PorterStemmer().stem(i) for i in review.split() if i not in stopwords)\n",
    "    \n",
    "    return review\n",
    "\n",
    "df['verified_reviews'] = df['verified_reviews'].apply(lambda rev: clean_rev(rev))"
   ]
  },
  {
   "cell_type": "markdown",
   "id": "393c58d7",
   "metadata": {
    "papermill": {
     "duration": 0.007264,
     "end_time": "2022-09-18T21:22:03.228215",
     "exception": false,
     "start_time": "2022-09-18T21:22:03.220951",
     "status": "completed"
    },
    "tags": []
   },
   "source": [
    "### Create Vectorizer and TF-IDF"
   ]
  },
  {
   "cell_type": "code",
   "execution_count": 5,
   "id": "34a30ba3",
   "metadata": {
    "execution": {
     "iopub.execute_input": "2022-09-18T21:22:03.245009Z",
     "iopub.status.busy": "2022-09-18T21:22:03.244583Z",
     "iopub.status.idle": "2022-09-18T21:22:03.445620Z",
     "shell.execute_reply": "2022-09-18T21:22:03.444337Z"
    },
    "papermill": {
     "duration": 0.212583,
     "end_time": "2022-09-18T21:22:03.448409",
     "exception": false,
     "start_time": "2022-09-18T21:22:03.235826",
     "status": "completed"
    },
    "tags": []
   },
   "outputs": [],
   "source": [
    "vectorizer = CountVectorizer(max_features=5000)\n",
    "vectorizer.fit_transform(df['verified_reviews'])\n",
    "\n",
    "x_count_vectorized = vectorizer.transform(df['verified_reviews'])\n",
    "\n",
    "\n",
    "tfidfer = TfidfVectorizer()\n",
    "tfidfer.fit_transform(df['verified_reviews'])\n",
    "x = tfidfer.transform(df['verified_reviews'])"
   ]
  },
  {
   "cell_type": "markdown",
   "id": "c726df42",
   "metadata": {
    "papermill": {
     "duration": 0.00714,
     "end_time": "2022-09-18T21:22:03.463148",
     "exception": false,
     "start_time": "2022-09-18T21:22:03.456008",
     "status": "completed"
    },
    "tags": []
   },
   "source": [
    "### Create training sets"
   ]
  },
  {
   "cell_type": "code",
   "execution_count": 6,
   "id": "c488474d",
   "metadata": {
    "execution": {
     "iopub.execute_input": "2022-09-18T21:22:03.480976Z",
     "iopub.status.busy": "2022-09-18T21:22:03.480504Z",
     "iopub.status.idle": "2022-09-18T21:22:03.613428Z",
     "shell.execute_reply": "2022-09-18T21:22:03.611958Z"
    },
    "papermill": {
     "duration": 0.144742,
     "end_time": "2022-09-18T21:22:03.616100",
     "exception": false,
     "start_time": "2022-09-18T21:22:03.471358",
     "status": "completed"
    },
    "tags": []
   },
   "outputs": [
    {
     "name": "stdout",
     "output_type": "stream",
     "text": [
      "1    2321\n",
      "0     199\n",
      "Name: feedback, dtype: int64\n",
      "1    2321\n",
      "0    2321\n",
      "Name: feedback, dtype: int64\n",
      "0    199\n",
      "1    199\n",
      "Name: feedback, dtype: int64\n"
     ]
    }
   ],
   "source": [
    "y = df['feedback']\n",
    "x_train, x_test ,y_train,y_test = train_test_split(x,y,test_size=0.2,random_state=42)\n",
    "\n",
    "# Oversampling\n",
    "from imblearn.over_sampling import RandomOverSampler\n",
    "# define oversampling strategy\n",
    "oversample = RandomOverSampler(sampling_strategy='minority')\n",
    "# fit and apply the transform\n",
    "print(y_train.value_counts())\n",
    "x_train_oversampled, y_train_oversampled = oversample.fit_resample(x_train, y_train)\n",
    "print(y_train_oversampled.value_counts())\n",
    "\n",
    "# Undersampling\n",
    "from imblearn.under_sampling import RandomUnderSampler\n",
    "# define undersample strategy\n",
    "undersample = RandomUnderSampler(sampling_strategy='majority')\n",
    "# fit and apply the transform\n",
    "x_train_undersampled, y_train_undersampled = undersample.fit_resample(x_train, y_train)\n",
    "print(y_train_undersampled.value_counts())"
   ]
  },
  {
   "cell_type": "markdown",
   "id": "cd82d301",
   "metadata": {
    "papermill": {
     "duration": 0.0079,
     "end_time": "2022-09-18T21:22:03.632947",
     "exception": false,
     "start_time": "2022-09-18T21:22:03.625047",
     "status": "completed"
    },
    "tags": []
   },
   "source": [
    "### Start by using SVM and creating and training model"
   ]
  },
  {
   "cell_type": "code",
   "execution_count": 7,
   "id": "783d814d",
   "metadata": {
    "execution": {
     "iopub.execute_input": "2022-09-18T21:22:03.649808Z",
     "iopub.status.busy": "2022-09-18T21:22:03.649390Z",
     "iopub.status.idle": "2022-09-18T21:22:04.212739Z",
     "shell.execute_reply": "2022-09-18T21:22:04.211669Z"
    },
    "papermill": {
     "duration": 0.574824,
     "end_time": "2022-09-18T21:22:04.215485",
     "exception": false,
     "start_time": "2022-09-18T21:22:03.640661",
     "status": "completed"
    },
    "tags": []
   },
   "outputs": [],
   "source": [
    "model_smv = svm.SVC()\n",
    "model_smv.fit(x_train, y_train)\n",
    "smv_pred = model_smv.predict(x_test)"
   ]
  },
  {
   "cell_type": "code",
   "execution_count": 8,
   "id": "8177c10b",
   "metadata": {
    "execution": {
     "iopub.execute_input": "2022-09-18T21:22:04.234920Z",
     "iopub.status.busy": "2022-09-18T21:22:04.234111Z",
     "iopub.status.idle": "2022-09-18T21:22:04.824251Z",
     "shell.execute_reply": "2022-09-18T21:22:04.823394Z"
    },
    "papermill": {
     "duration": 0.602758,
     "end_time": "2022-09-18T21:22:04.826813",
     "exception": false,
     "start_time": "2022-09-18T21:22:04.224055",
     "status": "completed"
    },
    "tags": []
   },
   "outputs": [],
   "source": [
    "# with cleass weight balanced\n",
    "model_smv = svm.SVC(class_weight='balanced')\n",
    "model_smv.fit(x_train, y_train)\n",
    "smv_pred_balanced = model_smv.predict(x_test)"
   ]
  },
  {
   "cell_type": "code",
   "execution_count": 9,
   "id": "70733323",
   "metadata": {
    "execution": {
     "iopub.execute_input": "2022-09-18T21:22:04.844420Z",
     "iopub.status.busy": "2022-09-18T21:22:04.843632Z",
     "iopub.status.idle": "2022-09-18T21:22:06.011754Z",
     "shell.execute_reply": "2022-09-18T21:22:06.010719Z"
    },
    "papermill": {
     "duration": 1.179487,
     "end_time": "2022-09-18T21:22:06.014342",
     "exception": false,
     "start_time": "2022-09-18T21:22:04.834855",
     "status": "completed"
    },
    "tags": []
   },
   "outputs": [],
   "source": [
    "# Now repeat but with oversampling\n",
    "model_smv = svm.SVC()\n",
    "model_smv.fit(x_train_oversampled, y_train_oversampled)\n",
    "smv_oversampled_pred = model_smv.predict(x_test)"
   ]
  },
  {
   "cell_type": "code",
   "execution_count": 10,
   "id": "1be9864a",
   "metadata": {
    "execution": {
     "iopub.execute_input": "2022-09-18T21:22:06.031804Z",
     "iopub.status.busy": "2022-09-18T21:22:06.031352Z",
     "iopub.status.idle": "2022-09-18T21:22:06.096864Z",
     "shell.execute_reply": "2022-09-18T21:22:06.095714Z"
    },
    "papermill": {
     "duration": 0.077595,
     "end_time": "2022-09-18T21:22:06.099584",
     "exception": false,
     "start_time": "2022-09-18T21:22:06.021989",
     "status": "completed"
    },
    "tags": []
   },
   "outputs": [],
   "source": [
    "# Now repeat but with undersampling\n",
    "model_smv = svm.SVC()\n",
    "model_smv.fit(x_train_undersampled, y_train_undersampled)\n",
    "smv_undersampled_pred = model_smv.predict(x_test)"
   ]
  },
  {
   "cell_type": "markdown",
   "id": "bbb6e99e",
   "metadata": {
    "papermill": {
     "duration": 0.007541,
     "end_time": "2022-09-18T21:22:06.115004",
     "exception": false,
     "start_time": "2022-09-18T21:22:06.107463",
     "status": "completed"
    },
    "tags": []
   },
   "source": [
    "### Now the same for RandomForest model"
   ]
  },
  {
   "cell_type": "code",
   "execution_count": 11,
   "id": "32e49f81",
   "metadata": {
    "execution": {
     "iopub.execute_input": "2022-09-18T21:22:06.132062Z",
     "iopub.status.busy": "2022-09-18T21:22:06.131608Z",
     "iopub.status.idle": "2022-09-18T21:22:07.700300Z",
     "shell.execute_reply": "2022-09-18T21:22:07.699274Z"
    },
    "papermill": {
     "duration": 1.580447,
     "end_time": "2022-09-18T21:22:07.703016",
     "exception": false,
     "start_time": "2022-09-18T21:22:06.122569",
     "status": "completed"
    },
    "tags": []
   },
   "outputs": [],
   "source": [
    "model_RFC = RandomForestClassifier()\n",
    "model_RFC.fit(x_train,y_train)\n",
    "RFC_pred = model_RFC.predict(x_test)"
   ]
  },
  {
   "cell_type": "code",
   "execution_count": 12,
   "id": "aec14bcf",
   "metadata": {
    "execution": {
     "iopub.execute_input": "2022-09-18T21:22:07.720008Z",
     "iopub.status.busy": "2022-09-18T21:22:07.719590Z",
     "iopub.status.idle": "2022-09-18T21:22:08.995597Z",
     "shell.execute_reply": "2022-09-18T21:22:08.994394Z"
    },
    "papermill": {
     "duration": 1.287515,
     "end_time": "2022-09-18T21:22:08.998190",
     "exception": false,
     "start_time": "2022-09-18T21:22:07.710675",
     "status": "completed"
    },
    "tags": []
   },
   "outputs": [],
   "source": [
    "# with class weight balanced\n",
    "model_RFC = RandomForestClassifier(class_weight='balanced')\n",
    "model_RFC.fit(x_train,y_train)\n",
    "RFC_pred_balanced = model_RFC.predict(x_test)"
   ]
  },
  {
   "cell_type": "code",
   "execution_count": 13,
   "id": "85a9a34a",
   "metadata": {
    "execution": {
     "iopub.execute_input": "2022-09-18T21:22:09.016352Z",
     "iopub.status.busy": "2022-09-18T21:22:09.015900Z",
     "iopub.status.idle": "2022-09-18T21:22:10.936102Z",
     "shell.execute_reply": "2022-09-18T21:22:10.935119Z"
    },
    "papermill": {
     "duration": 1.932452,
     "end_time": "2022-09-18T21:22:10.938751",
     "exception": false,
     "start_time": "2022-09-18T21:22:09.006299",
     "status": "completed"
    },
    "tags": []
   },
   "outputs": [],
   "source": [
    "# Now repeat but with oversampling\n",
    "model_RFC = RandomForestClassifier()\n",
    "model_RFC.fit(x_train_oversampled,y_train_oversampled)\n",
    "RFC_oversampled_pred = model_RFC.predict(x_test)"
   ]
  },
  {
   "cell_type": "code",
   "execution_count": 14,
   "id": "60f567ee",
   "metadata": {
    "execution": {
     "iopub.execute_input": "2022-09-18T21:22:10.955510Z",
     "iopub.status.busy": "2022-09-18T21:22:10.955135Z",
     "iopub.status.idle": "2022-09-18T21:22:11.296248Z",
     "shell.execute_reply": "2022-09-18T21:22:11.295129Z"
    },
    "papermill": {
     "duration": 0.352725,
     "end_time": "2022-09-18T21:22:11.299190",
     "exception": false,
     "start_time": "2022-09-18T21:22:10.946465",
     "status": "completed"
    },
    "tags": []
   },
   "outputs": [],
   "source": [
    "# Now repeat but with undersampling\n",
    "model_RFC = RandomForestClassifier()\n",
    "model_RFC.fit(x_train_undersampled,y_train_undersampled)\n",
    "RFC_undersampled_pred = model_RFC.predict(x_test)"
   ]
  },
  {
   "cell_type": "markdown",
   "id": "efe0d919",
   "metadata": {
    "papermill": {
     "duration": 0.007509,
     "end_time": "2022-09-18T21:22:11.314496",
     "exception": false,
     "start_time": "2022-09-18T21:22:11.306987",
     "status": "completed"
    },
    "tags": []
   },
   "source": [
    "### Now the same for Logistic Regression model"
   ]
  },
  {
   "cell_type": "code",
   "execution_count": 15,
   "id": "bed8965c",
   "metadata": {
    "execution": {
     "iopub.execute_input": "2022-09-18T21:22:11.331870Z",
     "iopub.status.busy": "2022-09-18T21:22:11.331394Z",
     "iopub.status.idle": "2022-09-18T21:22:11.413411Z",
     "shell.execute_reply": "2022-09-18T21:22:11.412491Z"
    },
    "papermill": {
     "duration": 0.093746,
     "end_time": "2022-09-18T21:22:11.415979",
     "exception": false,
     "start_time": "2022-09-18T21:22:11.322233",
     "status": "completed"
    },
    "tags": []
   },
   "outputs": [],
   "source": [
    "# Now the same for Logistic Regression\n",
    "model_LR = LogisticRegression()\n",
    "model_LR.fit(x_train,y_train)\n",
    "LR_pred = model_RFC.predict(x_test)"
   ]
  },
  {
   "cell_type": "code",
   "execution_count": 16,
   "id": "4669b26d",
   "metadata": {
    "execution": {
     "iopub.execute_input": "2022-09-18T21:22:11.432343Z",
     "iopub.status.busy": "2022-09-18T21:22:11.431966Z",
     "iopub.status.idle": "2022-09-18T21:22:11.496175Z",
     "shell.execute_reply": "2022-09-18T21:22:11.495212Z"
    },
    "papermill": {
     "duration": 0.075419,
     "end_time": "2022-09-18T21:22:11.498803",
     "exception": false,
     "start_time": "2022-09-18T21:22:11.423384",
     "status": "completed"
    },
    "tags": []
   },
   "outputs": [],
   "source": [
    "# Now repeat but with class weight balanced\n",
    "model_LR = LogisticRegression(class_weight='balanced')\n",
    "model_LR.fit(x_train,y_train)\n",
    "LR_pred_balanced = model_RFC.predict(x_test)"
   ]
  },
  {
   "cell_type": "code",
   "execution_count": 17,
   "id": "3aa26246",
   "metadata": {
    "execution": {
     "iopub.execute_input": "2022-09-18T21:22:11.515605Z",
     "iopub.status.busy": "2022-09-18T21:22:11.515180Z",
     "iopub.status.idle": "2022-09-18T21:22:11.606270Z",
     "shell.execute_reply": "2022-09-18T21:22:11.605092Z"
    },
    "papermill": {
     "duration": 0.102354,
     "end_time": "2022-09-18T21:22:11.608833",
     "exception": false,
     "start_time": "2022-09-18T21:22:11.506479",
     "status": "completed"
    },
    "tags": []
   },
   "outputs": [],
   "source": [
    "# Now repeat but with oversampling\n",
    "model_LR = LogisticRegression()\n",
    "model_LR.fit(x_train_oversampled,y_train_oversampled)\n",
    "LR_oversampled_pred = model_RFC.predict(x_test)"
   ]
  },
  {
   "cell_type": "code",
   "execution_count": 18,
   "id": "df6464a1",
   "metadata": {
    "execution": {
     "iopub.execute_input": "2022-09-18T21:22:11.626564Z",
     "iopub.status.busy": "2022-09-18T21:22:11.625634Z",
     "iopub.status.idle": "2022-09-18T21:22:11.684672Z",
     "shell.execute_reply": "2022-09-18T21:22:11.683432Z"
    },
    "papermill": {
     "duration": 0.070947,
     "end_time": "2022-09-18T21:22:11.687567",
     "exception": false,
     "start_time": "2022-09-18T21:22:11.616620",
     "status": "completed"
    },
    "tags": []
   },
   "outputs": [],
   "source": [
    "# Now repeat but with undersampling\n",
    "model_LR = LogisticRegression()\n",
    "model_LR.fit(x_train_undersampled,y_train_undersampled)\n",
    "LR_undersampled_pred = model_RFC.predict(x_test)"
   ]
  },
  {
   "cell_type": "markdown",
   "id": "0a0f928e",
   "metadata": {
    "papermill": {
     "duration": 0.007102,
     "end_time": "2022-09-18T21:22:11.702302",
     "exception": false,
     "start_time": "2022-09-18T21:22:11.695200",
     "status": "completed"
    },
    "tags": []
   },
   "source": [
    "### import metrics and see the performance of both models"
   ]
  },
  {
   "cell_type": "code",
   "execution_count": 19,
   "id": "b814cf39",
   "metadata": {
    "execution": {
     "iopub.execute_input": "2022-09-18T21:22:11.719252Z",
     "iopub.status.busy": "2022-09-18T21:22:11.718773Z",
     "iopub.status.idle": "2022-09-18T21:22:11.796097Z",
     "shell.execute_reply": "2022-09-18T21:22:11.794793Z"
    },
    "papermill": {
     "duration": 0.090104,
     "end_time": "2022-09-18T21:22:11.799674",
     "exception": false,
     "start_time": "2022-09-18T21:22:11.709570",
     "status": "completed"
    },
    "tags": []
   },
   "outputs": [
    {
     "name": "stdout",
     "output_type": "stream",
     "text": [
      "############    SVM     #################\n",
      "SVM(normal):\n",
      "Confusion matrix: \n",
      "[[ 14  44]\n",
      " [  0 572]]\n",
      "\n",
      "The F1 score is: 67.5925925925926\n",
      "The precision score is: 96.42857142857143\n",
      "The recall score is: 62.06896551724138\n",
      "The accuracy score is: 93.01587301587301\n",
      "\n",
      "\n",
      "\n",
      "SVM(balanced):\n",
      "Confusion matrix: \n",
      "[[ 29  29]\n",
      " [ 15 557]]\n",
      "\n",
      "The F1 score is: 76.53154526059129\n",
      "The precision score is: 80.48014272417004\n",
      "The recall score is: 73.68881118881119\n",
      "The accuracy score is: 93.01587301587301\n",
      "\n",
      "\n",
      "\n",
      "SVM(oversampled):\n",
      "Confusion matrix: \n",
      "[[ 29  29]\n",
      " [ 15 557]]\n",
      "\n",
      "The F1 score is: 76.53154526059129\n",
      "The precision score is: 80.48014272417004\n",
      "The recall score is: 73.68881118881119\n",
      "The accuracy score is: 93.01587301587301\n",
      "\n",
      "\n",
      "\n",
      "SVM(undersampled):\n",
      "Confusion matrix: \n",
      "[[ 51   7]\n",
      " [110 462]]\n",
      "\n",
      "The F1 score is: 67.66807469108997\n",
      "The precision score is: 65.09224066005376\n",
      "The recall score is: 84.35013262599469\n",
      "The accuracy score is: 81.42857142857143\n",
      "\n",
      "\n",
      "\n",
      "############    RandomForest     #################\n",
      "RandomForest(normal):\n",
      "Confusion matrix: \n",
      "[[ 20  38]\n",
      " [  2 570]]\n",
      "\n",
      "The F1 score is: 73.30508474576271\n",
      "The precision score is: 92.32954545454545\n",
      "The recall score is: 67.06655413551965\n",
      "The accuracy score is: 93.65079365079364\n",
      "\n",
      "\n",
      "\n",
      "RandomForest(balanced):\n",
      "Confusion matrix: \n",
      "[[ 30  28]\n",
      " [ 21 551]]\n",
      "\n",
      "The F1 score is: 75.3943519396775\n",
      "The precision score is: 76.99380270242813\n",
      "The recall score is: 74.0264046298529\n",
      "The accuracy score is: 92.22222222222223\n",
      "\n",
      "\n",
      "\n",
      "RandomForest(oversampled):\n",
      "Confusion matrix: \n",
      "[[ 32  26]\n",
      " [ 24 548]]\n",
      "\n",
      "The F1 score is: 75.88867456599615\n",
      "The precision score is: 76.30662020905923\n",
      "The recall score is: 75.48830479864964\n",
      "The accuracy score is: 92.06349206349206\n",
      "\n",
      "\n",
      "\n",
      "RandomForest(undersampled):\n",
      "Confusion matrix: \n",
      "[[ 55   3]\n",
      " [170 402]]\n",
      "\n",
      "The F1 score is: 60.58099540310534\n",
      "The precision score is: 61.85185185185185\n",
      "The recall score is: 82.55365324330842\n",
      "The accuracy score is: 72.53968253968253\n",
      "\n",
      "\n",
      "\n",
      "############    Logistic Regression     #################\n",
      "Logistic(normal):\n",
      "Confusion matrix: \n",
      "[[ 55   3]\n",
      " [170 402]]\n",
      "\n",
      "The F1 score is: 60.58099540310534\n",
      "The precision score is: 61.85185185185185\n",
      "The recall score is: 82.55365324330842\n",
      "The accuracy score is: 72.53968253968253\n",
      "\n",
      "\n",
      "\n",
      "Logistic(balanced):\n",
      "Confusion matrix: \n",
      "[[ 55   3]\n",
      " [170 402]]\n",
      "\n",
      "The F1 score is: 60.58099540310534\n",
      "The precision score is: 61.85185185185185\n",
      "The recall score is: 82.55365324330842\n",
      "The accuracy score is: 72.53968253968253\n",
      "\n",
      "\n",
      "\n",
      "Logistic(oversampled):\n",
      "Confusion matrix: \n",
      "[[ 55   3]\n",
      " [170 402]]\n",
      "\n",
      "The F1 score is: 60.58099540310534\n",
      "The precision score is: 61.85185185185185\n",
      "The recall score is: 82.55365324330842\n",
      "The accuracy score is: 72.53968253968253\n",
      "\n",
      "\n",
      "\n",
      "Logistic(undersampled):\n",
      "Confusion matrix: \n",
      "[[ 55   3]\n",
      " [170 402]]\n",
      "\n",
      "The F1 score is: 60.58099540310534\n",
      "The precision score is: 61.85185185185185\n",
      "The recall score is: 82.55365324330842\n",
      "The accuracy score is: 72.53968253968253\n",
      "\n",
      "\n",
      "\n"
     ]
    }
   ],
   "source": [
    "from sklearn.metrics import accuracy_score, f1_score, precision_score, recall_score, classification_report, confusion_matrix\n",
    "\n",
    "print(\"############    SVM     #################\")\n",
    "print(f'SVM(normal):\\nConfusion matrix: \\n{confusion_matrix(y_test, smv_pred)}\\n')\n",
    "print(f'The F1 score is: {f1_score(y_test, smv_pred, average=\"macro\")*100}')\n",
    "print(f'The precision score is: {precision_score(y_test, smv_pred, average=\"macro\")*(100)}')\n",
    "print(f'The recall score is: {recall_score(y_test, smv_pred, average=\"macro\")*100}') \n",
    "print(f'The accuracy score is: {accuracy_score(y_test, smv_pred)*100}\\n\\n\\n')\n",
    "\n",
    "print(f'SVM(balanced):\\nConfusion matrix: \\n{confusion_matrix(y_test, smv_pred_balanced)}\\n')\n",
    "print(f'The F1 score is: {f1_score(y_test, smv_pred_balanced, average=\"macro\")*100}')\n",
    "print(f'The precision score is: {precision_score(y_test, smv_pred_balanced, average=\"macro\")*(100)}')\n",
    "print(f'The recall score is: {recall_score(y_test, smv_pred_balanced, average=\"macro\")*100}') \n",
    "print(f'The accuracy score is: {accuracy_score(y_test, smv_pred_balanced)*100}\\n\\n\\n')\n",
    "\n",
    "print(f'SVM(oversampled):\\nConfusion matrix: \\n{confusion_matrix(y_test, smv_oversampled_pred)}\\n')\n",
    "print(f'The F1 score is: {f1_score(y_test, smv_oversampled_pred, average=\"macro\")*100}')\n",
    "print(f'The precision score is: {precision_score(y_test, smv_oversampled_pred, average=\"macro\")*(100)}')\n",
    "print(f'The recall score is: {recall_score(y_test, smv_oversampled_pred, average=\"macro\")*100}') \n",
    "print(f'The accuracy score is: {accuracy_score(y_test, smv_oversampled_pred)*100}\\n\\n\\n')\n",
    "\n",
    "print(f'SVM(undersampled):\\nConfusion matrix: \\n{confusion_matrix(y_test, smv_undersampled_pred)}\\n')\n",
    "print(f'The F1 score is: {f1_score(y_test, smv_undersampled_pred, average=\"macro\")*100}')\n",
    "print(f'The precision score is: {precision_score(y_test, smv_undersampled_pred, average=\"macro\")*(100)}')\n",
    "print(f'The recall score is: {recall_score(y_test, smv_undersampled_pred, average=\"macro\")*100}') \n",
    "print(f'The accuracy score is: {accuracy_score(y_test, smv_undersampled_pred)*100}\\n\\n\\n')\n",
    "\n",
    "\n",
    "\n",
    "\n",
    "print(\"############    RandomForest     #################\")\n",
    "print(f'RandomForest(normal):\\nConfusion matrix: \\n{confusion_matrix(y_test, RFC_pred)}\\n')\n",
    "print(f'The F1 score is: {f1_score(y_test, RFC_pred, average=\"macro\")*100}')\n",
    "print(f'The precision score is: {precision_score(y_test, RFC_pred, average=\"macro\")*(100)}')\n",
    "print(f'The recall score is: {recall_score(y_test, RFC_pred, average=\"macro\")*100}') \n",
    "print(f'The accuracy score is: {accuracy_score(y_test, RFC_pred)*100}\\n\\n\\n')\n",
    "\n",
    "print(f'RandomForest(balanced):\\nConfusion matrix: \\n{confusion_matrix(y_test, RFC_pred_balanced)}\\n')\n",
    "print(f'The F1 score is: {f1_score(y_test, RFC_pred_balanced, average=\"macro\")*100}')\n",
    "print(f'The precision score is: {precision_score(y_test, RFC_pred_balanced, average=\"macro\")*(100)}')\n",
    "print(f'The recall score is: {recall_score(y_test, RFC_pred_balanced, average=\"macro\")*100}') \n",
    "print(f'The accuracy score is: {accuracy_score(y_test, RFC_pred_balanced)*100}\\n\\n\\n')\n",
    "\n",
    "print(f'RandomForest(oversampled):\\nConfusion matrix: \\n{confusion_matrix(y_test, RFC_oversampled_pred)}\\n')\n",
    "print(f'The F1 score is: {f1_score(y_test, RFC_oversampled_pred, average=\"macro\")*100}')\n",
    "print(f'The precision score is: {precision_score(y_test, RFC_oversampled_pred, average=\"macro\")*(100)}')\n",
    "print(f'The recall score is: {recall_score(y_test, RFC_oversampled_pred, average=\"macro\")*100}') \n",
    "print(f'The accuracy score is: {accuracy_score(y_test, RFC_oversampled_pred)*100}\\n\\n\\n')\n",
    "\n",
    "print(f'RandomForest(undersampled):\\nConfusion matrix: \\n{confusion_matrix(y_test, RFC_undersampled_pred)}\\n')\n",
    "print(f'The F1 score is: {f1_score(y_test, RFC_undersampled_pred, average=\"macro\")*100}')\n",
    "print(f'The precision score is: {precision_score(y_test, RFC_undersampled_pred, average=\"macro\")*(100)}')\n",
    "print(f'The recall score is: {recall_score(y_test, RFC_undersampled_pred, average=\"macro\")*100}') \n",
    "print(f'The accuracy score is: {accuracy_score(y_test, RFC_undersampled_pred)*100}\\n\\n\\n')\n",
    "\n",
    "\n",
    "print(\"############    Logistic Regression     #################\")\n",
    "print(f'Logistic(normal):\\nConfusion matrix: \\n{confusion_matrix(y_test, LR_pred)}\\n')\n",
    "print(f'The F1 score is: {f1_score(y_test, LR_pred, average=\"macro\")*100}')\n",
    "print(f'The precision score is: {precision_score(y_test, LR_pred, average=\"macro\")*(100)}')\n",
    "print(f'The recall score is: {recall_score(y_test, LR_pred, average=\"macro\")*100}') \n",
    "print(f'The accuracy score is: {accuracy_score(y_test, LR_pred)*100}\\n\\n\\n')\n",
    "\n",
    "print(f'Logistic(balanced):\\nConfusion matrix: \\n{confusion_matrix(y_test, LR_pred_balanced)}\\n')\n",
    "print(f'The F1 score is: {f1_score(y_test, LR_pred_balanced, average=\"macro\")*100}')\n",
    "print(f'The precision score is: {precision_score(y_test, LR_pred_balanced, average=\"macro\")*(100)}')\n",
    "print(f'The recall score is: {recall_score(y_test, LR_pred_balanced, average=\"macro\")*100}') \n",
    "print(f'The accuracy score is: {accuracy_score(y_test, LR_pred_balanced)*100}\\n\\n\\n')\n",
    "\n",
    "print(f'Logistic(oversampled):\\nConfusion matrix: \\n{confusion_matrix(y_test, LR_oversampled_pred)}\\n')\n",
    "print(f'The F1 score is: {f1_score(y_test, LR_oversampled_pred, average=\"macro\")*100}')\n",
    "print(f'The precision score is: {precision_score(y_test, LR_oversampled_pred, average=\"macro\")*(100)}')\n",
    "print(f'The recall score is: {recall_score(y_test, LR_oversampled_pred, average=\"macro\")*100}') \n",
    "print(f'The accuracy score is: {accuracy_score(y_test, LR_oversampled_pred)*100}\\n\\n\\n')\n",
    "\n",
    "print(f'Logistic(undersampled):\\nConfusion matrix: \\n{confusion_matrix(y_test, LR_undersampled_pred)}\\n')\n",
    "print(f'The F1 score is: {f1_score(y_test, LR_undersampled_pred, average=\"macro\")*100}')\n",
    "print(f'The precision score is: {precision_score(y_test, LR_undersampled_pred, average=\"macro\")*(100)}')\n",
    "print(f'The recall score is: {recall_score(y_test, LR_undersampled_pred, average=\"macro\")*100}') \n",
    "print(f'The accuracy score is: {accuracy_score(y_test, LR_undersampled_pred)*100}\\n\\n\\n')"
   ]
  },
  {
   "cell_type": "code",
   "execution_count": 20,
   "id": "943a7b42",
   "metadata": {
    "execution": {
     "iopub.execute_input": "2022-09-18T21:22:11.818412Z",
     "iopub.status.busy": "2022-09-18T21:22:11.817334Z",
     "iopub.status.idle": "2022-09-18T21:22:11.822637Z",
     "shell.execute_reply": "2022-09-18T21:22:11.821881Z"
    },
    "papermill": {
     "duration": 0.016488,
     "end_time": "2022-09-18T21:22:11.824891",
     "exception": false,
     "start_time": "2022-09-18T21:22:11.808403",
     "status": "completed"
    },
    "tags": []
   },
   "outputs": [],
   "source": [
    "import pickle\n"
   ]
  }
 ],
 "metadata": {
  "kernelspec": {
   "display_name": "Python 3",
   "language": "python",
   "name": "python3"
  },
  "language_info": {
   "codemirror_mode": {
    "name": "ipython",
    "version": 3
   },
   "file_extension": ".py",
   "mimetype": "text/x-python",
   "name": "python",
   "nbconvert_exporter": "python",
   "pygments_lexer": "ipython3",
   "version": "3.7.12"
  },
  "papermill": {
   "default_parameters": {},
   "duration": 23.014122,
   "end_time": "2022-09-18T21:22:12.655018",
   "environment_variables": {},
   "exception": null,
   "input_path": "__notebook__.ipynb",
   "output_path": "__notebook__.ipynb",
   "parameters": {},
   "start_time": "2022-09-18T21:21:49.640896",
   "version": "2.3.4"
  }
 },
 "nbformat": 4,
 "nbformat_minor": 5
}
