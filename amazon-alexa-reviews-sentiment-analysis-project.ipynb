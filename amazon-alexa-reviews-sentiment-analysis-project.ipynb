{
 "cells": [
  {
   "cell_type": "markdown",
   "id": "74069b20",
   "metadata": {
    "execution": {
     "iopub.execute_input": "2022-09-14T19:51:03.982358Z",
     "iopub.status.busy": "2022-09-14T19:51:03.981347Z",
     "iopub.status.idle": "2022-09-14T19:51:04.018800Z",
     "shell.execute_reply": "2022-09-14T19:51:04.017725Z",
     "shell.execute_reply.started": "2022-09-14T19:51:03.982315Z"
    },
    "papermill": {
     "duration": 0.007111,
     "end_time": "2022-09-18T18:44:28.256655",
     "exception": false,
     "start_time": "2022-09-18T18:44:28.249544",
     "status": "completed"
    },
    "tags": []
   },
   "source": [
    "# Sentiment Analyzer using machine learning models\n",
    "\n",
    "#### Data-set: Amazon Alexa Reviews\n"
   ]
  },
  {
   "cell_type": "code",
   "execution_count": 1,
   "id": "c0c8efe2",
   "metadata": {
    "execution": {
     "iopub.execute_input": "2022-09-18T18:44:28.272142Z",
     "iopub.status.busy": "2022-09-18T18:44:28.271084Z",
     "iopub.status.idle": "2022-09-18T18:44:30.509073Z",
     "shell.execute_reply": "2022-09-18T18:44:30.507433Z"
    },
    "papermill": {
     "duration": 2.249215,
     "end_time": "2022-09-18T18:44:30.511950",
     "exception": false,
     "start_time": "2022-09-18T18:44:28.262735",
     "status": "completed"
    },
    "tags": []
   },
   "outputs": [
    {
     "name": "stdout",
     "output_type": "stream",
     "text": [
      "/kaggle/input/amazon-alexa-reviews/amazon_alexa.tsv\n",
      "(3150, 5)\n"
     ]
    },
    {
     "data": {
      "text/html": [
       "<div>\n",
       "<style scoped>\n",
       "    .dataframe tbody tr th:only-of-type {\n",
       "        vertical-align: middle;\n",
       "    }\n",
       "\n",
       "    .dataframe tbody tr th {\n",
       "        vertical-align: top;\n",
       "    }\n",
       "\n",
       "    .dataframe thead th {\n",
       "        text-align: right;\n",
       "    }\n",
       "</style>\n",
       "<table border=\"1\" class=\"dataframe\">\n",
       "  <thead>\n",
       "    <tr style=\"text-align: right;\">\n",
       "      <th></th>\n",
       "      <th>rating</th>\n",
       "      <th>date</th>\n",
       "      <th>variation</th>\n",
       "      <th>verified_reviews</th>\n",
       "      <th>feedback</th>\n",
       "    </tr>\n",
       "  </thead>\n",
       "  <tbody>\n",
       "    <tr>\n",
       "      <th>0</th>\n",
       "      <td>5</td>\n",
       "      <td>31-Jul-18</td>\n",
       "      <td>Charcoal Fabric</td>\n",
       "      <td>Love my Echo!</td>\n",
       "      <td>1</td>\n",
       "    </tr>\n",
       "    <tr>\n",
       "      <th>1</th>\n",
       "      <td>5</td>\n",
       "      <td>31-Jul-18</td>\n",
       "      <td>Charcoal Fabric</td>\n",
       "      <td>Loved it!</td>\n",
       "      <td>1</td>\n",
       "    </tr>\n",
       "    <tr>\n",
       "      <th>2</th>\n",
       "      <td>4</td>\n",
       "      <td>31-Jul-18</td>\n",
       "      <td>Walnut Finish</td>\n",
       "      <td>Sometimes while playing a game, you can answer...</td>\n",
       "      <td>1</td>\n",
       "    </tr>\n",
       "    <tr>\n",
       "      <th>3</th>\n",
       "      <td>5</td>\n",
       "      <td>31-Jul-18</td>\n",
       "      <td>Charcoal Fabric</td>\n",
       "      <td>I have had a lot of fun with this thing. My 4 ...</td>\n",
       "      <td>1</td>\n",
       "    </tr>\n",
       "    <tr>\n",
       "      <th>4</th>\n",
       "      <td>5</td>\n",
       "      <td>31-Jul-18</td>\n",
       "      <td>Charcoal Fabric</td>\n",
       "      <td>Music</td>\n",
       "      <td>1</td>\n",
       "    </tr>\n",
       "  </tbody>\n",
       "</table>\n",
       "</div>"
      ],
      "text/plain": [
       "   rating       date         variation  \\\n",
       "0       5  31-Jul-18  Charcoal Fabric    \n",
       "1       5  31-Jul-18  Charcoal Fabric    \n",
       "2       4  31-Jul-18    Walnut Finish    \n",
       "3       5  31-Jul-18  Charcoal Fabric    \n",
       "4       5  31-Jul-18  Charcoal Fabric    \n",
       "\n",
       "                                    verified_reviews  feedback  \n",
       "0                                      Love my Echo!         1  \n",
       "1                                          Loved it!         1  \n",
       "2  Sometimes while playing a game, you can answer...         1  \n",
       "3  I have had a lot of fun with this thing. My 4 ...         1  \n",
       "4                                              Music         1  "
      ]
     },
     "execution_count": 1,
     "metadata": {},
     "output_type": "execute_result"
    }
   ],
   "source": [
    "#!pip install nltk\n",
    "#nltk.download('stopwords')\n",
    "# nltk.download('wordnet')\n",
    "# nltk.download('omw-1.4')\n",
    "\n",
    "\n",
    "# Import the required libraires\n",
    "import numpy as np\n",
    "import pandas as pd\n",
    "\n",
    "# visualization libraries\n",
    "import matplotlib.pyplot as plt\n",
    "import seaborn as sns\n",
    "%matplotlib inline\n",
    "\n",
    "import re\n",
    "\n",
    "# Pre-processing library\n",
    "import nltk\n",
    "from nltk.corpus import stopwords\n",
    "from nltk.stem.porter import PorterStemmer\n",
    "from sklearn.feature_extraction.text import CountVectorizer\n",
    "\n",
    "# Models library\n",
    "from sklearn.model_selection import train_test_split\n",
    "from sklearn import svm\n",
    "from sklearn.ensemble import RandomForestClassifier\n",
    "\n",
    "\n",
    "import os\n",
    "for dirname, _, filenames in os.walk('/kaggle/input'):\n",
    "    for filename in filenames:\n",
    "        print(os.path.join(dirname, filename))\n",
    "\n",
    "df = pd.read_csv(\"/kaggle/input/amazon-alexa-reviews/amazon_alexa.tsv\",sep=\"\\t\")\n",
    "print(df.shape)\n",
    "df.head()"
   ]
  },
  {
   "cell_type": "markdown",
   "id": "76d4f17b",
   "metadata": {
    "papermill": {
     "duration": 0.005915,
     "end_time": "2022-09-18T18:44:30.525037",
     "exception": false,
     "start_time": "2022-09-18T18:44:30.519122",
     "status": "completed"
    },
    "tags": []
   },
   "source": [
    "### Check the data we are dealing with as well as some visualization"
   ]
  },
  {
   "cell_type": "code",
   "execution_count": 2,
   "id": "71c9865c",
   "metadata": {
    "execution": {
     "iopub.execute_input": "2022-09-18T18:44:30.539736Z",
     "iopub.status.busy": "2022-09-18T18:44:30.539040Z",
     "iopub.status.idle": "2022-09-18T18:44:30.845809Z",
     "shell.execute_reply": "2022-09-18T18:44:30.844550Z"
    },
    "papermill": {
     "duration": 0.317128,
     "end_time": "2022-09-18T18:44:30.848347",
     "exception": false,
     "start_time": "2022-09-18T18:44:30.531219",
     "status": "completed"
    },
    "tags": []
   },
   "outputs": [
    {
     "name": "stdout",
     "output_type": "stream",
     "text": [
      "          feedback\n",
      "count  3150.000000\n",
      "mean      0.918413\n",
      "std       0.273778\n",
      "min       0.000000\n",
      "25%       1.000000\n",
      "50%       1.000000\n",
      "75%       1.000000\n",
      "max       1.000000\n"
     ]
    },
    {
     "data": {
      "text/plain": [
       "array([[<AxesSubplot:title={'center':'feedback'}>]], dtype=object)"
      ]
     },
     "execution_count": 2,
     "metadata": {},
     "output_type": "execute_result"
    },
    {
     "data": {
      "image/png": "[encoded data removed]",
      "text/plain": [
       "<Figure size 432x288 with 1 Axes>"
      ]
     },
     "metadata": {
      "needs_background": "light"
     },
     "output_type": "display_data"
    }
   ],
   "source": [
    "# Drop unrelated columns\n",
    "df = df.drop(['date','variation','rating'],axis=1)\n",
    "print(df.describe())\n",
    "df.hist()"
   ]
  },
  {
   "cell_type": "code",
   "execution_count": 3,
   "id": "c5da30c1",
   "metadata": {
    "execution": {
     "iopub.execute_input": "2022-09-18T18:44:30.863216Z",
     "iopub.status.busy": "2022-09-18T18:44:30.862788Z",
     "iopub.status.idle": "2022-09-18T18:44:30.872996Z",
     "shell.execute_reply": "2022-09-18T18:44:30.871640Z"
    },
    "papermill": {
     "duration": 0.020367,
     "end_time": "2022-09-18T18:44:30.875309",
     "exception": false,
     "start_time": "2022-09-18T18:44:30.854942",
     "status": "completed"
    },
    "tags": []
   },
   "outputs": [
    {
     "data": {
      "text/plain": [
       "verified_reviews    0\n",
       "feedback            0\n",
       "dtype: int64"
      ]
     },
     "execution_count": 3,
     "metadata": {},
     "output_type": "execute_result"
    }
   ],
   "source": [
    "# Check for null values\n",
    "df.isnull().sum()"
   ]
  },
  {
   "cell_type": "markdown",
   "id": "f2f7263b",
   "metadata": {
    "papermill": {
     "duration": 0.006203,
     "end_time": "2022-09-18T18:44:30.888261",
     "exception": false,
     "start_time": "2022-09-18T18:44:30.882058",
     "status": "completed"
    },
    "tags": []
   },
   "source": [
    "### Now that we know there are no null values but there is a huge bias we will start duplicating negative feedback to balance that bias"
   ]
  },
  {
   "cell_type": "code",
   "execution_count": null,
   "id": "adb6363a",
   "metadata": {
    "papermill": {
     "duration": 0.006216,
     "end_time": "2022-09-18T18:44:30.900965",
     "exception": false,
     "start_time": "2022-09-18T18:44:30.894749",
     "status": "completed"
    },
    "tags": []
   },
   "outputs": [],
   "source": [
    "\n"
   ]
  },
  {
   "cell_type": "markdown",
   "id": "6c103240",
   "metadata": {
    "papermill": {
     "duration": 0.006205,
     "end_time": "2022-09-18T18:44:30.913663",
     "exception": false,
     "start_time": "2022-09-18T18:44:30.907458",
     "status": "completed"
    },
    "tags": []
   },
   "source": [
    "### Clean and vectorize the *review* column so we can start working on it "
   ]
  },
  {
   "cell_type": "code",
   "execution_count": 4,
   "id": "a47c5a15",
   "metadata": {
    "execution": {
     "iopub.execute_input": "2022-09-18T18:44:30.928592Z",
     "iopub.status.busy": "2022-09-18T18:44:30.928106Z",
     "iopub.status.idle": "2022-09-18T18:44:33.033940Z",
     "shell.execute_reply": "2022-09-18T18:44:33.032748Z"
    },
    "papermill": {
     "duration": 2.116674,
     "end_time": "2022-09-18T18:44:33.036909",
     "exception": false,
     "start_time": "2022-09-18T18:44:30.920235",
     "status": "completed"
    },
    "tags": []
   },
   "outputs": [],
   "source": [
    "def clean_rev(review):\n",
    "    stopwords = set(nltk.corpus.stopwords.words('english'))\n",
    "    stopwords.remove('not')\n",
    "    stopwords.remove('nor')\n",
    "    review = review.lower()\n",
    "    review = re.sub(\"[^A-Za-z0-9]\",' ',review)\n",
    "    review = re.sub(r'[0-9]+',' ',review)\n",
    "    review = \" \".join(PorterStemmer().stem(i) for i in review.split() if i not in stopwords)\n",
    "    \n",
    "    return review\n",
    "\n",
    "df['verified_reviews'] = df['verified_reviews'].apply(lambda rev: clean_rev(rev))"
   ]
  },
  {
   "cell_type": "markdown",
   "id": "386ca990",
   "metadata": {
    "papermill": {
     "duration": 0.006458,
     "end_time": "2022-09-18T18:44:33.050245",
     "exception": false,
     "start_time": "2022-09-18T18:44:33.043787",
     "status": "completed"
    },
    "tags": []
   },
   "source": [
    "### Create training sets"
   ]
  },
  {
   "cell_type": "code",
   "execution_count": 5,
   "id": "3d4444ce",
   "metadata": {
    "execution": {
     "iopub.execute_input": "2022-09-18T18:44:33.066588Z",
     "iopub.status.busy": "2022-09-18T18:44:33.065205Z",
     "iopub.status.idle": "2022-09-18T18:44:33.409458Z",
     "shell.execute_reply": "2022-09-18T18:44:33.407834Z"
    },
    "papermill": {
     "duration": 0.355221,
     "end_time": "2022-09-18T18:44:33.412279",
     "exception": false,
     "start_time": "2022-09-18T18:44:33.057058",
     "status": "completed"
    },
    "tags": []
   },
   "outputs": [
    {
     "name": "stdout",
     "output_type": "stream",
     "text": [
      "1    2321\n",
      "0     199\n",
      "Name: feedback, dtype: int64\n",
      "1    2321\n",
      "0    2321\n",
      "Name: feedback, dtype: int64\n",
      "0    199\n",
      "1    199\n",
      "Name: feedback, dtype: int64\n"
     ]
    }
   ],
   "source": [
    "x = CountVectorizer(max_features=5000).fit_transform(df['verified_reviews']).toarray()\n",
    "y = df['feedback']     \n",
    "x_train, x_test ,y_train,y_test = train_test_split(x,y,test_size=0.2,random_state=42)\n",
    "\n",
    "# Oversampling\n",
    "from imblearn.over_sampling import RandomOverSampler\n",
    "# define oversampling strategy\n",
    "oversample = RandomOverSampler(sampling_strategy='minority')\n",
    "# fit and apply the transform\n",
    "print(y_train.value_counts())\n",
    "x_train_oversampled, y_train_oversampled = oversample.fit_resample(x_train, y_train)\n",
    "print(y_train_oversampled.value_counts())\n",
    "\n",
    "# Undersampling\n",
    "from imblearn.under_sampling import RandomUnderSampler\n",
    "# define undersample strategy\n",
    "undersample = RandomUnderSampler(sampling_strategy='majority')\n",
    "# fit and apply the transform\n",
    "x_train_undersampled, y_train_undersampled = undersample.fit_resample(x_train, y_train)\n",
    "print(y_train_undersampled.value_counts())"
   ]
  },
  {
   "cell_type": "markdown",
   "id": "cf1b8f22",
   "metadata": {
    "papermill": {
     "duration": 0.009728,
     "end_time": "2022-09-18T18:44:33.429389",
     "exception": false,
     "start_time": "2022-09-18T18:44:33.419661",
     "status": "completed"
    },
    "tags": []
   },
   "source": [
    "### Start by using SVM and creating and training model"
   ]
  },
  {
   "cell_type": "code",
   "execution_count": 6,
   "id": "4b3b18d8",
   "metadata": {
    "execution": {
     "iopub.execute_input": "2022-09-18T18:44:33.444620Z",
     "iopub.status.busy": "2022-09-18T18:44:33.444157Z",
     "iopub.status.idle": "2022-09-18T18:44:40.828944Z",
     "shell.execute_reply": "2022-09-18T18:44:40.827553Z"
    },
    "papermill": {
     "duration": 7.39541,
     "end_time": "2022-09-18T18:44:40.831654",
     "exception": false,
     "start_time": "2022-09-18T18:44:33.436244",
     "status": "completed"
    },
    "tags": []
   },
   "outputs": [],
   "source": [
    "model_smv = svm.SVC()\n",
    "model_smv.fit(x_train, y_train)\n",
    "smv_pred = model_smv.predict(x_test)"
   ]
  },
  {
   "cell_type": "code",
   "execution_count": 7,
   "id": "b88af3ee",
   "metadata": {
    "execution": {
     "iopub.execute_input": "2022-09-18T18:44:40.847359Z",
     "iopub.status.busy": "2022-09-18T18:44:40.846922Z",
     "iopub.status.idle": "2022-09-18T18:44:50.594394Z",
     "shell.execute_reply": "2022-09-18T18:44:50.593012Z"
    },
    "papermill": {
     "duration": 9.758793,
     "end_time": "2022-09-18T18:44:50.597339",
     "exception": false,
     "start_time": "2022-09-18T18:44:40.838546",
     "status": "completed"
    },
    "tags": []
   },
   "outputs": [],
   "source": [
    "# with cleass weight balanced\n",
    "model_smv = svm.SVC(class_weight='balanced')\n",
    "model_smv.fit(x_train, y_train)\n",
    "smv_pred_balanced = model_smv.predict(x_test)"
   ]
  },
  {
   "cell_type": "code",
   "execution_count": 8,
   "id": "fcd97145",
   "metadata": {
    "execution": {
     "iopub.execute_input": "2022-09-18T18:44:50.613497Z",
     "iopub.status.busy": "2022-09-18T18:44:50.613069Z",
     "iopub.status.idle": "2022-09-18T18:45:11.251873Z",
     "shell.execute_reply": "2022-09-18T18:45:11.250560Z"
    },
    "papermill": {
     "duration": 20.649845,
     "end_time": "2022-09-18T18:45:11.254759",
     "exception": false,
     "start_time": "2022-09-18T18:44:50.604914",
     "status": "completed"
    },
    "tags": []
   },
   "outputs": [],
   "source": [
    "# Now repeat but with oversampling\n",
    "model_smv = svm.SVC()\n",
    "model_smv.fit(x_train_oversampled, y_train_oversampled)\n",
    "smv_oversampled_pred = model_smv.predict(x_test)"
   ]
  },
  {
   "cell_type": "code",
   "execution_count": 9,
   "id": "bc160675",
   "metadata": {
    "execution": {
     "iopub.execute_input": "2022-09-18T18:45:11.270789Z",
     "iopub.status.busy": "2022-09-18T18:45:11.270065Z",
     "iopub.status.idle": "2022-09-18T18:45:11.927263Z",
     "shell.execute_reply": "2022-09-18T18:45:11.925948Z"
    },
    "papermill": {
     "duration": 0.668521,
     "end_time": "2022-09-18T18:45:11.930283",
     "exception": false,
     "start_time": "2022-09-18T18:45:11.261762",
     "status": "completed"
    },
    "tags": []
   },
   "outputs": [],
   "source": [
    "# Now repeat but with undersampling\n",
    "model_smv = svm.SVC()\n",
    "model_smv.fit(x_train_undersampled, y_train_undersampled)\n",
    "smv_undersampled_pred = model_smv.predict(x_test)"
   ]
  },
  {
   "cell_type": "markdown",
   "id": "8e91638c",
   "metadata": {
    "papermill": {
     "duration": 0.006302,
     "end_time": "2022-09-18T18:45:11.943331",
     "exception": false,
     "start_time": "2022-09-18T18:45:11.937029",
     "status": "completed"
    },
    "tags": []
   },
   "source": [
    "### Now the same for RandomForest model"
   ]
  },
  {
   "cell_type": "code",
   "execution_count": 10,
   "id": "9b6860da",
   "metadata": {
    "execution": {
     "iopub.execute_input": "2022-09-18T18:45:11.958521Z",
     "iopub.status.busy": "2022-09-18T18:45:11.958066Z",
     "iopub.status.idle": "2022-09-18T18:45:15.679393Z",
     "shell.execute_reply": "2022-09-18T18:45:15.678109Z"
    },
    "papermill": {
     "duration": 3.73252,
     "end_time": "2022-09-18T18:45:15.682494",
     "exception": false,
     "start_time": "2022-09-18T18:45:11.949974",
     "status": "completed"
    },
    "tags": []
   },
   "outputs": [],
   "source": [
    "model_RFC = RandomForestClassifier()\n",
    "model_RFC.fit(x_train,y_train)\n",
    "RFC_pred = model_RFC.predict(x_test)"
   ]
  },
  {
   "cell_type": "code",
   "execution_count": 11,
   "id": "1085edcb",
   "metadata": {
    "execution": {
     "iopub.execute_input": "2022-09-18T18:45:15.698745Z",
     "iopub.status.busy": "2022-09-18T18:45:15.697608Z",
     "iopub.status.idle": "2022-09-18T18:45:18.161312Z",
     "shell.execute_reply": "2022-09-18T18:45:18.159942Z"
    },
    "papermill": {
     "duration": 2.474727,
     "end_time": "2022-09-18T18:45:18.164248",
     "exception": false,
     "start_time": "2022-09-18T18:45:15.689521",
     "status": "completed"
    },
    "tags": []
   },
   "outputs": [],
   "source": [
    "# with class weight balanced\n",
    "model_RFC = RandomForestClassifier(class_weight='balanced')\n",
    "model_RFC.fit(x_train,y_train)\n",
    "RFC_pred_balanced = model_RFC.predict(x_test)"
   ]
  },
  {
   "cell_type": "code",
   "execution_count": 12,
   "id": "fd4a4000",
   "metadata": {
    "execution": {
     "iopub.execute_input": "2022-09-18T18:45:18.180169Z",
     "iopub.status.busy": "2022-09-18T18:45:18.179270Z",
     "iopub.status.idle": "2022-09-18T18:45:22.942298Z",
     "shell.execute_reply": "2022-09-18T18:45:22.941334Z"
    },
    "papermill": {
     "duration": 4.774285,
     "end_time": "2022-09-18T18:45:22.945339",
     "exception": false,
     "start_time": "2022-09-18T18:45:18.171054",
     "status": "completed"
    },
    "tags": []
   },
   "outputs": [],
   "source": [
    "# Now repeat but with oversampling\n",
    "model_RFC = RandomForestClassifier()\n",
    "model_RFC.fit(x_train_oversampled,y_train_oversampled)\n",
    "RFC_oversampled_pred = model_RFC.predict(x_test)"
   ]
  },
  {
   "cell_type": "code",
   "execution_count": 13,
   "id": "7b78d8d5",
   "metadata": {
    "execution": {
     "iopub.execute_input": "2022-09-18T18:45:22.961376Z",
     "iopub.status.busy": "2022-09-18T18:45:22.960311Z",
     "iopub.status.idle": "2022-09-18T18:45:23.382188Z",
     "shell.execute_reply": "2022-09-18T18:45:23.380967Z"
    },
    "papermill": {
     "duration": 0.432948,
     "end_time": "2022-09-18T18:45:23.385255",
     "exception": false,
     "start_time": "2022-09-18T18:45:22.952307",
     "status": "completed"
    },
    "tags": []
   },
   "outputs": [],
   "source": [
    "# Now repeat but with undersampling\n",
    "model_RFC = RandomForestClassifier()\n",
    "model_RFC.fit(x_train_undersampled,y_train_undersampled)\n",
    "RFC_undersampled_pred = model_RFC.predict(x_test)"
   ]
  },
  {
   "cell_type": "markdown",
   "id": "301ab955",
   "metadata": {
    "papermill": {
     "duration": 0.006495,
     "end_time": "2022-09-18T18:45:23.398694",
     "exception": false,
     "start_time": "2022-09-18T18:45:23.392199",
     "status": "completed"
    },
    "tags": []
   },
   "source": [
    "### import metrics and see the performance of both models"
   ]
  },
  {
   "cell_type": "code",
   "execution_count": 14,
   "id": "7d2a8130",
   "metadata": {
    "execution": {
     "iopub.execute_input": "2022-09-18T18:45:23.414182Z",
     "iopub.status.busy": "2022-09-18T18:45:23.413757Z",
     "iopub.status.idle": "2022-09-18T18:45:23.472156Z",
     "shell.execute_reply": "2022-09-18T18:45:23.470894Z"
    },
    "papermill": {
     "duration": 0.070105,
     "end_time": "2022-09-18T18:45:23.475525",
     "exception": false,
     "start_time": "2022-09-18T18:45:23.405420",
     "status": "completed"
    },
    "tags": []
   },
   "outputs": [
    {
     "name": "stdout",
     "output_type": "stream",
     "text": [
      "SVM(normal):\n",
      "Confusion matrix: \n",
      "[[  6  52]\n",
      " [  0 572]]\n",
      "\n",
      "The F1 score is: 57.20108695652174\n",
      "The precision score is: 95.83333333333333\n",
      "The recall score is: 55.172413793103445\n",
      "The accuracy score is: 91.74603174603175\n",
      "\n",
      "\n",
      "\n",
      "SVM(balanced):\n",
      "Confusion matrix: \n",
      "[[ 26  32]\n",
      " [ 11 561]]\n",
      "\n",
      "The F1 score is: 75.52292749039981\n",
      "The precision score is: 82.43699010984002\n",
      "The recall score is: 71.4522546419098\n",
      "The accuracy score is: 93.17460317460318\n",
      "\n",
      "\n",
      "\n",
      "SVM(oversampled):\n",
      "Confusion matrix: \n",
      "[[ 25  33]\n",
      " [ 11 561]]\n",
      "\n",
      "The F1 score is: 74.70895222802088\n",
      "The precision score is: 81.94444444444444\n",
      "The recall score is: 70.59018567639257\n",
      "The accuracy score is: 93.01587301587301\n",
      "\n",
      "\n",
      "\n",
      "SVM(undersampled):\n",
      "Confusion matrix: \n",
      "[[ 45  13]\n",
      " [ 93 479]]\n",
      "\n",
      "The F1 score is: 67.9779806659506\n",
      "The precision score is: 64.98320961470485\n",
      "The recall score is: 80.66373281890523\n",
      "The accuracy score is: 83.17460317460318\n",
      "\n",
      "\n",
      "\n",
      "RandomForest(normal):\n",
      "Confusion matrix: \n",
      "[[ 22  36]\n",
      " [  1 571]]\n",
      "\n",
      "The F1 score is: 75.59136744887381\n",
      "The precision score is: 94.86068333213953\n",
      "The recall score is: 68.87810465396672\n",
      "The accuracy score is: 94.12698412698413\n",
      "\n",
      "\n",
      "\n",
      "RandomForest(balanced):\n",
      "Confusion matrix: \n",
      "[[ 30  28]\n",
      " [ 20 552]]\n",
      "\n",
      "The F1 score is: 75.69444444444444\n",
      "The precision score is: 77.58620689655173\n",
      "The recall score is: 74.11381721726549\n",
      "The accuracy score is: 92.38095238095238\n",
      "\n",
      "\n",
      "\n",
      "RandomForest(oversampled):\n",
      "Confusion matrix: \n",
      "[[ 33  25]\n",
      " [ 23 549]]\n",
      "\n",
      "The F1 score is: 76.8531275833563\n",
      "The precision score is: 77.28658536585367\n",
      "The recall score is: 76.43778635157945\n",
      "The accuracy score is: 92.38095238095238\n",
      "\n",
      "\n",
      "\n",
      "RandomForest(undersampled):\n",
      "Confusion matrix: \n",
      "[[ 54   4]\n",
      " [138 434]]\n",
      "\n",
      "The F1 score is: 64.57029702970297\n",
      "The precision score is: 63.6058789954338\n",
      "The recall score is: 84.48878707499397\n",
      "The accuracy score is: 77.46031746031747\n",
      "\n",
      "\n",
      "\n"
     ]
    }
   ],
   "source": [
    "from sklearn.metrics import accuracy_score, f1_score, precision_score, recall_score, classification_report, confusion_matrix\n",
    "\n",
    "print(f'SVM(normal):\\nConfusion matrix: \\n{confusion_matrix(y_test, smv_pred)}\\n')\n",
    "print(f'The F1 score is: {f1_score(y_test, smv_pred, average=\"macro\")*100}')\n",
    "print(f'The precision score is: {precision_score(y_test, smv_pred, average=\"macro\")*(100)}')\n",
    "print(f'The recall score is: {recall_score(y_test, smv_pred, average=\"macro\")*100}') \n",
    "print(f'The accuracy score is: {accuracy_score(y_test, smv_pred)*100}\\n\\n\\n')\n",
    "\n",
    "print(f'SVM(balanced):\\nConfusion matrix: \\n{confusion_matrix(y_test, smv_pred_balanced)}\\n')\n",
    "print(f'The F1 score is: {f1_score(y_test, smv_pred_balanced, average=\"macro\")*100}')\n",
    "print(f'The precision score is: {precision_score(y_test, smv_pred_balanced, average=\"macro\")*(100)}')\n",
    "print(f'The recall score is: {recall_score(y_test, smv_pred_balanced, average=\"macro\")*100}') \n",
    "print(f'The accuracy score is: {accuracy_score(y_test, smv_pred_balanced)*100}\\n\\n\\n')\n",
    "\n",
    "print(f'SVM(oversampled):\\nConfusion matrix: \\n{confusion_matrix(y_test, smv_oversampled_pred)}\\n')\n",
    "print(f'The F1 score is: {f1_score(y_test, smv_oversampled_pred, average=\"macro\")*100}')\n",
    "print(f'The precision score is: {precision_score(y_test, smv_oversampled_pred, average=\"macro\")*(100)}')\n",
    "print(f'The recall score is: {recall_score(y_test, smv_oversampled_pred, average=\"macro\")*100}') \n",
    "print(f'The accuracy score is: {accuracy_score(y_test, smv_oversampled_pred)*100}\\n\\n\\n')\n",
    "\n",
    "print(f'SVM(undersampled):\\nConfusion matrix: \\n{confusion_matrix(y_test, smv_undersampled_pred)}\\n')\n",
    "print(f'The F1 score is: {f1_score(y_test, smv_undersampled_pred, average=\"macro\")*100}')\n",
    "print(f'The precision score is: {precision_score(y_test, smv_undersampled_pred, average=\"macro\")*(100)}')\n",
    "print(f'The recall score is: {recall_score(y_test, smv_undersampled_pred, average=\"macro\")*100}') \n",
    "print(f'The accuracy score is: {accuracy_score(y_test, smv_undersampled_pred)*100}\\n\\n\\n')\n",
    "\n",
    "\n",
    "\n",
    "print(f'RandomForest(normal):\\nConfusion matrix: \\n{confusion_matrix(y_test, RFC_pred)}\\n')\n",
    "print(f'The F1 score is: {f1_score(y_test, RFC_pred, average=\"macro\")*100}')\n",
    "print(f'The precision score is: {precision_score(y_test, RFC_pred, average=\"macro\")*(100)}')\n",
    "print(f'The recall score is: {recall_score(y_test, RFC_pred, average=\"macro\")*100}') \n",
    "print(f'The accuracy score is: {accuracy_score(y_test, RFC_pred)*100}\\n\\n\\n')\n",
    "\n",
    "print(f'RandomForest(balanced):\\nConfusion matrix: \\n{confusion_matrix(y_test, RFC_pred_balanced)}\\n')\n",
    "print(f'The F1 score is: {f1_score(y_test, RFC_pred_balanced, average=\"macro\")*100}')\n",
    "print(f'The precision score is: {precision_score(y_test, RFC_pred_balanced, average=\"macro\")*(100)}')\n",
    "print(f'The recall score is: {recall_score(y_test, RFC_pred_balanced, average=\"macro\")*100}') \n",
    "print(f'The accuracy score is: {accuracy_score(y_test, RFC_pred_balanced)*100}\\n\\n\\n')\n",
    "\n",
    "print(f'RandomForest(oversampled):\\nConfusion matrix: \\n{confusion_matrix(y_test, RFC_oversampled_pred)}\\n')\n",
    "print(f'The F1 score is: {f1_score(y_test, RFC_oversampled_pred, average=\"macro\")*100}')\n",
    "print(f'The precision score is: {precision_score(y_test, RFC_oversampled_pred, average=\"macro\")*(100)}')\n",
    "print(f'The recall score is: {recall_score(y_test, RFC_oversampled_pred, average=\"macro\")*100}') \n",
    "print(f'The accuracy score is: {accuracy_score(y_test, RFC_oversampled_pred)*100}\\n\\n\\n')\n",
    "\n",
    "print(f'RandomForest(undersampled):\\nConfusion matrix: \\n{confusion_matrix(y_test, RFC_undersampled_pred)}\\n')\n",
    "print(f'The F1 score is: {f1_score(y_test, RFC_undersampled_pred, average=\"macro\")*100}')\n",
    "print(f'The precision score is: {precision_score(y_test, RFC_undersampled_pred, average=\"macro\")*(100)}')\n",
    "print(f'The recall score is: {recall_score(y_test, RFC_undersampled_pred, average=\"macro\")*100}') \n",
    "print(f'The accuracy score is: {accuracy_score(y_test, RFC_undersampled_pred)*100}\\n\\n\\n')"
   ]
  },
  {
   "cell_type": "code",
   "execution_count": null,
   "id": "61393f51",
   "metadata": {
    "papermill": {
     "duration": 0.006665,
     "end_time": "2022-09-18T18:45:23.490719",
     "exception": false,
     "start_time": "2022-09-18T18:45:23.484054",
     "status": "completed"
    },
    "tags": []
   },
   "outputs": [],
   "source": []
  }
 ],
 "metadata": {
  "kernelspec": {
   "display_name": "Python 3",
   "language": "python",
   "name": "python3"
  },
  "language_info": {
   "codemirror_mode": {
    "name": "ipython",
    "version": 3
   },
   "file_extension": ".py",
   "mimetype": "text/x-python",
   "name": "python",
   "nbconvert_exporter": "python",
   "pygments_lexer": "ipython3",
   "version": "3.7.12"
  },
  "papermill": {
   "default_parameters": {},
   "duration": 66.478938,
   "end_time": "2022-09-18T18:45:24.425904",
   "environment_variables": {},
   "exception": null,
   "input_path": "__notebook__.ipynb",
   "output_path": "__notebook__.ipynb",
   "parameters": {},
   "start_time": "2022-09-18T18:44:17.946966",
   "version": "2.3.4"
  }
 },
 "nbformat": 4,
 "nbformat_minor": 5
}
