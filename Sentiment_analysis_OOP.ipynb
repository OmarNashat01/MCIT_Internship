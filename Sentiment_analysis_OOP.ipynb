{
 "cells": [
  {
   "cell_type": "code",
   "execution_count": 1,
   "id": "2563f2d6",
   "metadata": {
    "_cell_guid": "b1076dfc-b9ad-4769-8c92-a6c4dae69d19",
    "_uuid": "8f2839f25d086af736a60e9eeb907d3b93b6e0e5",
    "execution": {
     "iopub.execute_input": "2022-09-21T14:07:34.498256Z",
     "iopub.status.busy": "2022-09-21T14:07:34.497383Z",
     "iopub.status.idle": "2022-09-21T14:07:36.801853Z",
     "shell.execute_reply": "2022-09-21T14:07:36.800194Z"
    },
    "papermill": {
     "duration": 2.312618,
     "end_time": "2022-09-21T14:07:36.804731",
     "exception": false,
     "start_time": "2022-09-21T14:07:34.492113",
     "status": "completed"
    },
    "tags": []
   },
   "outputs": [
    {
     "name": "stdout",
     "output_type": "stream",
     "text": [
      "/kaggle/input/amazon-alexa-reviews/amazon_alexa.tsv\n",
      "(3150, 5)\n"
     ]
    },
    {
     "data": {
      "text/html": [
       "<div>\n",
       "<style scoped>\n",
       "    .dataframe tbody tr th:only-of-type {\n",
       "        vertical-align: middle;\n",
       "    }\n",
       "\n",
       "    .dataframe tbody tr th {\n",
       "        vertical-align: top;\n",
       "    }\n",
       "\n",
       "    .dataframe thead th {\n",
       "        text-align: right;\n",
       "    }\n",
       "</style>\n",
       "<table border=\"1\" class=\"dataframe\">\n",
       "  <thead>\n",
       "    <tr style=\"text-align: right;\">\n",
       "      <th></th>\n",
       "      <th>rating</th>\n",
       "      <th>date</th>\n",
       "      <th>variation</th>\n",
       "      <th>verified_reviews</th>\n",
       "      <th>feedback</th>\n",
       "    </tr>\n",
       "  </thead>\n",
       "  <tbody>\n",
       "    <tr>\n",
       "      <th>0</th>\n",
       "      <td>5</td>\n",
       "      <td>31-Jul-18</td>\n",
       "      <td>Charcoal Fabric</td>\n",
       "      <td>Love my Echo!</td>\n",
       "      <td>1</td>\n",
       "    </tr>\n",
       "    <tr>\n",
       "      <th>1</th>\n",
       "      <td>5</td>\n",
       "      <td>31-Jul-18</td>\n",
       "      <td>Charcoal Fabric</td>\n",
       "      <td>Loved it!</td>\n",
       "      <td>1</td>\n",
       "    </tr>\n",
       "    <tr>\n",
       "      <th>2</th>\n",
       "      <td>4</td>\n",
       "      <td>31-Jul-18</td>\n",
       "      <td>Walnut Finish</td>\n",
       "      <td>Sometimes while playing a game, you can answer...</td>\n",
       "      <td>1</td>\n",
       "    </tr>\n",
       "    <tr>\n",
       "      <th>3</th>\n",
       "      <td>5</td>\n",
       "      <td>31-Jul-18</td>\n",
       "      <td>Charcoal Fabric</td>\n",
       "      <td>I have had a lot of fun with this thing. My 4 ...</td>\n",
       "      <td>1</td>\n",
       "    </tr>\n",
       "    <tr>\n",
       "      <th>4</th>\n",
       "      <td>5</td>\n",
       "      <td>31-Jul-18</td>\n",
       "      <td>Charcoal Fabric</td>\n",
       "      <td>Music</td>\n",
       "      <td>1</td>\n",
       "    </tr>\n",
       "  </tbody>\n",
       "</table>\n",
       "</div>"
      ],
      "text/plain": [
       "   rating       date         variation  \\\n",
       "0       5  31-Jul-18  Charcoal Fabric    \n",
       "1       5  31-Jul-18  Charcoal Fabric    \n",
       "2       4  31-Jul-18    Walnut Finish    \n",
       "3       5  31-Jul-18  Charcoal Fabric    \n",
       "4       5  31-Jul-18  Charcoal Fabric    \n",
       "\n",
       "                                    verified_reviews  feedback  \n",
       "0                                      Love my Echo!         1  \n",
       "1                                          Loved it!         1  \n",
       "2  Sometimes while playing a game, you can answer...         1  \n",
       "3  I have had a lot of fun with this thing. My 4 ...         1  \n",
       "4                                              Music         1  "
      ]
     },
     "execution_count": 1,
     "metadata": {},
     "output_type": "execute_result"
    }
   ],
   "source": [
    "#!pip install nltk\n",
    "\n",
    "\n",
    "\n",
    "# Import the required libraires\n",
    "import numpy as np\n",
    "import pandas as pd\n",
    "\n",
    "# visualization libraries\n",
    "import matplotlib.pyplot as plt\n",
    "import seaborn as sns\n",
    "%matplotlib inline\n",
    "\n",
    "import re\n",
    "\n",
    "# Pre-processing library\n",
    "import nltk\n",
    "from nltk.corpus import stopwords\n",
    "from nltk.stem import WordNetLemmatizer\n",
    "# nltk.download('stopwords')\n",
    "# nltk.download('wordnet')\n",
    "# nltk.download('omw-1.4')\n",
    "\n",
    "\n",
    "from sklearn.feature_extraction.text import TfidfVectorizer\n",
    "\n",
    "\n",
    "from sklearn.model_selection import train_test_split\n",
    "\n",
    "# Models \n",
    "from sklearn import svm\n",
    "from sklearn.ensemble import RandomForestClassifier\n",
    "from sklearn.linear_model import LogisticRegression\n",
    "from sklearn.pipeline import Pipeline\n",
    "\n",
    "\n",
    "\n",
    "import os\n",
    "for dirname, _, filenames in os.walk('/kaggle/input'):\n",
    "    for filename in filenames:\n",
    "        print(os.path.join(dirname, filename))\n",
    "\n",
    "df = pd.read_csv(\"/kaggle/input/amazon-alexa-reviews/amazon_alexa.tsv\",sep=\"\\t\")\n",
    "print(df.shape)\n",
    "df.head()"
   ]
  },
  {
   "cell_type": "code",
   "execution_count": 2,
   "id": "5dc2092c",
   "metadata": {
    "execution": {
     "iopub.execute_input": "2022-09-21T14:07:36.812593Z",
     "iopub.status.busy": "2022-09-21T14:07:36.812136Z",
     "iopub.status.idle": "2022-09-21T14:07:36.846029Z",
     "shell.execute_reply": "2022-09-21T14:07:36.844515Z"
    },
    "papermill": {
     "duration": 0.040836,
     "end_time": "2022-09-21T14:07:36.848763",
     "exception": false,
     "start_time": "2022-09-21T14:07:36.807927",
     "status": "completed"
    },
    "tags": []
   },
   "outputs": [
    {
     "name": "stdout",
     "output_type": "stream",
     "text": [
      "       verified_reviews     feedback\n",
      "count              2301  2301.000000\n",
      "unique             2301          NaN\n",
      "top       Love my Echo!          NaN\n",
      "freq                  1          NaN\n",
      "mean                NaN     0.910474\n",
      "std                 NaN     0.285564\n",
      "min                 NaN     0.000000\n",
      "25%                 NaN     1.000000\n",
      "50%                 NaN     1.000000\n",
      "75%                 NaN     1.000000\n",
      "max                 NaN     1.000000\n"
     ]
    }
   ],
   "source": [
    "# Drop unrelated columns\n",
    "df = df.drop(['date','variation','rating'],axis=1)\n",
    "df = df.drop_duplicates('verified_reviews')\n",
    "print(df.describe(include='all'))\n"
   ]
  },
  {
   "cell_type": "code",
   "execution_count": 3,
   "id": "04a953ec",
   "metadata": {
    "execution": {
     "iopub.execute_input": "2022-09-21T14:07:36.856717Z",
     "iopub.status.busy": "2022-09-21T14:07:36.856029Z",
     "iopub.status.idle": "2022-09-21T14:07:36.868886Z",
     "shell.execute_reply": "2022-09-21T14:07:36.867773Z"
    },
    "papermill": {
     "duration": 0.019433,
     "end_time": "2022-09-21T14:07:36.871275",
     "exception": false,
     "start_time": "2022-09-21T14:07:36.851842",
     "status": "completed"
    },
    "tags": []
   },
   "outputs": [],
   "source": [
    "class ml_model():\n",
    "\n",
    "    \n",
    "    def __init__(self,vectorizer='tfidf',model='svm'):\n",
    "        if vectorizer == 'tfidf':\n",
    "            self.vectorizer = TfidfVectorizer()\n",
    "        if model == 'svm':\n",
    "            self.model = svm.SVC()\n",
    "            \n",
    "        self.pipeline = Pipeline([ ('vectorizer', self.vectorizer), ('model',self.model)]) \n",
    "        self.model = model\n",
    "        \n",
    "        self.stopwords = set(stopwords.words('english'))\n",
    "        self.stopwords.remove('not')\n",
    "        self.stopwords.remove('nor')\n",
    "        \n",
    "        \n",
    "    def load_data(self, df):\n",
    "        self.df = df.copy()\n",
    "    \n",
    "    def clean_review(self, review):\n",
    "        review = review.lower()\n",
    "        review = re.sub(\"[^A-Za-z0-9]\",' ',review)\n",
    "        review = re.sub(r'[0-9]+',' ',review)\n",
    "        review = \" \".join(WordNetLemmatizer().lemmatize(i) for i in review.split() if i not in self.stopwords)\n",
    "    \n",
    "        return review\n",
    "    \n",
    "    def preprocess(self, x, y):\n",
    "        self.data = x\n",
    "        self.result = y\n",
    "        self.data = self.data.apply(lambda rev: self.clean_review(rev))\n",
    "        \n",
    "        return self.data, self.result\n",
    "    \n",
    "    def train(self, x, y):\n",
    "        self.pipeline(self.preprocess(x,y))\n",
    "        \n",
    "        \n",
    "        "
   ]
  },
  {
   "cell_type": "code",
   "execution_count": 4,
   "id": "f55ac897",
   "metadata": {
    "execution": {
     "iopub.execute_input": "2022-09-21T14:07:36.879980Z",
     "iopub.status.busy": "2022-09-21T14:07:36.878659Z",
     "iopub.status.idle": "2022-09-21T14:07:36.886392Z",
     "shell.execute_reply": "2022-09-21T14:07:36.885391Z"
    },
    "papermill": {
     "duration": 0.014512,
     "end_time": "2022-09-21T14:07:36.888858",
     "exception": false,
     "start_time": "2022-09-21T14:07:36.874346",
     "status": "completed"
    },
    "tags": []
   },
   "outputs": [],
   "source": [
    "x_train, x_test ,y_train,y_test = train_test_split(df['verified_reviews'],df['feedback'],test_size=0.2,random_state=42)"
   ]
  },
  {
   "cell_type": "code",
   "execution_count": 5,
   "id": "01822949",
   "metadata": {
    "execution": {
     "iopub.execute_input": "2022-09-21T14:07:36.896638Z",
     "iopub.status.busy": "2022-09-21T14:07:36.896160Z",
     "iopub.status.idle": "2022-09-21T14:07:36.908136Z",
     "shell.execute_reply": "2022-09-21T14:07:36.906873Z"
    },
    "papermill": {
     "duration": 0.018878,
     "end_time": "2022-09-21T14:07:36.910808",
     "exception": false,
     "start_time": "2022-09-21T14:07:36.891930",
     "status": "completed"
    },
    "tags": []
   },
   "outputs": [],
   "source": [
    "mymodel = ml_model('tfidf', 'svm')\n",
    "#mymodel.train(x_train, y_train)"
   ]
  },
  {
   "cell_type": "code",
   "execution_count": null,
   "id": "a7c21581",
   "metadata": {
    "papermill": {
     "duration": 0.002685,
     "end_time": "2022-09-21T14:07:36.916691",
     "exception": false,
     "start_time": "2022-09-21T14:07:36.914006",
     "status": "completed"
    },
    "tags": []
   },
   "outputs": [],
   "source": []
  },
  {
   "cell_type": "code",
   "execution_count": null,
   "id": "bd50113d",
   "metadata": {
    "papermill": {
     "duration": 0.002574,
     "end_time": "2022-09-21T14:07:36.922145",
     "exception": false,
     "start_time": "2022-09-21T14:07:36.919571",
     "status": "completed"
    },
    "tags": []
   },
   "outputs": [],
   "source": []
  }
 ],
 "metadata": {
  "kernelspec": {
   "display_name": "Python 3",
   "language": "python",
   "name": "python3"
  },
  "language_info": {
   "codemirror_mode": {
    "name": "ipython",
    "version": 3
   },
   "file_extension": ".py",
   "mimetype": "text/x-python",
   "name": "python",
   "nbconvert_exporter": "python",
   "pygments_lexer": "ipython3",
   "version": "3.7.12"
  },
  "papermill": {
   "default_parameters": {},
   "duration": 12.900283,
   "end_time": "2022-09-21T14:07:37.747786",
   "environment_variables": {},
   "exception": null,
   "input_path": "__notebook__.ipynb",
   "output_path": "__notebook__.ipynb",
   "parameters": {},
   "start_time": "2022-09-21T14:07:24.847503",
   "version": "2.3.4"
  }
 },
 "nbformat": 4,
 "nbformat_minor": 5
}
