{
 "cells": [
  {
   "cell_type": "code",
   "execution_count": 135,
   "id": "2563f2d6",
   "metadata": {
    "_cell_guid": "b1076dfc-b9ad-4769-8c92-a6c4dae69d19",
    "_uuid": "8f2839f25d086af736a60e9eeb907d3b93b6e0e5",
    "colab": {
     "base_uri": "https://localhost:8080/",
     "height": 362
    },
    "execution": {
     "iopub.execute_input": "2022-09-21T14:07:34.498256Z",
     "iopub.status.busy": "2022-09-21T14:07:34.497383Z",
     "iopub.status.idle": "2022-09-21T14:07:36.801853Z",
     "shell.execute_reply": "2022-09-21T14:07:36.800194Z"
    },
    "id": "2563f2d6",
    "outputId": "76273c6d-1708-4c68-ed49-efdb72e0083a",
    "papermill": {
     "duration": 2.312618,
     "end_time": "2022-09-21T14:07:36.804731",
     "exception": false,
     "start_time": "2022-09-21T14:07:34.492113",
     "status": "completed"
    },
    "tags": []
   },
   "outputs": [
    {
     "name": "stdout",
     "output_type": "stream",
     "text": [
      "(3150, 5)\n"
     ]
    },
    {
     "name": "stderr",
     "output_type": "stream",
     "text": [
      "[nltk_data] Downloading package stopwords to\n",
      "[nltk_data]     C:\\Users\\sicom\\AppData\\Roaming\\nltk_data...\n",
      "[nltk_data]   Package stopwords is already up-to-date!\n",
      "[nltk_data] Downloading package wordnet to\n",
      "[nltk_data]     C:\\Users\\sicom\\AppData\\Roaming\\nltk_data...\n",
      "[nltk_data]   Package wordnet is already up-to-date!\n",
      "[nltk_data] Downloading package omw-1.4 to\n",
      "[nltk_data]     C:\\Users\\sicom\\AppData\\Roaming\\nltk_data...\n",
      "[nltk_data]   Package omw-1.4 is already up-to-date!\n",
      "[nltk_data] Downloading package punkt to\n",
      "[nltk_data]     C:\\Users\\sicom\\AppData\\Roaming\\nltk_data...\n",
      "[nltk_data]   Package punkt is already up-to-date!\n"
     ]
    },
    {
     "data": {
      "text/html": [
       "<div>\n",
       "<style scoped>\n",
       "    .dataframe tbody tr th:only-of-type {\n",
       "        vertical-align: middle;\n",
       "    }\n",
       "\n",
       "    .dataframe tbody tr th {\n",
       "        vertical-align: top;\n",
       "    }\n",
       "\n",
       "    .dataframe thead th {\n",
       "        text-align: right;\n",
       "    }\n",
       "</style>\n",
       "<table border=\"1\" class=\"dataframe\">\n",
       "  <thead>\n",
       "    <tr style=\"text-align: right;\">\n",
       "      <th></th>\n",
       "      <th>rating</th>\n",
       "      <th>date</th>\n",
       "      <th>variation</th>\n",
       "      <th>verified_reviews</th>\n",
       "      <th>feedback</th>\n",
       "    </tr>\n",
       "  </thead>\n",
       "  <tbody>\n",
       "    <tr>\n",
       "      <th>0</th>\n",
       "      <td>5</td>\n",
       "      <td>31-Jul-18</td>\n",
       "      <td>Charcoal Fabric</td>\n",
       "      <td>Love my Echo!</td>\n",
       "      <td>1</td>\n",
       "    </tr>\n",
       "    <tr>\n",
       "      <th>1</th>\n",
       "      <td>5</td>\n",
       "      <td>31-Jul-18</td>\n",
       "      <td>Charcoal Fabric</td>\n",
       "      <td>Loved it!</td>\n",
       "      <td>1</td>\n",
       "    </tr>\n",
       "    <tr>\n",
       "      <th>2</th>\n",
       "      <td>4</td>\n",
       "      <td>31-Jul-18</td>\n",
       "      <td>Walnut Finish</td>\n",
       "      <td>Sometimes while playing a game, you can answer...</td>\n",
       "      <td>1</td>\n",
       "    </tr>\n",
       "    <tr>\n",
       "      <th>3</th>\n",
       "      <td>5</td>\n",
       "      <td>31-Jul-18</td>\n",
       "      <td>Charcoal Fabric</td>\n",
       "      <td>I have had a lot of fun with this thing. My 4 ...</td>\n",
       "      <td>1</td>\n",
       "    </tr>\n",
       "    <tr>\n",
       "      <th>4</th>\n",
       "      <td>5</td>\n",
       "      <td>31-Jul-18</td>\n",
       "      <td>Charcoal Fabric</td>\n",
       "      <td>Music</td>\n",
       "      <td>1</td>\n",
       "    </tr>\n",
       "  </tbody>\n",
       "</table>\n",
       "</div>"
      ],
      "text/plain": [
       "   rating       date         variation  \\\n",
       "0       5  31-Jul-18  Charcoal Fabric    \n",
       "1       5  31-Jul-18  Charcoal Fabric    \n",
       "2       4  31-Jul-18    Walnut Finish    \n",
       "3       5  31-Jul-18  Charcoal Fabric    \n",
       "4       5  31-Jul-18  Charcoal Fabric    \n",
       "\n",
       "                                    verified_reviews  feedback  \n",
       "0                                      Love my Echo!         1  \n",
       "1                                          Loved it!         1  \n",
       "2  Sometimes while playing a game, you can answer...         1  \n",
       "3  I have had a lot of fun with this thing. My 4 ...         1  \n",
       "4                                              Music         1  "
      ]
     },
     "execution_count": 135,
     "metadata": {},
     "output_type": "execute_result"
    }
   ],
   "source": [
    "#!pip install nltk\n",
    "\n",
    "\n",
    "from imblearn.over_sampling import SMOTE\n",
    "\n",
    "# Import the required libraires\n",
    "import numpy as np\n",
    "import pandas as pd\n",
    "\n",
    "# visualization libraries\n",
    "import matplotlib.pyplot as plt\n",
    "\n",
    "%matplotlib inline\n",
    "\n",
    "import re\n",
    "\n",
    "# Pre-processing library\n",
    "import nltk\n",
    "import gensim\n",
    "from nltk.corpus import stopwords\n",
    "from nltk.stem import WordNetLemmatizer\n",
    "from nltk.tokenize import word_tokenize\n",
    "nltk.download('stopwords')\n",
    "nltk.download('wordnet')\n",
    "nltk.download('omw-1.4')\n",
    "nltk.download('punkt')\n",
    "\n",
    "from sklearn.feature_extraction.text import TfidfVectorizer\n",
    "\n",
    "\n",
    "from sklearn.metrics import accuracy_score, f1_score, precision_score, recall_score, classification_report, confusion_matrix, roc_auc_score, roc_curve, auc\n",
    "from sklearn.model_selection import train_test_split\n",
    "\n",
    "# Models \n",
    "from sklearn import svm\n",
    "from sklearn.naive_bayes import GaussianNB\n",
    "from sklearn.ensemble import RandomForestClassifier\n",
    "from sklearn.linear_model import LogisticRegression\n",
    "from sklearn.pipeline import Pipeline\n",
    "from xgboost import XGBClassifier\n",
    "\n",
    "\n",
    "\n",
    "# import os\n",
    "# for dirname, _, filenames in os.walk('/kaggle/input'):\n",
    "#     for filename in filenames:\n",
    "#         print(os.path.join(dirname, filename))\n",
    "\n",
    "# df = pd.read_csv(\"/kaggle/input/amazon-alexa-reviews/amazon_alexa.tsv\",sep=\"\\t\")\n",
    "df = pd.read_csv('./data/amazon_alexa.tsv', sep='\\t')\n",
    "print(df.shape)\n",
    "df.head()"
   ]
  },
  {
   "cell_type": "code",
   "execution_count": 136,
   "id": "5dc2092c",
   "metadata": {
    "colab": {
     "base_uri": "https://localhost:8080/"
    },
    "execution": {
     "iopub.execute_input": "2022-09-21T14:07:36.812593Z",
     "iopub.status.busy": "2022-09-21T14:07:36.812136Z",
     "iopub.status.idle": "2022-09-21T14:07:36.846029Z",
     "shell.execute_reply": "2022-09-21T14:07:36.844515Z"
    },
    "id": "5dc2092c",
    "outputId": "ca9cc475-1c0a-4936-8138-f238b790cd18",
    "papermill": {
     "duration": 0.040836,
     "end_time": "2022-09-21T14:07:36.848763",
     "exception": false,
     "start_time": "2022-09-21T14:07:36.807927",
     "status": "completed"
    },
    "tags": []
   },
   "outputs": [
    {
     "name": "stdout",
     "output_type": "stream",
     "text": [
      "       verified_reviews     feedback\n",
      "count              2301  2301.000000\n",
      "unique             2301          NaN\n",
      "top       Love my Echo!          NaN\n",
      "freq                  1          NaN\n",
      "mean                NaN     0.910474\n",
      "std                 NaN     0.285564\n",
      "min                 NaN     0.000000\n",
      "25%                 NaN     1.000000\n",
      "50%                 NaN     1.000000\n",
      "75%                 NaN     1.000000\n",
      "max                 NaN     1.000000\n",
      "<class 'pandas.core.frame.DataFrame'>\n",
      "Int64Index: 2301 entries, 0 to 2800\n",
      "Data columns (total 2 columns):\n",
      " #   Column            Non-Null Count  Dtype \n",
      "---  ------            --------------  ----- \n",
      " 0   verified_reviews  2301 non-null   object\n",
      " 1   feedback          2301 non-null   int64 \n",
      "dtypes: int64(1), object(1)\n",
      "memory usage: 53.9+ KB\n"
     ]
    }
   ],
   "source": [
    "# Drop unrelated columns\n",
    "df = df.drop(['date','variation','rating'],axis=1)\n",
    "df = df.drop_duplicates('verified_reviews')\n",
    "print(df.describe(include='all'))\n",
    "df.info()\n"
   ]
  },
  {
   "cell_type": "code",
   "execution_count": 137,
   "id": "04a953ec",
   "metadata": {
    "execution": {
     "iopub.execute_input": "2022-09-21T14:07:36.856717Z",
     "iopub.status.busy": "2022-09-21T14:07:36.856029Z",
     "iopub.status.idle": "2022-09-21T14:07:36.868886Z",
     "shell.execute_reply": "2022-09-21T14:07:36.867773Z"
    },
    "id": "04a953ec",
    "papermill": {
     "duration": 0.019433,
     "end_time": "2022-09-21T14:07:36.871275",
     "exception": false,
     "start_time": "2022-09-21T14:07:36.851842",
     "status": "completed"
    },
    "tags": []
   },
   "outputs": [],
   "source": [
    "class ml_model():\n",
    "\n",
    "    def __init__(self,  model='xgboost',vectorizer='tfidf'):\n",
    "        \n",
    "        self.vectorizer_type = vectorizer    \n",
    "        if vectorizer == 'tfidf':\n",
    "            self.vectorizer = TfidfVectorizer()\n",
    "        elif vectorizer == 'word2vec':\n",
    "            self.vectorizer = gensim.models.Word2Vec(min_count=2,\n",
    "                     vector_size=5000)\n",
    "            \n",
    "        self.model_type = model\n",
    "        if model == 'xgboost':\n",
    "            self.model = XGBClassifier(random_state=42, seed=2, colsample_bytree=0.9, subsample=0.7,learning_rate=0.0000000005)\n",
    "        elif model == 'svm':\n",
    "            self.model = svm.SVC(class_weight='balanced')\n",
    "        elif model == 'rfc':\n",
    "            self.model = RandomForestClassifier(class_weight='balanced')\n",
    "        elif model == 'nb':\n",
    "            self.model = GaussianNB()\n",
    "            \n",
    "#         self.pipeline = Pipeline([ ('vectorizer', self.vectorizer), ('model',self.model)]) \n",
    "\n",
    "        \n",
    "        self.stopwords = set(stopwords.words('english'))\n",
    "        self.stopwords.remove('not')\n",
    "        self.stopwords.add('')\n",
    "#         self.stopwords.remove('nor')\n",
    "        \n",
    "        \n",
    "    def load_data(self, df):\n",
    "        self.df = df.copy()\n",
    "    \n",
    "    def clean_review(self, review):\n",
    "        review = word_tokenize(review)\n",
    "        review = [rev.lower() for rev in review]\n",
    "        review = [re.sub(\"[^A-Za-z0-9]\",' ',rev) for rev in review]\n",
    "        review = [re.sub(r'[0-9]+',' ',rev) for rev in review]\n",
    "        review = \" \".join(WordNetLemmatizer().lemmatize(i) for i in review if i not in self.stopwords)\n",
    "        \n",
    "        if self.vectorizer_type == 'tfidf':\n",
    "            return review\n",
    "        else:\n",
    "            return review.split()\n",
    "\n",
    "    def preprocess(self, x):\n",
    "        self.data = [self.clean_review(rev) for rev in x]\n",
    "        \n",
    "        return self.data\n",
    "    \n",
    "    def vectorize_data(self, x):\n",
    "        if self.vectorizer_type == 'tfidf':\n",
    "            return self.vectorizer.transform(x)\n",
    "        elif self.vectorizer_type == 'word2vec':\n",
    "            x = [self.vectorizer.wv[i] for i in x]\n",
    "            return x\n",
    "        \n",
    "        \n",
    "    def train(self, x, y):\n",
    "        x = self.preprocess(x)\n",
    "        \n",
    "        if self.vectorizer_type == 'word2vec':\n",
    "            self.vectorizer.build_vocab(x, progress_per=10000)\n",
    "            self.vectorizer.train(x, total_examples=self.vectorizer.corpus_count, epochs=2)\n",
    "        else:\n",
    "            self.vectorizer.fit_transform(x)\n",
    "        x = self.vectorize_data(x)\n",
    "#         self.oversample(x,y)\n",
    "        \n",
    "        if self.model_type == 'nb':\n",
    "            self.model.fit(x.toarray(),y)\n",
    "        else:\n",
    "            self.model.fit(x,y)\n",
    "        \n",
    "    def oversample(self, x, y):\n",
    "        return SMOTE().fit_resample(x,y)\n",
    "        \n",
    "    def score(self, x_test, y_test,score=True):\n",
    "        x_test = self.preprocess(x_test)\n",
    "        \n",
    "        x_test = self.vectorize_data(x_test)\n",
    "        \n",
    "        if self.model_type == 'nb':\n",
    "            y_pred = self.model.predict(x_test.toarray())\n",
    "        else:\n",
    "            y_pred = self.model.predict(x_test)\n",
    "        \n",
    "        if score:\n",
    "            print(f'Confusion matrix: \\n{confusion_matrix(y_test, y_pred)}\\n')\n",
    "            print(f'The F1 score is: {f1_score(y_test, y_pred, average=\"macro\")*100}')\n",
    "            print(f'The precision score is: {precision_score(y_test, y_pred, average=\"macro\")*(100)}')\n",
    "            print(f'The recall score is: {recall_score(y_test, y_pred, average=\"macro\")*100}') \n",
    "            print(f'The accuracy score is: {accuracy_score(y_test, y_pred)*100}\\n\\n\\n')\n",
    "\n",
    "        print(f'AUC score is: {roc_auc_score(y_test,y_pred)}')\n",
    "        \n",
    "        return y_pred\n",
    "        \n",
    "    def predict(self, x):\n",
    "        x = self.clean_review(x)\n",
    "        \n",
    "        x = self.vectorize_data([x])\n",
    "        \n",
    "        return(self.model.predict(x))\n",
    "    \n",
    "    def get_params(self):\n",
    "        return self.pipeline.get_params()\n",
    "    \n",
    "    def draw_roc(self, x, y,score=False):\n",
    "        \n",
    "        \n",
    "        y_pred = self.score(x,y,score)\n",
    "        \n",
    "        clf_fpr, clf_tpr, threshold = roc_curve(y, y_pred)\n",
    "        auc_clf = auc(clf_fpr, clf_tpr)\n",
    "        \n",
    "        plt.figure(figsize=(5, 5), dpi=100)\n",
    "        plt.plot(clf_fpr, clf_tpr, linestyle='-', label='clf (auc = %0.3f)' % auc_clf)\n",
    "\n",
    "        plt.xlabel('False Positive Rate -->')\n",
    "        plt.ylabel('True Positive Rate -->')\n",
    "\n",
    "        plt.legend()\n",
    "\n",
    "        plt.show()\n",
    "        "
   ]
  },
  {
   "cell_type": "code",
   "execution_count": 138,
   "id": "f55ac897",
   "metadata": {
    "execution": {
     "iopub.execute_input": "2022-09-21T14:07:36.879980Z",
     "iopub.status.busy": "2022-09-21T14:07:36.878659Z",
     "iopub.status.idle": "2022-09-21T14:07:36.886392Z",
     "shell.execute_reply": "2022-09-21T14:07:36.885391Z"
    },
    "id": "f55ac897",
    "papermill": {
     "duration": 0.014512,
     "end_time": "2022-09-21T14:07:36.888858",
     "exception": false,
     "start_time": "2022-09-21T14:07:36.874346",
     "status": "completed"
    },
    "tags": []
   },
   "outputs": [],
   "source": [
    "x_train, x_test ,y_train,y_test = train_test_split(df['verified_reviews'],df['feedback'],test_size=0.2,random_state=42, stratify=df['feedback'])"
   ]
  },
  {
   "cell_type": "code",
   "execution_count": 139,
   "id": "01822949",
   "metadata": {
    "colab": {
     "base_uri": "https://localhost:8080/"
    },
    "execution": {
     "iopub.execute_input": "2022-09-21T14:07:36.896638Z",
     "iopub.status.busy": "2022-09-21T14:07:36.896160Z",
     "iopub.status.idle": "2022-09-21T14:07:36.908136Z",
     "shell.execute_reply": "2022-09-21T14:07:36.906873Z"
    },
    "id": "01822949",
    "outputId": "8ecf3990-4a46-4e8a-c0c4-b8538153da3a",
    "papermill": {
     "duration": 0.018878,
     "end_time": "2022-09-21T14:07:36.910808",
     "exception": false,
     "start_time": "2022-09-21T14:07:36.891930",
     "status": "completed"
    },
    "tags": []
   },
   "outputs": [],
   "source": [
    "\n",
    "mymodel1 = ml_model('xgboost','tfidf')\n",
    "mymodel1.train(x_train, y_train)\n",
    "\n",
    "mymodel2 = ml_model('svm', 'tfidf')\n",
    "mymodel2.train(x_train, y_train)"
   ]
  },
  {
   "cell_type": "code",
   "execution_count": 140,
   "id": "a7c21581",
   "metadata": {
    "colab": {
     "base_uri": "https://localhost:8080/"
    },
    "id": "a7c21581",
    "outputId": "d935dbee-9602-4a1e-d80b-f936cf6f71ae",
    "papermill": {
     "duration": 0.002685,
     "end_time": "2022-09-21T14:07:36.916691",
     "exception": false,
     "start_time": "2022-09-21T14:07:36.914006",
     "status": "completed"
    },
    "tags": []
   },
   "outputs": [
    {
     "name": "stdout",
     "output_type": "stream",
     "text": [
      "AUC score is: 0.7072590011614401\n"
     ]
    },
    {
     "data": {
      "image/png": "[encoded data removed]",
      "text/plain": [
       "<Figure size 500x500 with 1 Axes>"
      ]
     },
     "metadata": {},
     "output_type": "display_data"
    },
    {
     "name": "stdout",
     "output_type": "stream",
     "text": [
      "AUC score is: 0.5806039488966318\n"
     ]
    },
    {
     "data": {
      "image/png": "[encoded data removed]",
      "text/plain": [
       "<Figure size 500x500 with 1 Axes>"
      ]
     },
     "metadata": {},
     "output_type": "display_data"
    }
   ],
   "source": [
    "mymodel1.draw_roc(x_test,y_test)\n",
    "mymodel2.draw_roc(x_test,y_test)"
   ]
  },
  {
   "cell_type": "code",
   "execution_count": 141,
   "id": "bd50113d",
   "metadata": {
    "id": "bd50113d",
    "papermill": {
     "duration": 0.002574,
     "end_time": "2022-09-21T14:07:36.922145",
     "exception": false,
     "start_time": "2022-09-21T14:07:36.919571",
     "status": "completed"
    },
    "tags": []
   },
   "outputs": [
    {
     "name": "stdout",
     "output_type": "stream",
     "text": [
      "[1]\n"
     ]
    }
   ],
   "source": [
    "print(mymodel1.predict('love it'))"
   ]
  },
  {
   "cell_type": "code",
   "execution_count": 142,
   "id": "a0bd2d52",
   "metadata": {},
   "outputs": [],
   "source": [
    "import pickle\n",
    "\n",
    "pickle.dump(mymodel1,open('model','wb'))"
   ]
  },
  {
   "cell_type": "code",
   "execution_count": 143,
   "id": "edbc7edb",
   "metadata": {},
   "outputs": [],
   "source": [
    "predict = pickle.load(open('model','rb'))"
   ]
  },
  {
   "cell_type": "code",
   "execution_count": 145,
   "id": "af7ff17e",
   "metadata": {},
   "outputs": [
    {
     "name": "stdout",
     "output_type": "stream",
     "text": [
      "[0]\n"
     ]
    }
   ],
   "source": [
    "print(predict.predict('terrible it'))"
   ]
  },
  {
   "cell_type": "code",
   "execution_count": null,
   "id": "8e11ac89",
   "metadata": {},
   "outputs": [],
   "source": []
  }
 ],
 "metadata": {
  "accelerator": "GPU",
  "colab": {
   "provenance": []
  },
  "kernelspec": {
   "display_name": "Python 3 (ipykernel)",
   "language": "python",
   "name": "python3"
  },
  "language_info": {
   "codemirror_mode": {
    "name": "ipython",
    "version": 3
   },
   "file_extension": ".py",
   "mimetype": "text/x-python",
   "name": "python",
   "nbconvert_exporter": "python",
   "pygments_lexer": "ipython3",
   "version": "3.10.5"
  },
  "papermill": {
   "default_parameters": {},
   "duration": 12.900283,
   "end_time": "2022-09-21T14:07:37.747786",
   "environment_variables": {},
   "exception": null,
   "input_path": "__notebook__.ipynb",
   "output_path": "__notebook__.ipynb",
   "parameters": {},
   "start_time": "2022-09-21T14:07:24.847503",
   "version": "2.3.4"
  }
 },
 "nbformat": 4,
 "nbformat_minor": 5
}
